{
 "cells": [
  {
   "cell_type": "markdown",
   "metadata": {
    "toc": "true"
   },
   "source": [
    "<h1>Table of Contents<span class=\"tocSkip\"></span></h1>\n",
    "<div class=\"toc\"><ul class=\"toc-item\"><li><span><a href=\"#Notebooks\" data-toc-modified-id=\"Notebooks-1\"><span class=\"toc-item-num\">1&nbsp;&nbsp;</span>Notebooks</a></span><ul class=\"toc-item\"><li><span><a href=\"#Load\" data-toc-modified-id=\"Load-1.1\"><span class=\"toc-item-num\">1.1&nbsp;&nbsp;</span>Load</a></span></li><li><span><a href=\"#Mark-false-positive-notebooks-and-notebooks-with-broken-format\" data-toc-modified-id=\"Mark-false-positive-notebooks-and-notebooks-with-broken-format-1.2\"><span class=\"toc-item-num\">1.2&nbsp;&nbsp;</span>Mark false-positive notebooks and notebooks with broken format</a></span></li><li><span><a href=\"#Mark-empty-notebooks\" data-toc-modified-id=\"Mark-empty-notebooks-1.3\"><span class=\"toc-item-num\">1.3&nbsp;&nbsp;</span>Mark empty notebooks</a></span></li><li><span><a href=\"#Mark-fork-duplicates\" data-toc-modified-id=\"Mark-fork-duplicates-1.4\"><span class=\"toc-item-num\">1.4&nbsp;&nbsp;</span>Mark fork duplicates</a></span></li><li><span><a href=\"#Mark-duplicates\" data-toc-modified-id=\"Mark-duplicates-1.5\"><span class=\"toc-item-num\">1.5&nbsp;&nbsp;</span>Mark duplicates</a></span></li><li><span><a href=\"#Mark-restricted-toy\" data-toc-modified-id=\"Mark-restricted-toy-1.6\"><span class=\"toc-item-num\">1.6&nbsp;&nbsp;</span>Mark restricted toy</a></span></li><li><span><a href=\"#Mark-toy-examples\" data-toc-modified-id=\"Mark-toy-examples-1.7\"><span class=\"toc-item-num\">1.7&nbsp;&nbsp;</span>Mark toy examples</a></span></li></ul></li></ul></div>"
   ]
  },
  {
   "cell_type": "markdown",
   "metadata": {},
   "source": [
    "# Notebooks\n",
    "\n",
    "Analyze notebooks: programming languages, python version, number of cells by notebookk, and notebook names."
   ]
  },
  {
   "cell_type": "code",
   "execution_count": 1,
   "metadata": {},
   "outputs": [],
   "source": [
    "import sys\n",
    "sys.path.insert(0, '../archaeology')\n",
    "\n",
    "from string import ascii_letters, digits\n",
    "\n",
    "import tqdm\n",
    "\n",
    "import numpy as np\n",
    "import pandas as pd\n",
    "\n",
    "from db import connect\n",
    "\n",
    "import analysis_helpers, importlib\n",
    "importlib.reload(analysis_helpers)\n",
    "from analysis_helpers import load_vars, var, relative_var\n",
    "\n",
    "def elite(column):\n",
    "    column = column.dropna()\n",
    "    column = column[column > 0]\n",
    "    q1 = column.quantile(0.25)\n",
    "    q3 = column.quantile(0.75)\n",
    "    iqr = q3 - q1\n",
    "    return q3 + 1.5*iqr\n",
    "\n",
    "%matplotlib inline"
   ]
  },
  {
   "cell_type": "markdown",
   "metadata": {},
   "source": [
    "## Load"
   ]
  },
  {
   "cell_type": "code",
   "execution_count": 2,
   "metadata": {},
   "outputs": [
    {
     "name": "stdout",
     "output_type": "stream",
     "text": [
      "Query repositories\n"
     ]
    }
   ],
   "source": [
    "with connect() as session:\n",
    "    print(\"Query repositories\")\n",
    "    repositories = pd.read_sql_table(\"repositories\", session.connection())"
   ]
  },
  {
   "cell_type": "code",
   "execution_count": 3,
   "metadata": {},
   "outputs": [
    {
     "name": "stdout",
     "output_type": "stream",
     "text": [
      "Query Notebooks\n"
     ]
    }
   ],
   "source": [
    "with connect() as session:\n",
    "    print(\"Query Notebooks\")\n",
    "    notebooks = pd.read_sql_table(\"notebooks\", session.connection())"
   ]
  },
  {
   "cell_type": "code",
   "execution_count": 4,
   "metadata": {},
   "outputs": [
    {
     "name": "stdout",
     "output_type": "stream",
     "text": [
      "Query repository updates\n"
     ]
    }
   ],
   "source": [
    "with connect() as session:\n",
    "    print(\"Query repository updates\")\n",
    "    repository_updates = pd.read_sql_table(\"repository_updates\", session.connection())"
   ]
  },
  {
   "cell_type": "markdown",
   "metadata": {},
   "source": [
    "Join notebooks and repository updates"
   ]
  },
  {
   "cell_type": "code",
   "execution_count": 5,
   "metadata": {},
   "outputs": [],
   "source": [
    "notebooks = notebooks.join(repository_updates.set_index(\"repository_id\"), on=\"repository_id\", rsuffix='_ru')"
   ]
  },
  {
   "cell_type": "markdown",
   "metadata": {},
   "source": [
    "Set skip = 0"
   ]
  },
  {
   "cell_type": "code",
   "execution_count": 6,
   "metadata": {},
   "outputs": [],
   "source": [
    "notebooks.loc[:, \"skip\"] = 0"
   ]
  },
  {
   "cell_type": "markdown",
   "metadata": {},
   "source": [
    "## Mark notebooks from removed repositories"
   ]
  },
  {
   "cell_type": "code",
   "execution_count": 7,
   "metadata": {},
   "outputs": [
    {
     "data": {
      "text/plain": [
       "175199"
      ]
     },
     "execution_count": 7,
     "metadata": {},
     "output_type": "execute_result"
    }
   ],
   "source": [
    "mask = notebooks[\"history_commit_date\"].isna()\n",
    "SKIP = 2048\n",
    "notebooks.loc[mask, 'skip'] = notebooks[mask]['skip'] | SKIP\n",
    "len(notebooks[np.bitwise_and(notebooks[\"skip\"], SKIP) == SKIP])"
   ]
  },
  {
   "cell_type": "markdown",
   "metadata": {},
   "source": [
    "## Mark false-positive notebooks and notebooks with broken format"
   ]
  },
  {
   "cell_type": "code",
   "execution_count": 8,
   "metadata": {},
   "outputs": [
    {
     "data": {
      "text/plain": [
       "14716"
      ]
     },
     "execution_count": 8,
     "metadata": {},
     "output_type": "execute_result"
    }
   ],
   "source": [
    "mask = ~(\n",
    "    ~((notebooks[\"kernel\"] == \"no-kernel\")\n",
    "     &(notebooks[\"nbformat\"] == \"0\"))\n",
    "    &(notebooks[\"total_cells\"] != 0)\n",
    ")\n",
    "SKIP = 1024\n",
    "notebooks.loc[mask, 'skip'] = notebooks[mask]['skip'] | SKIP\n",
    "len(notebooks[np.bitwise_and(notebooks[\"skip\"], SKIP) == SKIP])"
   ]
  },
  {
   "cell_type": "markdown",
   "metadata": {},
   "source": [
    "## Mark empty notebooks"
   ]
  },
  {
   "cell_type": "code",
   "execution_count": 9,
   "metadata": {},
   "outputs": [
    {
     "data": {
      "text/plain": [
       "26395"
      ]
     },
     "execution_count": 9,
     "metadata": {},
     "output_type": "execute_result"
    }
   ],
   "source": [
    "mask = notebooks[\"total_cells\"] == notebooks[\"empty_cells\"]\n",
    "SKIP = 512\n",
    "notebooks.loc[mask, 'skip'] = notebooks[mask]['skip'] | SKIP\n",
    "len(notebooks[np.bitwise_and(notebooks[\"skip\"], SKIP) == SKIP])"
   ]
  },
  {
   "cell_type": "markdown",
   "metadata": {},
   "source": [
    "## Mark fork duplicates"
   ]
  },
  {
   "cell_type": "markdown",
   "metadata": {},
   "source": [
    "First, prioritize non-fork notebooks and notebooks from the same repository"
   ]
  },
  {
   "cell_type": "code",
   "execution_count": 10,
   "metadata": {},
   "outputs": [],
   "source": [
    "notebooks.sort_values([\"parent_repository\", \"repository_id\", \"id\"], na_position=\"first\", inplace=True)"
   ]
  },
  {
   "cell_type": "markdown",
   "metadata": {},
   "source": [
    "Mark the notebooks"
   ]
  },
  {
   "cell_type": "code",
   "execution_count": 11,
   "metadata": {},
   "outputs": [
    {
     "data": {
      "text/plain": [
       "137181"
      ]
     },
     "execution_count": 11,
     "metadata": {},
     "output_type": "execute_result"
    }
   ],
   "source": [
    "mask = notebooks.duplicated(subset=['name', 'sha1_source'])\n",
    "SKIP = 256\n",
    "notebooks.loc[mask, 'skip'] = notebooks[mask]['skip'] | SKIP\n",
    "len(notebooks[np.bitwise_and(notebooks[\"skip\"], SKIP) == SKIP])"
   ]
  },
  {
   "cell_type": "markdown",
   "metadata": {},
   "source": [
    "## Mark duplicates"
   ]
  },
  {
   "cell_type": "code",
   "execution_count": 12,
   "metadata": {},
   "outputs": [
    {
     "data": {
      "text/plain": [
       "290312"
      ]
     },
     "execution_count": 12,
     "metadata": {},
     "output_type": "execute_result"
    }
   ],
   "source": [
    "mask = notebooks.duplicated(subset=['sha1_source'])\n",
    "SKIP = 128\n",
    "notebooks.loc[mask, 'skip'] = notebooks[mask]['skip'] | SKIP\n",
    "len(notebooks[np.bitwise_and(notebooks[\"skip\"], SKIP) == SKIP])"
   ]
  },
  {
   "cell_type": "markdown",
   "metadata": {},
   "source": [
    "## Mark restricted toy"
   ]
  },
  {
   "cell_type": "code",
   "execution_count": 13,
   "metadata": {},
   "outputs": [
    {
     "data": {
      "text/plain": [
       "106619"
      ]
     },
     "execution_count": 13,
     "metadata": {},
     "output_type": "execute_result"
    }
   ],
   "source": [
    "mask = (\n",
    "    (notebooks['homework_count'] != 0)\n",
    "    | ((notebooks['course_count'] != 0) & (\n",
    "        (notebooks['assignment_count'] != 0)\n",
    "        | (notebooks['lesson_count'] != 0)\n",
    "        | (notebooks['exercise_count'] != 0)\n",
    "    ))\n",
    ")\n",
    "SKIP = 64\n",
    "notebooks.loc[mask, 'skip'] = notebooks[mask]['skip'] | SKIP\n",
    "len(notebooks[np.bitwise_and(notebooks[\"skip\"], SKIP) == SKIP])"
   ]
  },
  {
   "cell_type": "markdown",
   "metadata": {},
   "source": [
    "## Mark toy examples"
   ]
  },
  {
   "cell_type": "code",
   "execution_count": 14,
   "metadata": {},
   "outputs": [
    {
     "data": {
      "text/plain": [
       "357590"
      ]
     },
     "execution_count": 14,
     "metadata": {},
     "output_type": "execute_result"
    }
   ],
   "source": [
    "mask = (\n",
    "    (notebooks['homework_count'] != 0)\n",
    "    | (notebooks['course_count'] != 0)\n",
    "    | (notebooks['lesson_count'] != 0)\n",
    "    | (notebooks['assignment_count'] != 0)\n",
    "    | (notebooks['exercise_count'] != 0)\n",
    ")\n",
    "SKIP = 32\n",
    "notebooks.loc[mask, 'skip'] = notebooks[mask]['skip'] | SKIP\n",
    "len(notebooks[np.bitwise_and(notebooks[\"skip\"], SKIP) == SKIP])"
   ]
  },
  {
   "cell_type": "markdown",
   "metadata": {},
   "source": [
    "## Add stars, forks and metric to notebooks"
   ]
  },
  {
   "cell_type": "code",
   "execution_count": 15,
   "metadata": {},
   "outputs": [
    {
     "name": "stdout",
     "output_type": "stream",
     "text": [
      "CPU times: user 10.4 ms, sys: 304 µs, total: 10.7 ms\n",
      "Wall time: 5.15 s\n"
     ]
    }
   ],
   "source": [
    "%%time\n",
    "with connect() as session:\n",
    "    session.execute(\"\"\"\n",
    "    UPDATE notebooks\n",
    "    set starforks = 2.0 / (1.0/ru.stargazers + 1.0/ru.forks),\n",
    "    stargazers = ru.stargazers,\n",
    "    forks = ru.forks\n",
    "    from repository_updates ru\n",
    "    where ru.repository_id = notebooks.repository_id\n",
    "    and ru.stargazers != 0\n",
    "    and ru.forks != 0\n",
    "    \"\"\")\n",
    "    session.commit()"
   ]
  },
  {
   "cell_type": "code",
   "execution_count": 16,
   "metadata": {},
   "outputs": [
    {
     "name": "stdout",
     "output_type": "stream",
     "text": [
      "CPU times: user 9.87 ms, sys: 277 µs, total: 10.1 ms\n",
      "Wall time: 14.9 s\n"
     ]
    }
   ],
   "source": [
    "%%time\n",
    "with connect() as session:\n",
    "    session.execute(\"\"\"\n",
    "    UPDATE notebooks\n",
    "    set starforks = 0,\n",
    "    stargazers = ru.stargazers,\n",
    "    forks = ru.forks\n",
    "    from repository_updates ru\n",
    "    where ru.repository_id = notebooks.repository_id\n",
    "    and (ru.stargazers = 0 or ru.forks = 0)\n",
    "    \"\"\")\n",
    "    session.commit()"
   ]
  },
  {
   "cell_type": "code",
   "execution_count": 17,
   "metadata": {},
   "outputs": [
    {
     "name": "stderr",
     "output_type": "stream",
     "text": [
      "Note: NumExpr detected 12 cores but \"NUMEXPR_MAX_THREADS\" not set, so enforcing safe limit of 8.\n",
      "NumExpr defaulting to 8 threads.\n"
     ]
    }
   ],
   "source": [
    "notebooks.loc[:, 'starforks'] = 2.0 / ((1.0 / notebooks[\"stargazers\"]) + (1.0 / notebooks[\"forks\"]))"
   ]
  },
  {
   "cell_type": "markdown",
   "metadata": {},
   "source": [
    "## Distinguish elite groups\n",
    "\n",
    "Get existing non duplicated valid notebooks (endv_notebooks)"
   ]
  },
  {
   "cell_type": "code",
   "execution_count": 18,
   "metadata": {},
   "outputs": [
    {
     "name": "stdout",
     "output_type": "stream",
     "text": [
      "CPU times: user 274 ms, sys: 709 ms, total: 983 ms\n",
      "Wall time: 15 s\n"
     ]
    }
   ],
   "source": [
    "%%time\n",
    "with connect() as session:\n",
    "    session.execute(\"\"\"\n",
    "    UPDATE notebooks\n",
    "    set sfgroup = 0;\n",
    "    \"\"\")\n",
    "    session.commit()"
   ]
  },
  {
   "cell_type": "code",
   "execution_count": 19,
   "metadata": {},
   "outputs": [],
   "source": [
    "mask = (\n",
    "    np.bitwise_and(notebooks[\"skip\"], 2048 + 1024 + 512 + 128) == 0\n",
    ")\n",
    "endv_notebooks = notebooks[mask]\n"
   ]
  },
  {
   "cell_type": "code",
   "execution_count": 20,
   "metadata": {},
   "outputs": [
    {
     "name": "stdout",
     "output_type": "stream",
     "text": [
      "Elite stars: 21.0\n"
     ]
    }
   ],
   "source": [
    "elite_stars = elite(endv_notebooks['stargazers'])\n",
    "print(\"Elite stars:\", var(\"s_a0_stars\", elite_stars))"
   ]
  },
  {
   "cell_type": "code",
   "execution_count": 21,
   "metadata": {},
   "outputs": [
    {
     "name": "stdout",
     "output_type": "stream",
     "text": [
      "Super elite stars: 311.0\n"
     ]
    }
   ],
   "source": [
    "column = endv_notebooks['stargazers']\n",
    "column = column[column > elite_stars]\n",
    "super_stars = elite(column)\n",
    "print(\"Super elite stars:\", var(\"ss_a0_stars\", super_stars))"
   ]
  },
  {
   "cell_type": "code",
   "execution_count": 22,
   "metadata": {},
   "outputs": [
    {
     "name": "stdout",
     "output_type": "stream",
     "text": [
      "CPU times: user 243 ms, sys: 678 ms, total: 921 ms\n",
      "Wall time: 3.12 s\n"
     ]
    }
   ],
   "source": [
    "%%time\n",
    "with connect() as session:\n",
    "    session.execute(\"\"\"\n",
    "    UPDATE notebooks\n",
    "    set sfgroup = sfgroup | 1\n",
    "    where stargazers > {}\n",
    "    \"\"\".format(elite_stars))\n",
    "    session.commit()"
   ]
  },
  {
   "cell_type": "code",
   "execution_count": 23,
   "metadata": {},
   "outputs": [
    {
     "name": "stdout",
     "output_type": "stream",
     "text": [
      "Elite forks: 21.0\n"
     ]
    }
   ],
   "source": [
    "elite_forks = elite(endv_notebooks['forks'])\n",
    "print(\"Elite forks:\", var(\"s_a0_forks\", elite_forks))"
   ]
  },
  {
   "cell_type": "code",
   "execution_count": 24,
   "metadata": {},
   "outputs": [
    {
     "name": "stdout",
     "output_type": "stream",
     "text": [
      "Super elite forks: 221.5\n"
     ]
    }
   ],
   "source": [
    "column = endv_notebooks['forks']\n",
    "column = column[column > elite_forks]\n",
    "super_forks = elite(column)\n",
    "print(\"Super elite forks:\", var(\"ss_a0_forks\", super_forks))"
   ]
  },
  {
   "cell_type": "code",
   "execution_count": 25,
   "metadata": {},
   "outputs": [
    {
     "name": "stdout",
     "output_type": "stream",
     "text": [
      "CPU times: user 218 ms, sys: 633 ms, total: 851 ms\n",
      "Wall time: 1.25 s\n"
     ]
    }
   ],
   "source": [
    "%%time\n",
    "with connect() as session:\n",
    "    session.execute(\"\"\"\n",
    "    UPDATE notebooks\n",
    "    set sfgroup = sfgroup | 2\n",
    "    where forks > {}\n",
    "    \"\"\".format(elite_forks))\n",
    "    session.commit()"
   ]
  },
  {
   "cell_type": "code",
   "execution_count": 26,
   "metadata": {},
   "outputs": [
    {
     "name": "stdout",
     "output_type": "stream",
     "text": [
      "Elite starforks: 33.331395348837205\n"
     ]
    }
   ],
   "source": [
    "elite_sf = elite(endv_notebooks['starforks'])\n",
    "print(\"Elite starforks:\", var(\"s_a0_starforks\", elite_sf))"
   ]
  },
  {
   "cell_type": "code",
   "execution_count": 27,
   "metadata": {},
   "outputs": [
    {
     "name": "stdout",
     "output_type": "stream",
     "text": [
      "Super elite starforks: 360.9189931689931\n"
     ]
    }
   ],
   "source": [
    "column = endv_notebooks['starforks']\n",
    "column = column[column > elite_sf]\n",
    "super_sf = elite(column)\n",
    "print(\"Super elite starforks:\", var(\"ss_a0_starforks\", super_sf))"
   ]
  },
  {
   "cell_type": "code",
   "execution_count": 28,
   "metadata": {},
   "outputs": [
    {
     "name": "stdout",
     "output_type": "stream",
     "text": [
      "CPU times: user 183 ms, sys: 693 ms, total: 875 ms\n",
      "Wall time: 1.06 s\n"
     ]
    }
   ],
   "source": [
    "%%time\n",
    "with connect() as session:\n",
    "    session.execute(\"\"\"\n",
    "    UPDATE notebooks\n",
    "    set sfgroup = sfgroup | 4\n",
    "    where starforks > {}\n",
    "    \"\"\".format(elite_sf))\n",
    "    session.commit()"
   ]
  },
  {
   "cell_type": "markdown",
   "metadata": {},
   "source": [
    "## Update Skips"
   ]
  },
  {
   "cell_type": "code",
   "execution_count": 29,
   "metadata": {},
   "outputs": [
    {
     "name": "stdout",
     "output_type": "stream",
     "text": [
      "CPU times: user 2.7 ms, sys: 7.88 ms, total: 10.6 ms\n",
      "Wall time: 15.1 s\n"
     ]
    }
   ],
   "source": [
    "%%time\n",
    "with connect() as session:\n",
    "    session.execute(\"\"\"\n",
    "    UPDATE notebooks\n",
    "    set skip = 0;\n",
    "    \"\"\")\n",
    "    session.commit()"
   ]
  },
  {
   "cell_type": "code",
   "execution_count": 30,
   "metadata": {},
   "outputs": [
    {
     "name": "stderr",
     "output_type": "stream",
     "text": [
      "100%|██████████| 649587/649587 [02:13<00:00, 4860.36it/s]\n"
     ]
    }
   ],
   "source": [
    "with_skip = notebooks[notebooks[\"skip\"] != 0]\n",
    "\n",
    "with connect() as session:\n",
    "    for id_, skip in tqdm.tqdm(zip(with_skip['id'], with_skip['skip']), total=len(with_skip)):\n",
    "        #print(id_)\n",
    "        session.execute(\"UPDATE notebooks SET skip = {} WHERE id = {};\".format(skip, id_))\n",
    "    session.commit()"
   ]
  },
  {
   "cell_type": "code",
   "execution_count": 31,
   "metadata": {},
   "outputs": [
    {
     "name": "stdout",
     "output_type": "stream",
     "text": [
      "CPU times: user 12 ms, sys: 0 ns, total: 12 ms\n",
      "Wall time: 14.4 s\n"
     ]
    }
   ],
   "source": [
    "%%time\n",
    "with connect() as session:\n",
    "    session.execute(\"\"\"\n",
    "    UPDATE notebook_features AS u\n",
    "    SET skip = n.skip\n",
    "    FROM notebooks AS n\n",
    "    WHERE u.notebook_id = n.id\n",
    "    \"\"\")\n",
    "    session.commit()\n",
    "    "
   ]
  },
  {
   "cell_type": "code",
   "execution_count": 32,
   "metadata": {},
   "outputs": [
    {
     "name": "stdout",
     "output_type": "stream",
     "text": [
      "CPU times: user 9.89 ms, sys: 250 µs, total: 10.1 ms\n",
      "Wall time: 14.9 s\n"
     ]
    }
   ],
   "source": [
    "%%time\n",
    "with connect() as session:  \n",
    "    session.execute(\"\"\"\n",
    "    UPDATE notebook_modules AS u\n",
    "    SET skip = n.skip\n",
    "    FROM notebooks AS n\n",
    "    WHERE u.notebook_id = n.id\n",
    "    \"\"\")\n",
    "    session.commit()\n",
    "    "
   ]
  },
  {
   "cell_type": "code",
   "execution_count": 33,
   "metadata": {},
   "outputs": [
    {
     "name": "stdout",
     "output_type": "stream",
     "text": [
      "CPU times: user 10.5 ms, sys: 4.69 ms, total: 15.2 ms\n",
      "Wall time: 24.5 s\n"
     ]
    }
   ],
   "source": [
    "%%time\n",
    "with connect() as session:\n",
    "    session.execute(\"\"\"\n",
    "    UPDATE notebook_asts AS u\n",
    "    SET skip = n.skip\n",
    "    FROM notebooks AS n\n",
    "    WHERE u.notebook_id = n.id\n",
    "    \"\"\")\n",
    "    session.commit()"
   ]
  },
  {
   "cell_type": "code",
   "execution_count": 34,
   "metadata": {},
   "outputs": [
    {
     "name": "stdout",
     "output_type": "stream",
     "text": [
      "CPU times: user 5.12 ms, sys: 7.67 ms, total: 12.8 ms\n",
      "Wall time: 1min 5s\n"
     ]
    }
   ],
   "source": [
    "%%time\n",
    "with connect() as session:\n",
    "    session.execute(\"\"\"\n",
    "    UPDATE notebook_names AS u\n",
    "    SET skip = n.skip\n",
    "    FROM notebooks AS n\n",
    "    WHERE u.notebook_id = n.id\n",
    "    \"\"\")\n",
    "    session.commit()"
   ]
  },
  {
   "cell_type": "code",
   "execution_count": 35,
   "metadata": {},
   "outputs": [
    {
     "name": "stdout",
     "output_type": "stream",
     "text": [
      "CPU times: user 11.3 ms, sys: 3.37 ms, total: 14.6 ms\n",
      "Wall time: 32.1 s\n"
     ]
    }
   ],
   "source": [
    "%%time\n",
    "with connect() as session:\n",
    "    session.execute(\"\"\"\n",
    "    UPDATE notebook_markdowns AS u\n",
    "    SET skip = n.skip\n",
    "    FROM notebooks AS n\n",
    "    WHERE u.notebook_id = n.id\n",
    "    \"\"\")\n",
    "    session.commit()"
   ]
  },
  {
   "cell_type": "code",
   "execution_count": 36,
   "metadata": {},
   "outputs": [
    {
     "name": "stdout",
     "output_type": "stream",
     "text": [
      "CPU times: user 18.1 ms, sys: 1.37 ms, total: 19.4 ms\n",
      "Wall time: 5min 6s\n"
     ]
    }
   ],
   "source": [
    "%%time\n",
    "with connect() as session:\n",
    "    session.execute(\"\"\"\n",
    "    UPDATE executions AS u\n",
    "    SET skip = n.skip\n",
    "    FROM notebooks AS n\n",
    "    WHERE u.notebook_id = n.id\n",
    "    \"\"\")\n",
    "    session.commit()"
   ]
  },
  {
   "cell_type": "code",
   "execution_count": 37,
   "metadata": {},
   "outputs": [
    {
     "name": "stdout",
     "output_type": "stream",
     "text": [
      "CPU times: user 16.5 ms, sys: 0 ns, total: 16.5 ms\n",
      "Wall time: 53.7 s\n"
     ]
    }
   ],
   "source": [
    "%%time\n",
    "with connect() as session:\n",
    "    session.execute(\"\"\"\n",
    "    UPDATE notebooks_bool_aggregates AS u\n",
    "    SET skip = n.skip\n",
    "    FROM notebooks AS n\n",
    "    WHERE u.notebook_id = n.id\n",
    "    \"\"\")\n",
    "    session.commit()"
   ]
  },
  {
   "cell_type": "code",
   "execution_count": 38,
   "metadata": {},
   "outputs": [
    {
     "name": "stdout",
     "output_type": "stream",
     "text": [
      "CPU times: user 18.7 ms, sys: 1.2 ms, total: 19.9 ms\n",
      "Wall time: 3min 10s\n"
     ]
    }
   ],
   "source": [
    "%%time\n",
    "with connect() as session:\n",
    "    session.execute(\"\"\"\n",
    "    UPDATE notebooks_meta_aggregates AS u\n",
    "    SET skip = n.skip\n",
    "    FROM notebooks AS n\n",
    "    WHERE u.notebook_id = n.id\n",
    "    \"\"\")\n",
    "    session.commit()"
   ]
  },
  {
   "cell_type": "code",
   "execution_count": 39,
   "metadata": {},
   "outputs": [
    {
     "name": "stdout",
     "output_type": "stream",
     "text": [
      "CPU times: user 10.6 ms, sys: 341 µs, total: 10.9 ms\n",
      "Wall time: 15.9 s\n"
     ]
    }
   ],
   "source": [
    "%%time\n",
    "with connect() as session:\n",
    "    session.execute(\"\"\"\n",
    "    UPDATE notebooks_fullexecbool_aggregates AS u\n",
    "    SET skip = n.skip\n",
    "    FROM notebooks AS n\n",
    "    WHERE u.notebook_id = n.id\n",
    "    \"\"\")\n",
    "    session.commit()"
   ]
  },
  {
   "cell_type": "code",
   "execution_count": 40,
   "metadata": {},
   "outputs": [
    {
     "name": "stdout",
     "output_type": "stream",
     "text": [
      "CPU times: user 12.4 ms, sys: 595 µs, total: 13 ms\n",
      "Wall time: 2min 6s\n"
     ]
    }
   ],
   "source": [
    "%%time\n",
    "with connect() as session:\n",
    "    session.execute(\"\"\"\n",
    "    UPDATE notebooks_fullexecmeta_aggregates AS u\n",
    "    SET skip = n.skip\n",
    "    FROM notebooks AS n\n",
    "    WHERE u.notebook_id = n.id\n",
    "    \"\"\")\n",
    "    session.commit()"
   ]
  },
  {
   "cell_type": "markdown",
   "metadata": {},
   "source": [
    "This notebook prepared the skip attributes of all tables to be used in other analyses"
   ]
  }
 ],
 "metadata": {
  "julynter-results": {
   "filteredId": [],
   "filteredIndividual": [],
   "filteredRestart": [],
   "filteredType": [],
   "hash": "5780c3d353d572d7098d2f309fceec275f0582b4",
   "visible": []
  },
  "kernelspec": {
   "display_name": "Python 3",
   "language": "python",
   "name": "python3"
  },
  "language_info": {
   "codemirror_mode": {
    "name": "ipython",
    "version": 3
   },
   "file_extension": ".py",
   "mimetype": "text/x-python",
   "name": "python",
   "nbconvert_exporter": "python",
   "pygments_lexer": "ipython3",
   "version": "3.7.3"
  },
  "notify_time": "5",
  "toc": {
   "base_numbering": 1,
   "nav_menu": {
    "height": "392px",
    "width": "252px"
   },
   "number_sections": true,
   "sideBar": true,
   "skip_h1_title": false,
   "title_cell": "Table of Contents",
   "title_sidebar": "Contents",
   "toc_cell": true,
   "toc_position": {
    "height": "calc(100% - 180px)",
    "left": "10px",
    "top": "150px",
    "width": "295px"
   },
   "toc_section_display": "block",
   "toc_window_display": true
  }
 },
 "nbformat": 4,
 "nbformat_minor": 4
}
