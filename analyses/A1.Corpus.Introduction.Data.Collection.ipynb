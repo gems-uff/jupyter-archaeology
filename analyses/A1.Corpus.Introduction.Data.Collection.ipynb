{
 "cells": [
  {
   "cell_type": "markdown",
   "metadata": {},
   "source": [
    "# Analysis 1: Corpus, Introduction, Data Collection\n",
    "\n",
    "This notebook generates the Corpus image and the variables used in the Introduction and Data Collection Sections of the paper."
   ]
  },
  {
   "cell_type": "code",
   "execution_count": 1,
   "metadata": {},
   "outputs": [],
   "source": [
    "import sys\n",
    "sys.path.insert(0, '../archaeology')\n",
    "\n",
    "import re\n",
    "import matplotlib\n",
    "\n",
    "import numpy as np\n",
    "import pandas as pd\n",
    "\n",
    "from datetime import datetime\n",
    "from matplotlib import pyplot as plt\n",
    "from IPython.display import SVG\n",
    "\n",
    "import analysis_helpers, importlib\n",
    "importlib.reload(analysis_helpers)\n",
    "\n",
    "from analysis_helpers import load_vars, var, relative_var\n",
    "from analysis_helpers import savefig, display_counts, fig\n",
    "from analysis_helpers import distribution_with_boxplot\n",
    "from analysis_helpers import boxplot_distribution\n",
    "from analysis_helpers import dbmt, DBMT, print_relative_var_group, dbmt_relative_var\n",
    "from analysis_helpers import histogram, fig, boxplot_distribution, numpy_distribution\n",
    "from db import connect\n",
    "\n",
    "%matplotlib inline"
   ]
  },
  {
   "cell_type": "markdown",
   "metadata": {},
   "source": [
    "## Query\n",
    "\n",
    "- Select all notebooks\n",
    "- Select all repositories"
   ]
  },
  {
   "cell_type": "code",
   "execution_count": 2,
   "metadata": {},
   "outputs": [
    {
     "name": "stdout",
     "output_type": "stream",
     "text": [
      "Query Notebooks\n",
      "Query Repositories\n"
     ]
    }
   ],
   "source": [
    "with connect() as session:\n",
    "    print('Query Notebooks')\n",
    "    boolagg = pd.read_sql(\"\"\"\n",
    "        SELECT n.id, n.id as notebook_id, n.repository_id, n.kernel, n.nbformat, n.language, n.processed,\n",
    "        n.sha1_source, n.sha1_file, n.processing_cells, n.numeric_counts_total, n.numeric_set_total,\n",
    "        n.max_execution_count, n.unambiguous, n.stargazers, n.forks, n.starforks, n.sfgroup,\n",
    "        n.total_cells, n.code_cells, n.markdown_cells,\n",
    "        m.invalid_format, n.skip, m.python_2, m.python_3, m.has_execution_count,\n",
    "        m.topdown_attempted_execution, m.execorder_attempted_execution,\n",
    "        m.topdown_run_all_cells, m.execorder_run_all_cells,\n",
    "        m.topdown_image_same_results, m.execorder_image_same_results,\n",
    "        m.topdown_execution_count_same_results, m.execorder_execution_count_same_results,\n",
    "        m.topdown_original_same_results, m.execorder_original_same_results,\n",
    "        m.has_assignment, m.has_course, m.has_exercise, m.has_homework, m.has_lesson,\n",
    "        u.stargazers, u.forks, u.pushed_at, u.updated_at, u.history_commit_date\n",
    "        FROM notebooks n \n",
    "        LEFT JOIN notebooks_bool_aggregates m ON (n.id = m.notebook_id)\n",
    "        LEFT JOIN repository_updates u ON (n.repository_id = u.repository_id)\n",
    "    \"\"\", session.connection())\n",
    "    \n",
    "    print('Query Repositories')\n",
    "    t_repositories = pd.read_sql(\"\"\"\n",
    "        SELECT *\n",
    "        FROM repositories\n",
    "    \"\"\", session.connection())\n"
   ]
  },
  {
   "cell_type": "markdown",
   "metadata": {},
   "source": [
    "## Corpus\n",
    "\n",
    "Calculate variables and generate corpus figure"
   ]
  },
  {
   "cell_type": "code",
   "execution_count": 3,
   "metadata": {},
   "outputs": [
    {
     "name": "stdout",
     "output_type": "stream",
     "text": [
      "Total repositories: 265,888\n",
      "Total notebooks: 1,450,071\n"
     ]
    }
   ],
   "source": [
    "print(\"Total repositories: {}\".format(var(\"t_a1_repositories\", len(t_repositories), \"{:,}\")))\n",
    "print(\"Total notebooks: {}\".format(var(\"t_a1_notebooks\", t_repositories[\"notebooks_count\"].sum(), \"{:,}\")))"
   ]
  },
  {
   "cell_type": "code",
   "execution_count": 4,
   "metadata": {},
   "outputs": [
    {
     "name": "stdout",
     "output_type": "stream",
     "text": [
      "Existing notebooks: 1,274,872\n",
      "Existing repositories: 235,643\n"
     ]
    }
   ],
   "source": [
    "existing_notebooks = boolagg[\n",
    "    (np.bitwise_and(boolagg[\"skip\"], 2048) == 0)\n",
    "]\n",
    "existing_repositories = existing_notebooks.groupby(\"repository_id\").size()\n",
    "print(\"Existing notebooks: {}\".format(var(\"u_a1_notebooks\", len(existing_notebooks), \"{:,}\")))\n",
    "print(\"Existing repositories: {}\".format(var(\"u_a1_repositories\", len(existing_repositories), \"{:,}\")))"
   ]
  },
  {
   "cell_type": "code",
   "execution_count": 5,
   "metadata": {},
   "outputs": [
    {
     "name": "stdout",
     "output_type": "stream",
     "text": [
      "Valid notebooks: 1,251,074\n",
      "Valid repositories: 234,729\n"
     ]
    }
   ],
   "source": [
    "valid_notebooks = existing_notebooks[\n",
    "    ~((existing_notebooks[\"kernel\"] == \"no-kernel\") & (existing_notebooks[\"nbformat\"] == \"0\"))\n",
    "    & (np.bitwise_and(existing_notebooks[\"processed\"], 15) == 0)\n",
    "    & (np.bitwise_and(existing_notebooks[\"skip\"], 1024 + 512) == 0)\n",
    "]\n",
    "valid_repositories = valid_notebooks.groupby(\"repository_id\").size()\n",
    "print(\"Valid notebooks: {}\".format(var(\"f_a1_notebooks\", len(valid_notebooks), \"{:,}\")))\n",
    "print(\"Valid repositories: {}\".format(var(\"f_a1_repositories\", len(valid_repositories), \"{:,}\")))"
   ]
  },
  {
   "cell_type": "code",
   "execution_count": 6,
   "metadata": {},
   "outputs": [],
   "source": [
    "mask = valid_notebooks.duplicated(subset=['sha1_source'])"
   ]
  },
  {
   "cell_type": "code",
   "execution_count": 7,
   "metadata": {},
   "outputs": [
    {
     "data": {
      "text/plain": [
       "1024269"
      ]
     },
     "execution_count": 7,
     "metadata": {},
     "output_type": "execute_result"
    }
   ],
   "source": [
    "len(valid_notebooks[\n",
    "    np.bitwise_and(valid_notebooks[\"skip\"], 128) == 0\n",
    "])"
   ]
  },
  {
   "cell_type": "code",
   "execution_count": 8,
   "metadata": {},
   "outputs": [
    {
     "name": "stdout",
     "output_type": "stream",
     "text": [
      "Non-duplicated notebooks: 1,024,269\n"
     ]
    }
   ],
   "source": [
    "non_duplicated = valid_notebooks[\n",
    "    np.bitwise_and(valid_notebooks[\"skip\"], 1024 + 512 + 128) == 0\n",
    "]\n",
    "print(\"Non-duplicated notebooks: {}\".format(var(\"d_a1_notebooks\", len(non_duplicated), \"{:,}\")))"
   ]
  },
  {
   "cell_type": "code",
   "execution_count": 9,
   "metadata": {},
   "outputs": [
    {
     "name": "stdout",
     "output_type": "stream",
     "text": [
      "Selection criteria: H.M.\n"
     ]
    }
   ],
   "source": [
    "print('Selection criteria:', var('b_a1_criteria', 'H.M.'))"
   ]
  },
  {
   "cell_type": "code",
   "execution_count": 10,
   "metadata": {},
   "outputs": [
    {
     "name": "stdout",
     "output_type": "stream",
     "text": [
      "Bottom notebooks: 791,419 (77.27%)\n"
     ]
    }
   ],
   "source": [
    "bottom_notebooks = non_duplicated[\n",
    "    non_duplicated['starforks'] == 0\n",
    "]\n",
    "print(\"Bottom notebooks: {}\".format(relative_var(\n",
    "    \"b_a1_notebooks\", len(bottom_notebooks), len(non_duplicated), \"{:,}\")\n",
    "))"
   ]
  },
  {
   "cell_type": "code",
   "execution_count": 11,
   "metadata": {},
   "outputs": [],
   "source": [
    "vs = load_vars()\n",
    "threshold = float(vs['s_a0_starforks'])"
   ]
  },
  {
   "cell_type": "code",
   "execution_count": 12,
   "metadata": {},
   "outputs": [
    {
     "name": "stdout",
     "output_type": "stream",
     "text": [
      "Popular criteria: 33.331\n"
     ]
    }
   ],
   "source": [
    "print('Popular criteria:', var('td_a1_criteria', '{:.3f}'.format(threshold)))"
   ]
  },
  {
   "cell_type": "code",
   "execution_count": 13,
   "metadata": {},
   "outputs": [
    {
     "name": "stdout",
     "output_type": "stream",
     "text": [
      "Popular notebooks: 38,063 (3.72%)\n"
     ]
    }
   ],
   "source": [
    "popular_notebooks = non_duplicated[\n",
    "    non_duplicated['starforks'] > threshold\n",
    "]\n",
    "print(\"Popular notebooks: {}\".format(relative_var(\n",
    "    \"td_a1_notebooks\", len(popular_notebooks), len(non_duplicated), \"{:,}\")\n",
    "))"
   ]
  },
  {
   "cell_type": "code",
   "execution_count": 14,
   "metadata": {},
   "outputs": [
    {
     "name": "stdout",
     "output_type": "stream",
     "text": [
      "Popular repositories: 2,680 (1.18%)\n"
     ]
    }
   ],
   "source": [
    "non_duplicated_repos = non_duplicated.groupby(\"repository_id\").count()\n",
    "popular_repos = popular_notebooks.groupby(\"repository_id\").count()\n",
    "print(\"Popular repositories: {}\".format(relative_var(\n",
    "    \"td_a1_repositories\", len(popular_repos), len(non_duplicated_repos), \"{:,}\")\n",
    "))"
   ]
  },
  {
   "cell_type": "code",
   "execution_count": 15,
   "metadata": {},
   "outputs": [
    {
     "name": "stdout",
     "output_type": "stream",
     "text": [
      "Sample notebooks: 69 (0.01%)\n"
     ]
    }
   ],
   "source": [
    "samples = pd.read_excel(\"samples.xls\")\n",
    "sampled_notebooks = valid_notebooks[\n",
    "    valid_notebooks[\"id\"].isin(samples[\"notebook_id\"])\n",
    "]\n",
    "print(\"Sample notebooks: {}\".format(relative_var(\n",
    "    \"sd_a1_notebooks\", len(sampled_notebooks), len(non_duplicated), \"{:,}\")\n",
    "))"
   ]
  },
  {
   "cell_type": "code",
   "execution_count": 16,
   "metadata": {},
   "outputs": [
    {
     "name": "stdout",
     "output_type": "stream",
     "text": [
      "Sample repositories: 69 (0.03%)\n"
     ]
    }
   ],
   "source": [
    "sampled_repos = sampled_notebooks.groupby(\"repository_id\").count()\n",
    "print(\"Sample repositories: {}\".format(relative_var(\n",
    "    \"sd_a1_repositories\", len(sampled_repos), len(non_duplicated_repos), \"{:,}\")\n",
    "))"
   ]
  },
  {
   "cell_type": "code",
   "execution_count": 17,
   "metadata": {},
   "outputs": [
    {
     "name": "stdout",
     "output_type": "stream",
     "text": [
      "Python notebooks: a1_python_notebooks\n"
     ]
    },
    {
     "data": {
      "text/html": [
       "<div>\n",
       "<style scoped>\n",
       "    .dataframe tbody tr th:only-of-type {\n",
       "        vertical-align: middle;\n",
       "    }\n",
       "\n",
       "    .dataframe tbody tr th {\n",
       "        vertical-align: top;\n",
       "    }\n",
       "\n",
       "    .dataframe thead th {\n",
       "        text-align: right;\n",
       "    }\n",
       "</style>\n",
       "<table border=\"1\" class=\"dataframe\">\n",
       "  <thead>\n",
       "    <tr style=\"text-align: right;\">\n",
       "      <th></th>\n",
       "      <th>name</th>\n",
       "      <th>prefix</th>\n",
       "      <th>value</th>\n",
       "      <th>perc_</th>\n",
       "      <th>sup_</th>\n",
       "      <th>times_</th>\n",
       "      <th>timesone_</th>\n",
       "      <th>diff_</th>\n",
       "    </tr>\n",
       "  </thead>\n",
       "  <tbody>\n",
       "    <tr>\n",
       "      <th>0</th>\n",
       "      <td></td>\n",
       "      <td>d_</td>\n",
       "      <td>953,654 (93.11%)</td>\n",
       "      <td>None</td>\n",
       "      <td>None</td>\n",
       "      <td>None</td>\n",
       "      <td>None</td>\n",
       "      <td>None</td>\n",
       "    </tr>\n",
       "    <tr>\n",
       "      <th>1</th>\n",
       "      <td>(Sample)</td>\n",
       "      <td>sd_</td>\n",
       "      <td>69 (100.00%)</td>\n",
       "      <td>0.01%</td>\n",
       "      <td>0.01%</td>\n",
       "      <td>107.40%</td>\n",
       "      <td>(+) 7.40%</td>\n",
       "      <td>6.89%</td>\n",
       "    </tr>\n",
       "    <tr>\n",
       "      <th>2</th>\n",
       "      <td>(Popular)</td>\n",
       "      <td>td_</td>\n",
       "      <td>29,845 (78.41%)</td>\n",
       "      <td>3.13%</td>\n",
       "      <td>2.91%</td>\n",
       "      <td>84.22%</td>\n",
       "      <td>(-) 15.78%</td>\n",
       "      <td>-14.70%</td>\n",
       "    </tr>\n",
       "  </tbody>\n",
       "</table>\n",
       "</div>"
      ],
      "text/plain": [
       "         name prefix             value  perc_   sup_   times_   timesone_  \\\n",
       "0                 d_  953,654 (93.11%)   None   None     None        None   \n",
       "1   (Sample)     sd_      69 (100.00%)  0.01%  0.01%  107.40%   (+) 7.40%   \n",
       "2  (Popular)     td_   29,845 (78.41%)  3.13%  2.91%   84.22%  (-) 15.78%   \n",
       "\n",
       "     diff_  \n",
       "0     None  \n",
       "1    6.89%  \n",
       "2  -14.70%  "
      ]
     },
     "metadata": {},
     "output_type": "display_data"
    }
   ],
   "source": [
    "python_notebooks = non_duplicated[\n",
    "    non_duplicated[\"language\"] == \"python\"\n",
    "]\n",
    "\n",
    "dbmt_relative_var(\n",
    "    \"Python notebooks: {}\", 'a1_python_notebooks',\n",
    "    dbmt(python_notebooks), dbmt(non_duplicated),\n",
    ")\n"
   ]
  },
  {
   "cell_type": "code",
   "execution_count": 18,
   "metadata": {},
   "outputs": [
    {
     "name": "stdout",
     "output_type": "stream",
     "text": [
      "R notebooks: a1_r_notebooks\n"
     ]
    },
    {
     "data": {
      "text/html": [
       "<div>\n",
       "<style scoped>\n",
       "    .dataframe tbody tr th:only-of-type {\n",
       "        vertical-align: middle;\n",
       "    }\n",
       "\n",
       "    .dataframe tbody tr th {\n",
       "        vertical-align: top;\n",
       "    }\n",
       "\n",
       "    .dataframe thead th {\n",
       "        text-align: right;\n",
       "    }\n",
       "</style>\n",
       "<table border=\"1\" class=\"dataframe\">\n",
       "  <thead>\n",
       "    <tr style=\"text-align: right;\">\n",
       "      <th></th>\n",
       "      <th>name</th>\n",
       "      <th>prefix</th>\n",
       "      <th>value</th>\n",
       "      <th>perc_</th>\n",
       "      <th>sup_</th>\n",
       "      <th>times_</th>\n",
       "      <th>timesone_</th>\n",
       "      <th>diff_</th>\n",
       "    </tr>\n",
       "  </thead>\n",
       "  <tbody>\n",
       "    <tr>\n",
       "      <th>0</th>\n",
       "      <td></td>\n",
       "      <td>d_</td>\n",
       "      <td>13,603 (1.33%)</td>\n",
       "      <td>None</td>\n",
       "      <td>None</td>\n",
       "      <td>None</td>\n",
       "      <td>None</td>\n",
       "      <td>None</td>\n",
       "    </tr>\n",
       "    <tr>\n",
       "      <th>1</th>\n",
       "      <td>(Sample)</td>\n",
       "      <td>sd_</td>\n",
       "      <td>0 (0.00%)</td>\n",
       "      <td>0.00%</td>\n",
       "      <td>0.00%</td>\n",
       "      <td>0.00%</td>\n",
       "      <td>(-) 100.00%</td>\n",
       "      <td>-1.33%</td>\n",
       "    </tr>\n",
       "    <tr>\n",
       "      <th>2</th>\n",
       "      <td>(Popular)</td>\n",
       "      <td>td_</td>\n",
       "      <td>376 (0.99%)</td>\n",
       "      <td>2.76%</td>\n",
       "      <td>0.04%</td>\n",
       "      <td>74.38%</td>\n",
       "      <td>(-) 25.62%</td>\n",
       "      <td>-0.34%</td>\n",
       "    </tr>\n",
       "  </tbody>\n",
       "</table>\n",
       "</div>"
      ],
      "text/plain": [
       "         name prefix           value  perc_   sup_  times_    timesone_  \\\n",
       "0                 d_  13,603 (1.33%)   None   None    None         None   \n",
       "1   (Sample)     sd_       0 (0.00%)  0.00%  0.00%   0.00%  (-) 100.00%   \n",
       "2  (Popular)     td_     376 (0.99%)  2.76%  0.04%  74.38%   (-) 25.62%   \n",
       "\n",
       "    diff_  \n",
       "0    None  \n",
       "1  -1.33%  \n",
       "2  -0.34%  "
      ]
     },
     "metadata": {},
     "output_type": "display_data"
    },
    {
     "name": "stdout",
     "output_type": "stream",
     "text": [
      "Julia notebooks: a1_julia_notebooks\n"
     ]
    },
    {
     "data": {
      "text/html": [
       "<div>\n",
       "<style scoped>\n",
       "    .dataframe tbody tr th:only-of-type {\n",
       "        vertical-align: middle;\n",
       "    }\n",
       "\n",
       "    .dataframe tbody tr th {\n",
       "        vertical-align: top;\n",
       "    }\n",
       "\n",
       "    .dataframe thead th {\n",
       "        text-align: right;\n",
       "    }\n",
       "</style>\n",
       "<table border=\"1\" class=\"dataframe\">\n",
       "  <thead>\n",
       "    <tr style=\"text-align: right;\">\n",
       "      <th></th>\n",
       "      <th>name</th>\n",
       "      <th>prefix</th>\n",
       "      <th>value</th>\n",
       "      <th>perc_</th>\n",
       "      <th>sup_</th>\n",
       "      <th>times_</th>\n",
       "      <th>timesone_</th>\n",
       "      <th>diff_</th>\n",
       "    </tr>\n",
       "  </thead>\n",
       "  <tbody>\n",
       "    <tr>\n",
       "      <th>0</th>\n",
       "      <td></td>\n",
       "      <td>d_</td>\n",
       "      <td>9,833 (0.96%)</td>\n",
       "      <td>None</td>\n",
       "      <td>None</td>\n",
       "      <td>None</td>\n",
       "      <td>None</td>\n",
       "      <td>None</td>\n",
       "    </tr>\n",
       "    <tr>\n",
       "      <th>1</th>\n",
       "      <td>(Sample)</td>\n",
       "      <td>sd_</td>\n",
       "      <td>0 (0.00%)</td>\n",
       "      <td>0.00%</td>\n",
       "      <td>0.00%</td>\n",
       "      <td>0.00%</td>\n",
       "      <td>(-) 100.00%</td>\n",
       "      <td>-0.96%</td>\n",
       "    </tr>\n",
       "    <tr>\n",
       "      <th>2</th>\n",
       "      <td>(Popular)</td>\n",
       "      <td>td_</td>\n",
       "      <td>401 (1.05%)</td>\n",
       "      <td>4.08%</td>\n",
       "      <td>0.04%</td>\n",
       "      <td>109.74%</td>\n",
       "      <td>(+) 9.74%</td>\n",
       "      <td>0.09%</td>\n",
       "    </tr>\n",
       "  </tbody>\n",
       "</table>\n",
       "</div>"
      ],
      "text/plain": [
       "         name prefix          value  perc_   sup_   times_    timesone_  \\\n",
       "0                 d_  9,833 (0.96%)   None   None     None         None   \n",
       "1   (Sample)     sd_      0 (0.00%)  0.00%  0.00%    0.00%  (-) 100.00%   \n",
       "2  (Popular)     td_    401 (1.05%)  4.08%  0.04%  109.74%    (+) 9.74%   \n",
       "\n",
       "    diff_  \n",
       "0    None  \n",
       "1  -0.96%  \n",
       "2   0.09%  "
      ]
     },
     "metadata": {},
     "output_type": "display_data"
    },
    {
     "name": "stdout",
     "output_type": "stream",
     "text": [
      "Unknown language notebooks: a1_unknown_notebooks\n"
     ]
    },
    {
     "data": {
      "text/html": [
       "<div>\n",
       "<style scoped>\n",
       "    .dataframe tbody tr th:only-of-type {\n",
       "        vertical-align: middle;\n",
       "    }\n",
       "\n",
       "    .dataframe tbody tr th {\n",
       "        vertical-align: top;\n",
       "    }\n",
       "\n",
       "    .dataframe thead th {\n",
       "        text-align: right;\n",
       "    }\n",
       "</style>\n",
       "<table border=\"1\" class=\"dataframe\">\n",
       "  <thead>\n",
       "    <tr style=\"text-align: right;\">\n",
       "      <th></th>\n",
       "      <th>name</th>\n",
       "      <th>prefix</th>\n",
       "      <th>value</th>\n",
       "      <th>perc_</th>\n",
       "      <th>sup_</th>\n",
       "      <th>times_</th>\n",
       "      <th>timesone_</th>\n",
       "      <th>diff_</th>\n",
       "    </tr>\n",
       "  </thead>\n",
       "  <tbody>\n",
       "    <tr>\n",
       "      <th>0</th>\n",
       "      <td></td>\n",
       "      <td>d_</td>\n",
       "      <td>39,636 (3.87%)</td>\n",
       "      <td>None</td>\n",
       "      <td>None</td>\n",
       "      <td>None</td>\n",
       "      <td>None</td>\n",
       "      <td>None</td>\n",
       "    </tr>\n",
       "    <tr>\n",
       "      <th>1</th>\n",
       "      <td>(Sample)</td>\n",
       "      <td>sd_</td>\n",
       "      <td>0 (0.00%)</td>\n",
       "      <td>0.00%</td>\n",
       "      <td>0.00%</td>\n",
       "      <td>0.00%</td>\n",
       "      <td>(-) 100.00%</td>\n",
       "      <td>-3.87%</td>\n",
       "    </tr>\n",
       "    <tr>\n",
       "      <th>2</th>\n",
       "      <td>(Popular)</td>\n",
       "      <td>td_</td>\n",
       "      <td>7,158 (18.81%)</td>\n",
       "      <td>18.06%</td>\n",
       "      <td>0.70%</td>\n",
       "      <td>485.97%</td>\n",
       "      <td>(+) 385.97%</td>\n",
       "      <td>14.94%</td>\n",
       "    </tr>\n",
       "  </tbody>\n",
       "</table>\n",
       "</div>"
      ],
      "text/plain": [
       "         name prefix           value   perc_   sup_   times_    timesone_  \\\n",
       "0                 d_  39,636 (3.87%)    None   None     None         None   \n",
       "1   (Sample)     sd_       0 (0.00%)   0.00%  0.00%    0.00%  (-) 100.00%   \n",
       "2  (Popular)     td_  7,158 (18.81%)  18.06%  0.70%  485.97%  (+) 385.97%   \n",
       "\n",
       "    diff_  \n",
       "0    None  \n",
       "1  -3.87%  \n",
       "2  14.94%  "
      ]
     },
     "metadata": {},
     "output_type": "display_data"
    }
   ],
   "source": [
    "r_notebooks = non_duplicated[\n",
    "    non_duplicated[\"language\"] == \"R\"\n",
    "]\n",
    "julia_notebooks = non_duplicated[\n",
    "    non_duplicated[\"language\"] == \"julia\"\n",
    "]\n",
    "unknown_notebooks = non_duplicated[\n",
    "    non_duplicated[\"language\"] == \"unknown\"\n",
    "]\n",
    "dbmt_relative_var(\n",
    "    \"R notebooks: {}\", 'a1_r_notebooks',\n",
    "    dbmt(r_notebooks), dbmt(non_duplicated), \n",
    ")\n",
    "dbmt_relative_var(\n",
    "    \"Julia notebooks: {}\", 'a1_julia_notebooks',\n",
    "    dbmt(julia_notebooks), dbmt(non_duplicated), \n",
    ")\n",
    "dbmt_relative_var(\n",
    "    \"Unknown language notebooks: {}\", 'a1_unknown_notebooks',\n",
    "    dbmt(unknown_notebooks), dbmt(non_duplicated),\n",
    ")\n"
   ]
  },
  {
   "cell_type": "code",
   "execution_count": 19,
   "metadata": {},
   "outputs": [
    {
     "name": "stdout",
     "output_type": "stream",
     "text": [
      "Python 2 notebooks: a1_python2_notebooks\n"
     ]
    },
    {
     "data": {
      "text/html": [
       "<div>\n",
       "<style scoped>\n",
       "    .dataframe tbody tr th:only-of-type {\n",
       "        vertical-align: middle;\n",
       "    }\n",
       "\n",
       "    .dataframe tbody tr th {\n",
       "        vertical-align: top;\n",
       "    }\n",
       "\n",
       "    .dataframe thead th {\n",
       "        text-align: right;\n",
       "    }\n",
       "</style>\n",
       "<table border=\"1\" class=\"dataframe\">\n",
       "  <thead>\n",
       "    <tr style=\"text-align: right;\">\n",
       "      <th></th>\n",
       "      <th>name</th>\n",
       "      <th>prefix</th>\n",
       "      <th>value</th>\n",
       "      <th>perc_</th>\n",
       "      <th>sup_</th>\n",
       "      <th>times_</th>\n",
       "      <th>timesone_</th>\n",
       "      <th>diff_</th>\n",
       "    </tr>\n",
       "  </thead>\n",
       "  <tbody>\n",
       "    <tr>\n",
       "      <th>0</th>\n",
       "      <td></td>\n",
       "      <td>d_</td>\n",
       "      <td>346,980 (36.38%)</td>\n",
       "      <td>None</td>\n",
       "      <td>None</td>\n",
       "      <td>None</td>\n",
       "      <td>None</td>\n",
       "      <td>None</td>\n",
       "    </tr>\n",
       "    <tr>\n",
       "      <th>1</th>\n",
       "      <td>(Sample)</td>\n",
       "      <td>sd_</td>\n",
       "      <td>24 (34.78%)</td>\n",
       "      <td>0.01%</td>\n",
       "      <td>0.00%</td>\n",
       "      <td>95.60%</td>\n",
       "      <td>(-) 4.40%</td>\n",
       "      <td>-1.60%</td>\n",
       "    </tr>\n",
       "    <tr>\n",
       "      <th>2</th>\n",
       "      <td>(Popular)</td>\n",
       "      <td>td_</td>\n",
       "      <td>11,467 (38.42%)</td>\n",
       "      <td>3.30%</td>\n",
       "      <td>1.20%</td>\n",
       "      <td>105.60%</td>\n",
       "      <td>(+) 5.60%</td>\n",
       "      <td>2.04%</td>\n",
       "    </tr>\n",
       "  </tbody>\n",
       "</table>\n",
       "</div>"
      ],
      "text/plain": [
       "         name prefix             value  perc_   sup_   times_  timesone_  \\\n",
       "0                 d_  346,980 (36.38%)   None   None     None       None   \n",
       "1   (Sample)     sd_       24 (34.78%)  0.01%  0.00%   95.60%  (-) 4.40%   \n",
       "2  (Popular)     td_   11,467 (38.42%)  3.30%  1.20%  105.60%  (+) 5.60%   \n",
       "\n",
       "    diff_  \n",
       "0    None  \n",
       "1  -1.60%  \n",
       "2   2.04%  "
      ]
     },
     "metadata": {},
     "output_type": "display_data"
    },
    {
     "name": "stdout",
     "output_type": "stream",
     "text": [
      "Python 3 notebooks: a1_python3_notebooks\n"
     ]
    },
    {
     "data": {
      "text/html": [
       "<div>\n",
       "<style scoped>\n",
       "    .dataframe tbody tr th:only-of-type {\n",
       "        vertical-align: middle;\n",
       "    }\n",
       "\n",
       "    .dataframe tbody tr th {\n",
       "        vertical-align: top;\n",
       "    }\n",
       "\n",
       "    .dataframe thead th {\n",
       "        text-align: right;\n",
       "    }\n",
       "</style>\n",
       "<table border=\"1\" class=\"dataframe\">\n",
       "  <thead>\n",
       "    <tr style=\"text-align: right;\">\n",
       "      <th></th>\n",
       "      <th>name</th>\n",
       "      <th>prefix</th>\n",
       "      <th>value</th>\n",
       "      <th>perc_</th>\n",
       "      <th>sup_</th>\n",
       "      <th>times_</th>\n",
       "      <th>timesone_</th>\n",
       "      <th>diff_</th>\n",
       "    </tr>\n",
       "  </thead>\n",
       "  <tbody>\n",
       "    <tr>\n",
       "      <th>0</th>\n",
       "      <td></td>\n",
       "      <td>d_</td>\n",
       "      <td>605,872 (63.53%)</td>\n",
       "      <td>None</td>\n",
       "      <td>None</td>\n",
       "      <td>None</td>\n",
       "      <td>None</td>\n",
       "      <td>None</td>\n",
       "    </tr>\n",
       "    <tr>\n",
       "      <th>1</th>\n",
       "      <td>(Sample)</td>\n",
       "      <td>sd_</td>\n",
       "      <td>45 (65.22%)</td>\n",
       "      <td>0.01%</td>\n",
       "      <td>0.00%</td>\n",
       "      <td>102.65%</td>\n",
       "      <td>(+) 2.65%</td>\n",
       "      <td>1.69%</td>\n",
       "    </tr>\n",
       "    <tr>\n",
       "      <th>2</th>\n",
       "      <td>(Popular)</td>\n",
       "      <td>td_</td>\n",
       "      <td>18,332 (61.42%)</td>\n",
       "      <td>3.03%</td>\n",
       "      <td>1.92%</td>\n",
       "      <td>96.68%</td>\n",
       "      <td>(-) 3.32%</td>\n",
       "      <td>-2.11%</td>\n",
       "    </tr>\n",
       "  </tbody>\n",
       "</table>\n",
       "</div>"
      ],
      "text/plain": [
       "         name prefix             value  perc_   sup_   times_  timesone_  \\\n",
       "0                 d_  605,872 (63.53%)   None   None     None       None   \n",
       "1   (Sample)     sd_       45 (65.22%)  0.01%  0.00%  102.65%  (+) 2.65%   \n",
       "2  (Popular)     td_   18,332 (61.42%)  3.03%  1.92%   96.68%  (-) 3.32%   \n",
       "\n",
       "    diff_  \n",
       "0    None  \n",
       "1   1.69%  \n",
       "2  -2.11%  "
      ]
     },
     "metadata": {},
     "output_type": "display_data"
    },
    {
     "name": "stdout",
     "output_type": "stream",
     "text": [
      "Unknown Python notebooks: a1_python_unknown_notebooks\n"
     ]
    },
    {
     "data": {
      "text/html": [
       "<div>\n",
       "<style scoped>\n",
       "    .dataframe tbody tr th:only-of-type {\n",
       "        vertical-align: middle;\n",
       "    }\n",
       "\n",
       "    .dataframe tbody tr th {\n",
       "        vertical-align: top;\n",
       "    }\n",
       "\n",
       "    .dataframe thead th {\n",
       "        text-align: right;\n",
       "    }\n",
       "</style>\n",
       "<table border=\"1\" class=\"dataframe\">\n",
       "  <thead>\n",
       "    <tr style=\"text-align: right;\">\n",
       "      <th></th>\n",
       "      <th>name</th>\n",
       "      <th>prefix</th>\n",
       "      <th>value</th>\n",
       "      <th>perc_</th>\n",
       "      <th>sup_</th>\n",
       "      <th>times_</th>\n",
       "      <th>timesone_</th>\n",
       "      <th>diff_</th>\n",
       "    </tr>\n",
       "  </thead>\n",
       "  <tbody>\n",
       "    <tr>\n",
       "      <th>0</th>\n",
       "      <td></td>\n",
       "      <td>d_</td>\n",
       "      <td>802 (0.08%)</td>\n",
       "      <td>None</td>\n",
       "      <td>None</td>\n",
       "      <td>None</td>\n",
       "      <td>None</td>\n",
       "      <td>None</td>\n",
       "    </tr>\n",
       "    <tr>\n",
       "      <th>1</th>\n",
       "      <td>(Sample)</td>\n",
       "      <td>sd_</td>\n",
       "      <td>0 (0.00%)</td>\n",
       "      <td>0.00%</td>\n",
       "      <td>0.00%</td>\n",
       "      <td>0.00%</td>\n",
       "      <td>(-) 100.00%</td>\n",
       "      <td>-0.08%</td>\n",
       "    </tr>\n",
       "    <tr>\n",
       "      <th>2</th>\n",
       "      <td>(Popular)</td>\n",
       "      <td>td_</td>\n",
       "      <td>46 (0.15%)</td>\n",
       "      <td>5.74%</td>\n",
       "      <td>0.00%</td>\n",
       "      <td>183.27%</td>\n",
       "      <td>(+) 83.27%</td>\n",
       "      <td>0.07%</td>\n",
       "    </tr>\n",
       "  </tbody>\n",
       "</table>\n",
       "</div>"
      ],
      "text/plain": [
       "         name prefix        value  perc_   sup_   times_    timesone_   diff_\n",
       "0                 d_  802 (0.08%)   None   None     None         None    None\n",
       "1   (Sample)     sd_    0 (0.00%)  0.00%  0.00%    0.00%  (-) 100.00%  -0.08%\n",
       "2  (Popular)     td_   46 (0.15%)  5.74%  0.00%  183.27%   (+) 83.27%   0.07%"
      ]
     },
     "metadata": {},
     "output_type": "display_data"
    }
   ],
   "source": [
    "python2_notebooks = python_notebooks[python_notebooks[\"python_2\"]]\n",
    "python3_notebooks = python_notebooks[python_notebooks[\"python_3\"]]\n",
    "python_unknown = python_notebooks[\n",
    "    ~(\n",
    "        python_notebooks[\"python_2\"] \n",
    "        | python_notebooks[\"python_3\"]\n",
    "    )\n",
    "]\n",
    "\n",
    "dbmt_relative_var(\n",
    "    \"Python 2 notebooks: {}\", 'a1_python2_notebooks',\n",
    "    dbmt(python2_notebooks), dbmt(python_notebooks)\n",
    ")\n",
    "dbmt_relative_var(\n",
    "    \"Python 3 notebooks: {}\", 'a1_python3_notebooks',\n",
    "    dbmt(python3_notebooks), dbmt(python_notebooks)\n",
    ")\n",
    "dbmt_relative_var(\n",
    "    \"Unknown Python notebooks: {}\", 'a1_python_unknown_notebooks',\n",
    "    dbmt(python_unknown), dbmt(python_notebooks)\n",
    ")"
   ]
  },
  {
   "cell_type": "code",
   "execution_count": 20,
   "metadata": {},
   "outputs": [
    {
     "name": "stdout",
     "output_type": "stream",
     "text": [
      "Python notebooks with valid syntax: a1_valid_python_notebooks\n"
     ]
    },
    {
     "data": {
      "text/html": [
       "<div>\n",
       "<style scoped>\n",
       "    .dataframe tbody tr th:only-of-type {\n",
       "        vertical-align: middle;\n",
       "    }\n",
       "\n",
       "    .dataframe tbody tr th {\n",
       "        vertical-align: top;\n",
       "    }\n",
       "\n",
       "    .dataframe thead th {\n",
       "        text-align: right;\n",
       "    }\n",
       "</style>\n",
       "<table border=\"1\" class=\"dataframe\">\n",
       "  <thead>\n",
       "    <tr style=\"text-align: right;\">\n",
       "      <th></th>\n",
       "      <th>name</th>\n",
       "      <th>prefix</th>\n",
       "      <th>value</th>\n",
       "      <th>perc_</th>\n",
       "      <th>sup_</th>\n",
       "      <th>times_</th>\n",
       "      <th>timesone_</th>\n",
       "      <th>diff_</th>\n",
       "    </tr>\n",
       "  </thead>\n",
       "  <tbody>\n",
       "    <tr>\n",
       "      <th>0</th>\n",
       "      <td></td>\n",
       "      <td>d_</td>\n",
       "      <td>886,668 (92.98%)</td>\n",
       "      <td>None</td>\n",
       "      <td>None</td>\n",
       "      <td>None</td>\n",
       "      <td>None</td>\n",
       "      <td>None</td>\n",
       "    </tr>\n",
       "    <tr>\n",
       "      <th>1</th>\n",
       "      <td>(Sample)</td>\n",
       "      <td>sd_</td>\n",
       "      <td>65 (94.20%)</td>\n",
       "      <td>0.01%</td>\n",
       "      <td>0.01%</td>\n",
       "      <td>101.32%</td>\n",
       "      <td>(+) 1.32%</td>\n",
       "      <td>1.23%</td>\n",
       "    </tr>\n",
       "    <tr>\n",
       "      <th>2</th>\n",
       "      <td>(Popular)</td>\n",
       "      <td>td_</td>\n",
       "      <td>28,145 (94.30%)</td>\n",
       "      <td>3.17%</td>\n",
       "      <td>2.95%</td>\n",
       "      <td>101.43%</td>\n",
       "      <td>(+) 1.43%</td>\n",
       "      <td>1.33%</td>\n",
       "    </tr>\n",
       "  </tbody>\n",
       "</table>\n",
       "</div>"
      ],
      "text/plain": [
       "         name prefix             value  perc_   sup_   times_  timesone_  \\\n",
       "0                 d_  886,668 (92.98%)   None   None     None       None   \n",
       "1   (Sample)     sd_       65 (94.20%)  0.01%  0.01%  101.32%  (+) 1.32%   \n",
       "2  (Popular)     td_   28,145 (94.30%)  3.17%  2.95%  101.43%  (+) 1.43%   \n",
       "\n",
       "   diff_  \n",
       "0   None  \n",
       "1  1.23%  \n",
       "2  1.33%  "
      ]
     },
     "metadata": {},
     "output_type": "display_data"
    }
   ],
   "source": [
    "valid_syntax = python_notebooks[\n",
    "    (python_notebooks[\"python_2\"] | python_notebooks[\"python_3\"])\n",
    "    & (np.bitwise_and(python_notebooks[\"processed\"], 16) == 0)\n",
    "]\n",
    "dbmt_relative_var(\n",
    "    \"Python notebooks with valid syntax: {}\", 'a1_valid_python_notebooks',\n",
    "    dbmt(valid_syntax), dbmt(python_notebooks)\n",
    ")"
   ]
  },
  {
   "cell_type": "code",
   "execution_count": 21,
   "metadata": {},
   "outputs": [
    {
     "name": "stdout",
     "output_type": "stream",
     "text": [
      "Executed notebooks: a1_executed_notebooks\n"
     ]
    },
    {
     "data": {
      "text/html": [
       "<div>\n",
       "<style scoped>\n",
       "    .dataframe tbody tr th:only-of-type {\n",
       "        vertical-align: middle;\n",
       "    }\n",
       "\n",
       "    .dataframe tbody tr th {\n",
       "        vertical-align: top;\n",
       "    }\n",
       "\n",
       "    .dataframe thead th {\n",
       "        text-align: right;\n",
       "    }\n",
       "</style>\n",
       "<table border=\"1\" class=\"dataframe\">\n",
       "  <thead>\n",
       "    <tr style=\"text-align: right;\">\n",
       "      <th></th>\n",
       "      <th>name</th>\n",
       "      <th>prefix</th>\n",
       "      <th>value</th>\n",
       "      <th>perc_</th>\n",
       "      <th>sup_</th>\n",
       "      <th>times_</th>\n",
       "      <th>timesone_</th>\n",
       "      <th>diff_</th>\n",
       "    </tr>\n",
       "  </thead>\n",
       "  <tbody>\n",
       "    <tr>\n",
       "      <th>0</th>\n",
       "      <td></td>\n",
       "      <td>d_</td>\n",
       "      <td>932,382 (91.03%)</td>\n",
       "      <td>None</td>\n",
       "      <td>None</td>\n",
       "      <td>None</td>\n",
       "      <td>None</td>\n",
       "      <td>None</td>\n",
       "    </tr>\n",
       "    <tr>\n",
       "      <th>1</th>\n",
       "      <td>(Sample)</td>\n",
       "      <td>sd_</td>\n",
       "      <td>64 (92.75%)</td>\n",
       "      <td>0.01%</td>\n",
       "      <td>0.01%</td>\n",
       "      <td>101.89%</td>\n",
       "      <td>(+) 1.89%</td>\n",
       "      <td>1.72%</td>\n",
       "    </tr>\n",
       "    <tr>\n",
       "      <th>2</th>\n",
       "      <td>(Popular)</td>\n",
       "      <td>td_</td>\n",
       "      <td>32,821 (86.23%)</td>\n",
       "      <td>3.52%</td>\n",
       "      <td>3.20%</td>\n",
       "      <td>94.73%</td>\n",
       "      <td>(-) 5.27%</td>\n",
       "      <td>-4.80%</td>\n",
       "    </tr>\n",
       "  </tbody>\n",
       "</table>\n",
       "</div>"
      ],
      "text/plain": [
       "         name prefix             value  perc_   sup_   times_  timesone_  \\\n",
       "0                 d_  932,382 (91.03%)   None   None     None       None   \n",
       "1   (Sample)     sd_       64 (92.75%)  0.01%  0.01%  101.89%  (+) 1.89%   \n",
       "2  (Popular)     td_   32,821 (86.23%)  3.52%  3.20%   94.73%  (-) 5.27%   \n",
       "\n",
       "    diff_  \n",
       "0    None  \n",
       "1   1.72%  \n",
       "2  -4.80%  "
      ]
     },
     "metadata": {},
     "output_type": "display_data"
    }
   ],
   "source": [
    "executed_notebooks = non_duplicated[\n",
    "    non_duplicated[\"has_execution_count\"]\n",
    "]\n",
    "dbmt_relative_var(\n",
    "    \"Executed notebooks: {}\", 'a1_executed_notebooks',\n",
    "    dbmt(executed_notebooks), dbmt(non_duplicated),\n",
    ")"
   ]
  },
  {
   "cell_type": "code",
   "execution_count": 22,
   "metadata": {},
   "outputs": [
    {
     "name": "stdout",
     "output_type": "stream",
     "text": [
      "Unambiguous notebooks: a1_unambiguous_notebooks\n"
     ]
    },
    {
     "data": {
      "text/html": [
       "<div>\n",
       "<style scoped>\n",
       "    .dataframe tbody tr th:only-of-type {\n",
       "        vertical-align: middle;\n",
       "    }\n",
       "\n",
       "    .dataframe tbody tr th {\n",
       "        vertical-align: top;\n",
       "    }\n",
       "\n",
       "    .dataframe thead th {\n",
       "        text-align: right;\n",
       "    }\n",
       "</style>\n",
       "<table border=\"1\" class=\"dataframe\">\n",
       "  <thead>\n",
       "    <tr style=\"text-align: right;\">\n",
       "      <th></th>\n",
       "      <th>name</th>\n",
       "      <th>prefix</th>\n",
       "      <th>value</th>\n",
       "      <th>perc_</th>\n",
       "      <th>sup_</th>\n",
       "      <th>times_</th>\n",
       "      <th>timesone_</th>\n",
       "      <th>diff_</th>\n",
       "    </tr>\n",
       "  </thead>\n",
       "  <tbody>\n",
       "    <tr>\n",
       "      <th>0</th>\n",
       "      <td></td>\n",
       "      <td>d_</td>\n",
       "      <td>802,474 (86.07%)</td>\n",
       "      <td>None</td>\n",
       "      <td>None</td>\n",
       "      <td>None</td>\n",
       "      <td>None</td>\n",
       "      <td>None</td>\n",
       "    </tr>\n",
       "    <tr>\n",
       "      <th>1</th>\n",
       "      <td>(Sample)</td>\n",
       "      <td>sd_</td>\n",
       "      <td>53 (82.81%)</td>\n",
       "      <td>0.01%</td>\n",
       "      <td>0.01%</td>\n",
       "      <td>96.22%</td>\n",
       "      <td>(-) 3.78%</td>\n",
       "      <td>-3.25%</td>\n",
       "    </tr>\n",
       "    <tr>\n",
       "      <th>2</th>\n",
       "      <td>(Popular)</td>\n",
       "      <td>td_</td>\n",
       "      <td>28,059 (85.49%)</td>\n",
       "      <td>3.50%</td>\n",
       "      <td>3.01%</td>\n",
       "      <td>99.33%</td>\n",
       "      <td>(-) 0.67%</td>\n",
       "      <td>-0.58%</td>\n",
       "    </tr>\n",
       "  </tbody>\n",
       "</table>\n",
       "</div>"
      ],
      "text/plain": [
       "         name prefix             value  perc_   sup_  times_  timesone_  \\\n",
       "0                 d_  802,474 (86.07%)   None   None    None       None   \n",
       "1   (Sample)     sd_       53 (82.81%)  0.01%  0.01%  96.22%  (-) 3.78%   \n",
       "2  (Popular)     td_   28,059 (85.49%)  3.50%  3.01%  99.33%  (-) 0.67%   \n",
       "\n",
       "    diff_  \n",
       "0    None  \n",
       "1  -3.25%  \n",
       "2  -0.58%  "
      ]
     },
     "metadata": {},
     "output_type": "display_data"
    }
   ],
   "source": [
    "unambiguous_notebooks = executed_notebooks[\n",
    "    (executed_notebooks[\"processing_cells\"] == 0)\n",
    "    & (executed_notebooks[\"unambiguous\"] == 1)\n",
    "]\n",
    "dbmt_relative_var(\n",
    "    \"Unambiguous notebooks: {}\", 'a1_unambiguous_notebooks',\n",
    "    dbmt(unambiguous_notebooks), dbmt(executed_notebooks),\n",
    ")"
   ]
  },
  {
   "cell_type": "code",
   "execution_count": 23,
   "metadata": {},
   "outputs": [
    {
     "name": "stdout",
     "output_type": "stream",
     "text": [
      "Unambiguous Python notebooks: a1_unambiguous_python_notebooks\n"
     ]
    },
    {
     "data": {
      "text/html": [
       "<div>\n",
       "<style scoped>\n",
       "    .dataframe tbody tr th:only-of-type {\n",
       "        vertical-align: middle;\n",
       "    }\n",
       "\n",
       "    .dataframe tbody tr th {\n",
       "        vertical-align: top;\n",
       "    }\n",
       "\n",
       "    .dataframe thead th {\n",
       "        text-align: right;\n",
       "    }\n",
       "</style>\n",
       "<table border=\"1\" class=\"dataframe\">\n",
       "  <thead>\n",
       "    <tr style=\"text-align: right;\">\n",
       "      <th></th>\n",
       "      <th>name</th>\n",
       "      <th>prefix</th>\n",
       "      <th>value</th>\n",
       "      <th>perc_</th>\n",
       "      <th>sup_</th>\n",
       "      <th>times_</th>\n",
       "      <th>timesone_</th>\n",
       "      <th>diff_</th>\n",
       "    </tr>\n",
       "  </thead>\n",
       "  <tbody>\n",
       "    <tr>\n",
       "      <th>0</th>\n",
       "      <td></td>\n",
       "      <td>d_</td>\n",
       "      <td>753,405 (79.00%)</td>\n",
       "      <td>None</td>\n",
       "      <td>None</td>\n",
       "      <td>None</td>\n",
       "      <td>None</td>\n",
       "      <td>None</td>\n",
       "    </tr>\n",
       "    <tr>\n",
       "      <th>1</th>\n",
       "      <td>(Sample)</td>\n",
       "      <td>sd_</td>\n",
       "      <td>53 (76.81%)</td>\n",
       "      <td>0.01%</td>\n",
       "      <td>0.01%</td>\n",
       "      <td>97.23%</td>\n",
       "      <td>(-) 2.77%</td>\n",
       "      <td>-2.19%</td>\n",
       "    </tr>\n",
       "    <tr>\n",
       "      <th>2</th>\n",
       "      <td>(Popular)</td>\n",
       "      <td>td_</td>\n",
       "      <td>22,332 (74.83%)</td>\n",
       "      <td>2.96%</td>\n",
       "      <td>2.34%</td>\n",
       "      <td>94.71%</td>\n",
       "      <td>(-) 5.29%</td>\n",
       "      <td>-4.18%</td>\n",
       "    </tr>\n",
       "  </tbody>\n",
       "</table>\n",
       "</div>"
      ],
      "text/plain": [
       "         name prefix             value  perc_   sup_  times_  timesone_  \\\n",
       "0                 d_  753,405 (79.00%)   None   None    None       None   \n",
       "1   (Sample)     sd_       53 (76.81%)  0.01%  0.01%  97.23%  (-) 2.77%   \n",
       "2  (Popular)     td_   22,332 (74.83%)  2.96%  2.34%  94.71%  (-) 5.29%   \n",
       "\n",
       "    diff_  \n",
       "0    None  \n",
       "1  -2.19%  \n",
       "2  -4.18%  "
      ]
     },
     "metadata": {},
     "output_type": "display_data"
    }
   ],
   "source": [
    "unambiguous_python_notebooks = unambiguous_notebooks[\n",
    "    unambiguous_notebooks[\"python_2\"] \n",
    "    | unambiguous_notebooks[\"python_3\"] \n",
    "]\n",
    "dbmt_relative_var(\n",
    "    \"Unambiguous Python notebooks: {}\", 'a1_unambiguous_python_notebooks',\n",
    "    dbmt(unambiguous_python_notebooks), dbmt(python_notebooks),\n",
    ")"
   ]
  },
  {
   "cell_type": "code",
   "execution_count": 24,
   "metadata": {},
   "outputs": [
    {
     "data": {
      "image/svg+xml": [
       "<svg height=\"178.17537mm\" id=\"svg8\" inkscape:version=\"0.92.3 (2405546, 2018-03-11)\" sodipodi:docname=\"corpus_template.svg\" version=\"1.1\" viewBox=\"0 0 235.99999 178.17537\" width=\"236mm\" xmlns=\"http://www.w3.org/2000/svg\" xmlns:cc=\"http://creativecommons.org/ns#\" xmlns:dc=\"http://purl.org/dc/elements/1.1/\" xmlns:inkscape=\"http://www.inkscape.org/namespaces/inkscape\" xmlns:rdf=\"http://www.w3.org/1999/02/22-rdf-syntax-ns#\" xmlns:sodipodi=\"http://sodipodi.sourceforge.net/DTD/sodipodi-0.dtd\" xmlns:svg=\"http://www.w3.org/2000/svg\">\n",
       "  <defs id=\"defs2\">\n",
       "    <marker id=\"marker2492\" inkscape:isstock=\"true\" inkscape:stockid=\"Arrow2Lend\" orient=\"auto\" refX=\"0\" refY=\"0\" style=\"overflow:visible\">\n",
       "      <path d=\"M 8.7185878,4.0337352 -2.2072895,0.01601326 8.7185884,-4.0017078 c -1.7454984,2.3720609 -1.7354408,5.6174519 -6e-7,8.035443 z\" id=\"path2490\" inkscape:connector-curvature=\"0\" style=\"fill:#000000;fill-opacity:1;fill-rule:evenodd;stroke:#000000;stroke-width:0.625;stroke-linejoin:round;stroke-opacity:1\" transform=\"matrix(-1.1,0,0,-1.1,-1.1,0)\"/>\n",
       "    </marker>\n",
       "    <marker id=\"marker2388\" inkscape:isstock=\"true\" inkscape:stockid=\"Arrow2Lend\" orient=\"auto\" refX=\"0\" refY=\"0\" style=\"overflow:visible\">\n",
       "      <path d=\"M 8.7185878,4.0337352 -2.2072895,0.01601326 8.7185884,-4.0017078 c -1.7454984,2.3720609 -1.7354408,5.6174519 -6e-7,8.035443 z\" id=\"path2386\" inkscape:connector-curvature=\"0\" style=\"fill:#000000;fill-opacity:1;fill-rule:evenodd;stroke:#000000;stroke-width:0.625;stroke-linejoin:round;stroke-opacity:1\" transform=\"matrix(-1.1,0,0,-1.1,-1.1,0)\"/>\n",
       "    </marker>\n",
       "    <marker id=\"marker2292\" inkscape:isstock=\"true\" inkscape:stockid=\"Arrow2Lend\" orient=\"auto\" refX=\"0\" refY=\"0\" style=\"overflow:visible\">\n",
       "      <path d=\"M 8.7185878,4.0337352 -2.2072895,0.01601326 8.7185884,-4.0017078 c -1.7454984,2.3720609 -1.7354408,5.6174519 -6e-7,8.035443 z\" id=\"path2290\" inkscape:connector-curvature=\"0\" style=\"fill:#000000;fill-opacity:1;fill-rule:evenodd;stroke:#000000;stroke-width:0.625;stroke-linejoin:round;stroke-opacity:1\" transform=\"matrix(-1.1,0,0,-1.1,-1.1,0)\"/>\n",
       "    </marker>\n",
       "    <marker id=\"marker2024\" inkscape:isstock=\"true\" inkscape:stockid=\"Arrow2Lend\" orient=\"auto\" refX=\"0\" refY=\"0\" style=\"overflow:visible\">\n",
       "      <path d=\"M 8.7185878,4.0337352 -2.2072895,0.01601326 8.7185884,-4.0017078 c -1.7454984,2.3720609 -1.7354408,5.6174519 -6e-7,8.035443 z\" id=\"path2022\" inkscape:connector-curvature=\"0\" style=\"fill:#000000;fill-opacity:1;fill-rule:evenodd;stroke:#000000;stroke-width:0.625;stroke-linejoin:round;stroke-opacity:1\" transform=\"matrix(-1.1,0,0,-1.1,-1.1,0)\"/>\n",
       "    </marker>\n",
       "    <marker id=\"marker1946\" inkscape:isstock=\"true\" inkscape:stockid=\"Arrow2Lend\" orient=\"auto\" refX=\"0\" refY=\"0\" style=\"overflow:visible\">\n",
       "      <path d=\"M 8.7185878,4.0337352 -2.2072895,0.01601326 8.7185884,-4.0017078 c -1.7454984,2.3720609 -1.7354408,5.6174519 -6e-7,8.035443 z\" id=\"path1944\" inkscape:connector-curvature=\"0\" style=\"fill:#000000;fill-opacity:1;fill-rule:evenodd;stroke:#000000;stroke-width:0.625;stroke-linejoin:round;stroke-opacity:1\" transform=\"matrix(-1.1,0,0,-1.1,-1.1,0)\"/>\n",
       "    </marker>\n",
       "    <marker id=\"marker1874\" inkscape:collect=\"always\" inkscape:isstock=\"true\" inkscape:stockid=\"Arrow2Lend\" orient=\"auto\" refX=\"0\" refY=\"0\" style=\"overflow:visible\">\n",
       "      <path d=\"M 8.7185878,4.0337352 -2.2072895,0.01601326 8.7185884,-4.0017078 c -1.7454984,2.3720609 -1.7354408,5.6174519 -6e-7,8.035443 z\" id=\"path1589\" inkscape:connector-curvature=\"0\" style=\"fill:#000000;fill-opacity:1;fill-rule:evenodd;stroke:#000000;stroke-width:0.625;stroke-linejoin:round;stroke-opacity:1\" transform=\"matrix(-1.1,0,0,-1.1,-1.1,0)\"/>\n",
       "    </marker>\n",
       "    <marker id=\"marker1831\" inkscape:isstock=\"true\" inkscape:stockid=\"Arrow1Lend\" orient=\"auto\" refX=\"0\" refY=\"0\" style=\"overflow:visible\">\n",
       "      <path d=\"M 0,0 5,-5 -12.5,0 5,5 Z\" id=\"path1571\" inkscape:connector-curvature=\"0\" style=\"fill:#000000;fill-opacity:1;fill-rule:evenodd;stroke:#000000;stroke-width:1.00000003pt;stroke-opacity:1\" transform=\"matrix(-0.8,0,0,-0.8,-10,0)\"/>\n",
       "    </marker>\n",
       "    <marker id=\"EmptyTriangleOutL\" inkscape:isstock=\"true\" inkscape:stockid=\"EmptyTriangleOutL\" orient=\"auto\" refX=\"0\" refY=\"0\" style=\"overflow:visible\">\n",
       "      <path d=\"M 5.77,0 -2.88,5 V -5 Z\" id=\"path2659\" inkscape:connector-curvature=\"0\" style=\"fill:#ffffff;fill-rule:evenodd;stroke:#000000;stroke-width:1.00000003pt;stroke-opacity:1\" transform=\"matrix(0.5,0,0,0.5,-3,0)\"/>\n",
       "    </marker>\n",
       "    <marker id=\"DiamondLend\" inkscape:isstock=\"true\" inkscape:stockid=\"DiamondLend\" orient=\"auto\" refX=\"0\" refY=\"0\" style=\"overflow:visible\">\n",
       "      <path d=\"M 0,-7.0710768 -7.0710894,0 0,7.0710589 7.0710462,0 Z\" id=\"path2596\" inkscape:connector-curvature=\"0\" style=\"fill:#000000;fill-opacity:1;fill-rule:evenodd;stroke:#000000;stroke-width:1.00000003pt;stroke-opacity:1\" transform=\"matrix(0.8,0,0,0.8,-5.6,0)\"/>\n",
       "    </marker>\n",
       "    <marker id=\"DiamondL\" inkscape:isstock=\"true\" inkscape:stockid=\"DiamondL\" orient=\"auto\" refX=\"0\" refY=\"0\" style=\"overflow:visible\">\n",
       "      <path d=\"M 0,-7.0710768 -7.0710894,0 0,7.0710589 7.0710462,0 Z\" id=\"path2578\" inkscape:connector-curvature=\"0\" style=\"fill:#000000;fill-opacity:1;fill-rule:evenodd;stroke:#000000;stroke-width:1.00000003pt;stroke-opacity:1\" transform=\"scale(0.8)\"/>\n",
       "    </marker>\n",
       "    <marker id=\"marker2773\" inkscape:isstock=\"true\" inkscape:stockid=\"Arrow1Lend\" orient=\"auto\" refX=\"0\" refY=\"0\" style=\"overflow:visible\">\n",
       "      <path d=\"M 0,0 5,-5 -12.5,0 5,5 Z\" id=\"path2771\" inkscape:connector-curvature=\"0\" style=\"fill:#000000;fill-opacity:1;fill-rule:evenodd;stroke:#000000;stroke-width:1.00000003pt;stroke-opacity:1\" transform=\"matrix(-0.8,0,0,-0.8,-10,0)\"/>\n",
       "    </marker>\n",
       "    <marker id=\"Arrow2Lend\" inkscape:collect=\"always\" inkscape:isstock=\"true\" inkscape:stockid=\"Arrow2Lend\" orient=\"auto\" refX=\"0\" refY=\"0\" style=\"overflow:visible\">\n",
       "      <path d=\"M 8.7185878,4.0337352 -2.2072895,0.01601326 8.7185884,-4.0017078 c -1.7454984,2.3720609 -1.7354408,5.6174519 -6e-7,8.035443 z\" id=\"path2520\" inkscape:connector-curvature=\"0\" style=\"fill:#000000;fill-opacity:1;fill-rule:evenodd;stroke:#000000;stroke-width:0.625;stroke-linejoin:round;stroke-opacity:1\" transform=\"matrix(-1.1,0,0,-1.1,-1.1,0)\"/>\n",
       "    </marker>\n",
       "    <marker id=\"marker2767\" inkscape:isstock=\"true\" inkscape:stockid=\"Arrow1Lend\" orient=\"auto\" refX=\"0\" refY=\"0\" style=\"overflow:visible\">\n",
       "      <path d=\"M 0,0 5,-5 -12.5,0 5,5 Z\" id=\"path2765\" inkscape:connector-curvature=\"0\" style=\"fill:#000000;fill-opacity:1;fill-rule:evenodd;stroke:#000000;stroke-width:1.00000003pt;stroke-opacity:1\" transform=\"matrix(-0.8,0,0,-0.8,-10,0)\"/>\n",
       "    </marker>\n",
       "    <marker id=\"Arrow1Lend\" inkscape:isstock=\"true\" inkscape:stockid=\"Arrow1Lend\" orient=\"auto\" refX=\"0\" refY=\"0\" style=\"overflow:visible\">\n",
       "      <path d=\"M 0,0 5,-5 -12.5,0 5,5 Z\" id=\"path2502\" inkscape:connector-curvature=\"0\" style=\"fill:#000000;fill-opacity:1;fill-rule:evenodd;stroke:#000000;stroke-width:1.00000003pt;stroke-opacity:1\" transform=\"matrix(-0.8,0,0,-0.8,-10,0)\"/>\n",
       "    </marker>\n",
       "    <marker id=\"marker1874-3\" inkscape:collect=\"always\" inkscape:isstock=\"true\" inkscape:stockid=\"Arrow2Lend\" orient=\"auto\" refX=\"0\" refY=\"0\" style=\"overflow:visible\">\n",
       "      <path d=\"M 8.7185878,4.0337352 -2.2072895,0.01601326 8.7185884,-4.0017078 c -1.7454984,2.3720609 -1.7354408,5.6174519 -6e-7,8.035443 z\" id=\"path1589-6\" inkscape:connector-curvature=\"0\" style=\"fill:#000000;fill-opacity:1;fill-rule:evenodd;stroke:#000000;stroke-width:0.625;stroke-linejoin:round;stroke-opacity:1\" transform=\"matrix(-1.1,0,0,-1.1,-1.1,0)\"/>\n",
       "    </marker>\n",
       "    <marker id=\"marker1874-3-5\" inkscape:collect=\"always\" inkscape:isstock=\"true\" inkscape:stockid=\"Arrow2Lend\" orient=\"auto\" refX=\"0\" refY=\"0\" style=\"overflow:visible\">\n",
       "      <path d=\"M 8.7185878,4.0337352 -2.2072895,0.01601326 8.7185884,-4.0017078 c -1.7454984,2.3720609 -1.7354408,5.6174519 -6e-7,8.035443 z\" id=\"path1589-6-3\" inkscape:connector-curvature=\"0\" style=\"fill:#000000;fill-opacity:1;fill-rule:evenodd;stroke:#000000;stroke-width:0.625;stroke-linejoin:round;stroke-opacity:1\" transform=\"matrix(-1.1,0,0,-1.1,-1.1,0)\"/>\n",
       "    </marker>\n",
       "    <marker id=\"Arrow2Lend-1\" inkscape:collect=\"always\" inkscape:isstock=\"true\" inkscape:stockid=\"Arrow2Lend\" orient=\"auto\" refX=\"0\" refY=\"0\" style=\"overflow:visible\">\n",
       "      <path d=\"M 8.7185878,4.0337352 -2.2072895,0.01601326 8.7185884,-4.0017078 c -1.7454984,2.3720609 -1.7354408,5.6174519 -6e-7,8.035443 z\" id=\"path2520-8\" inkscape:connector-curvature=\"0\" style=\"fill:#000000;fill-opacity:1;fill-rule:evenodd;stroke:#000000;stroke-width:0.625;stroke-linejoin:round;stroke-opacity:1\" transform=\"matrix(-1.1,0,0,-1.1,-1.1,0)\"/>\n",
       "    </marker>\n",
       "  </defs>\n",
       "  <sodipodi:namedview bordercolor=\"#666666\" borderopacity=\"1.0\" fit-margin-bottom=\"0\" fit-margin-left=\"0\" fit-margin-right=\"0\" fit-margin-top=\"0\" id=\"base\" inkscape:current-layer=\"layer1\" inkscape:cx=\"760.5617\" inkscape:cy=\"302.56128\" inkscape:document-units=\"mm\" inkscape:measure-end=\"0,0\" inkscape:measure-start=\"0,0\" inkscape:pageopacity=\"0.0\" inkscape:pageshadow=\"2\" inkscape:window-height=\"2022\" inkscape:window-maximized=\"0\" inkscape:window-width=\"1917\" inkscape:window-x=\"1920\" inkscape:window-y=\"0\" inkscape:zoom=\"0.70710678\" pagecolor=\"#ffffff\" showgrid=\"false\" showguides=\"true\"/>\n",
       "  <metadata id=\"metadata5\">\n",
       "    <rdf:RDF>\n",
       "      <cc:Work rdf:about=\"\">\n",
       "        <dc:format>image/svg+xml</dc:format>\n",
       "        <dc:type rdf:resource=\"http://purl.org/dc/dcmitype/StillImage\"/>\n",
       "        <dc:title/>\n",
       "      </cc:Work>\n",
       "    </rdf:RDF>\n",
       "  </metadata>\n",
       "  <g id=\"layer1\" inkscape:groupmode=\"layer\" inkscape:label=\"Layer 1\" transform=\"translate(12.944936,51.510384)\">\n",
       "    <path d=\"M 187.95258,77.006645 V 91.466046\" id=\"path2282\" inkscape:connector-curvature=\"0\" inkscape:label=\"arrowpnv\" style=\"fill:none;stroke:#000000;stroke-width:0.26499999;stroke-linecap:butt;stroke-linejoin:miter;stroke-miterlimit:4;stroke-dasharray:none;stroke-opacity:1;marker-end:url(#marker2292)\"/>\n",
       "    <path d=\"M 178.50613,77.038723 V 86.67379 H 68.310984\" id=\"path2378\" inkscape:connector-curvature=\"0\" inkscape:label=\"arrowpnpu\" style=\"fill:none;stroke:#000000;stroke-width:0.26458332px;stroke-linecap:butt;stroke-linejoin:miter;stroke-opacity:1;marker-end:url(#marker2388)\"/>\n",
       "    <path d=\"m 110.13577,77.07664 v 9.617856\" id=\"path4905\" inkscape:connector-curvature=\"0\" inkscape:label=\"arrowunpu\" style=\"fill:none;stroke:#000000;stroke-width:0.26220331px;stroke-linecap:butt;stroke-linejoin:miter;stroke-opacity:1\"/>\n",
       "    <path d=\"m 57.79894,52.656499 h 6.867832\" id=\"path2482\" inkscape:connector-curvature=\"0\" inkscape:label=\"arrowenun\" style=\"fill:none;stroke:#000000;stroke-width:0.26499999;stroke-linecap:butt;stroke-linejoin:miter;stroke-miterlimit:4;stroke-dasharray:none;stroke-opacity:1;marker-end:url(#marker2492)\"/>\n",
       "    <path d=\"m 187.95258,21.897759 v 5.893014\" id=\"path1566-7\" inkscape:connector-curvature=\"0\" inkscape:label=\"arrowupn\" style=\"fill:none;stroke:#000000;stroke-width:0.26451215;stroke-linecap:butt;stroke-linejoin:miter;stroke-miterlimit:4;stroke-dasharray:none;stroke-opacity:1;marker-end:url(#marker1874-3)\"/>\n",
       "    <path d=\"m 22.60539,21.628854 v 6.149274\" id=\"path1566-7-5\" inkscape:connector-curvature=\"0\" inkscape:label=\"arrowuen\" style=\"fill:none;stroke:#000000;stroke-width:0.26499999;stroke-linecap:butt;stroke-linejoin:miter;stroke-miterlimit:4;stroke-dasharray:none;stroke-opacity:1;marker-end:url(#marker1874-3-5)\"/>\n",
       "    <path d=\"m 187.95258,-15.873215 v 5.9105868\" id=\"path1566\" inkscape:connector-curvature=\"0\" inkscape:label=\"arrowvfu\" style=\"fill:none;stroke:#000000;stroke-width:0.26463491;stroke-linecap:butt;stroke-linejoin:miter;stroke-miterlimit:4;stroke-dasharray:none;stroke-opacity:1;marker-end:url(#marker1874)\"/>\n",
       "    <path d=\"m 135.30821,-32.526921 h 26.70001\" id=\"path1478\" inkscape:connector-curvature=\"0\" inkscape:label=\"arrowd2vf\" style=\"fill:none;stroke:#000000;stroke-width:0.26518181;stroke-linecap:butt;stroke-linejoin:miter;stroke-miterlimit:4;stroke-dasharray:none;stroke-opacity:1;marker-end:url(#Arrow2Lend)\"/>\n",
       "    <path d=\"M 48.041944,-32.479047 H 74.437348\" id=\"path1478-7\" inkscape:connector-curvature=\"0\" inkscape:label=\"arrowd1d2\" style=\"fill:none;stroke:#000000;stroke-width:0.26499999;stroke-linecap:butt;stroke-linejoin:miter;stroke-miterlimit:4;stroke-dasharray:none;stroke-opacity:1;marker-end:url(#Arrow2Lend-1)\"/>\n",
       "    <g id=\"g2865\" inkscape:label=\"validsyntax\" transform=\"translate(0.26458334,-0.00221659)\">\n",
       "      <rect height=\"9.8832998\" id=\"rect1000-8\" inkscape:label=\"titleboxvs\" style=\"fill:#1f77b4;fill-opacity:1;stroke:#000000;stroke-width:0.5;stroke-miterlimit:4;stroke-dasharray:none;stroke-opacity:1\" transform=\"translate(-9.5833336e-8,12.170841)\" width=\"120\" x=\"102.46307\" y=\"80.045166\"/>\n",
       "      <text id=\"text1006-7\" inkscape:label=\"titlevs\" style=\"font-style:normal;font-weight:normal;font-size:7.05555534px;line-height:1;font-family:sans-serif;letter-spacing:0px;word-spacing:0px;fill:#ffffff;fill-opacity:1;stroke:none;stroke-width:0.26458332\" x=\"162.48477\" xml:space=\"preserve\" y=\"99.104134\"><tspan id=\"tspan1002-9\" sodipodi:role=\"line\" style=\"line-height:1.20000005;text-align:center;text-anchor:middle;fill:#ffffff;fill-opacity:1;stroke-width:0.26458332\" x=\"162.48477\" y=\"99.104134\">Valid Syntax</tspan></text>\n",
       "      <rect height=\"16.411688\" id=\"rect1008-0\" inkscape:label=\"mainboxvs\" style=\"fill:#ffffff;fill-opacity:1;stroke:#000000;stroke-width:0.5;stroke-miterlimit:4;stroke-dasharray:none;stroke-opacity:1\" transform=\"translate(-9.5833336e-8,12.170841)\" width=\"120\" x=\"102.46307\" y=\"89.909622\"/>\n",
       "      <text id=\"text1016-2\" inkscape:label=\"maintextvs\" style=\"font-style:normal;font-weight:normal;font-size:5.64444447px;line-height:1.20000005;font-family:sans-serif;letter-spacing:0px;word-spacing:0px;fill:#000000;fill-opacity:1;stroke:none;stroke-width:0.26458332\" transform=\"translate(-9.5833336e-8,12.170841)\" x=\"104.61476\" xml:space=\"preserve\" y=\"96.244461\"><tspan id=\"tspan1010-3\" sodipodi:role=\"line\" style=\"font-size:4.93888903px;line-height:1.20000005;stroke-width:0.26458332\" x=\"104.61476\" y=\"96.244461\">886,668 notebooks</tspan><tspan id=\"tspan1671\" sodipodi:role=\"line\" style=\"font-weight:bold;font-size:4.93888903px;line-height:1.20000005;stroke-width:0.26458332\" x=\"104.61476\" y=\"103.01779\">RQ3 (modularization), RQ4 (tests)</tspan></text>\n",
       "      <rect height=\"7.5001616\" id=\"rect1008-0-5\" inkscape:label=\"psboxvs\" style=\"fill:#ffffff;fill-opacity:1;stroke:#000000;stroke-width:0.5;stroke-miterlimit:4;stroke-dasharray:none;stroke-opacity:1\" transform=\"translate(-9.5833336e-8,12.170841)\" width=\"120\" x=\"102.46307\" y=\"106.32131\"/>\n",
       "      <rect height=\"3.8353179\" id=\"rect1420-97-6-3-6\" inkscape:label=\"samplingboxvs\" style=\"fill:#ff9955;fill-opacity:1;stroke:#000000;stroke-width:0.25;stroke-miterlimit:4;stroke-dasharray:none;stroke-opacity:1\" transform=\"translate(-9.5833336e-8,12.170841)\" width=\"3.8353179\" x=\"205.37581\" y=\"108.15373\"/>\n",
       "      <rect height=\"3.8353179\" id=\"rect1420-9-1\" inkscape:label=\"popularboxvs\" style=\"fill:#008000;fill-opacity:1;stroke:#000000;stroke-width:0.25;stroke-miterlimit:4;stroke-dasharray:none;stroke-opacity:1\" transform=\"translate(-9.5833336e-8,12.170841)\" width=\"3.8353179\" x=\"104.98392\" y=\"108.15373\"/>\n",
       "      <path d=\"m 202.85496,106.29469 v 7.41864\" id=\"path2898-8-8-0-6\" inkscape:connector-curvature=\"0\" inkscape:label=\"samplingdivvs\" style=\"fill:none;stroke:#000000;stroke-width:0.5;stroke-linecap:butt;stroke-linejoin:miter;stroke-miterlimit:4;stroke-dasharray:none;stroke-opacity:1\" transform=\"translate(-9.5833336e-8,12.170841)\"/>\n",
       "      <text id=\"text1016-2-4\" inkscape:label=\"populartextvs\" style=\"font-style:normal;font-weight:normal;font-size:5.64444447px;line-height:1.20000005;font-family:sans-serif;letter-spacing:0px;word-spacing:0px;fill:#000000;fill-opacity:1;stroke:none;stroke-width:0.26458332\" transform=\"translate(-9.5833336e-8,12.170841)\" x=\"111.59007\" xml:space=\"preserve\" y=\"111.89436\"><tspan id=\"tspan1671-6\" sodipodi:role=\"line\" style=\"font-weight:normal;font-size:4.93888903px;line-height:1.20000005;fill:#000000;stroke-width:0.26458332\" x=\"111.59007\" y=\"111.89436\">28,145 popular notebooks</tspan></text>\n",
       "      <text id=\"text1016-2-4-5\" inkscape:label=\"samplingtextvs\" style=\"font-style:normal;font-weight:normal;font-size:5.64444447px;line-height:1.20000005;font-family:sans-serif;letter-spacing:0px;word-spacing:0px;fill:#000000;fill-opacity:1;stroke:none;stroke-width:0.26458332\" x=\"211.98192\" xml:space=\"preserve\" y=\"124.06521\"><tspan id=\"tspan1671-6-6\" sodipodi:role=\"line\" style=\"font-weight:normal;font-size:4.93888903px;line-height:1.20000005;fill:#000000;stroke-width:0.26458332\" x=\"211.98192\" y=\"124.06521\">65</tspan></text>\n",
       "    </g>\n",
       "    <g id=\"g3452\" inkscape:label=\"pythonunambiguous\" transform=\"translate(0.26458334,-0.49609376)\">\n",
       "      <rect height=\"18.35\" id=\"rect3713-3\" inkscape:label=\"titleboxpu\" style=\"fill:#1f77b4;fill-opacity:1;stroke:#000000;stroke-width:0.5;stroke-miterlimit:4;stroke-dasharray:none;stroke-opacity:1\" width=\"80\" x=\"-12.654527\" y=\"84.146194\"/>\n",
       "      <text id=\"text4566-1\" inkscape:label=\"titlepu\" style=\"font-style:normal;font-weight:normal;font-size:7.05555534px;line-height:1;font-family:sans-serif;letter-spacing:0px;word-spacing:0px;fill:#ffffff;fill-opacity:1;stroke:none;stroke-width:0.26458332\" x=\"27.173218\" xml:space=\"preserve\" y=\"91.718193\"><tspan id=\"tspan4568-4\" sodipodi:role=\"line\" style=\"line-height:1.20000005;text-align:center;text-anchor:middle;fill:#ffffff;fill-opacity:1;stroke-width:0.26458332\" x=\"27.173218\" y=\"91.718193\">Python Unambiguous</tspan><tspan id=\"tspan1910\" sodipodi:role=\"line\" style=\"line-height:1.20000005;text-align:center;text-anchor:middle;fill:#ffffff;fill-opacity:1;stroke-width:0.26458332\" x=\"27.17322\" y=\"100.18486\">Execution Order</tspan></text>\n",
       "      <rect height=\"16.411688\" id=\"rect4574-7\" inkscape:label=\"textboxpu\" style=\"fill:#ffffff;fill-opacity:1;stroke:#000000;stroke-width:0.5;stroke-miterlimit:4;stroke-dasharray:none;stroke-opacity:1\" width=\"80\" x=\"-12.654527\" y=\"102.47734\"/>\n",
       "      <text id=\"text824-8\" inkscape:label=\"textpu\" style=\"font-style:normal;font-weight:normal;font-size:5.64444447px;line-height:1.20000005;font-family:sans-serif;letter-spacing:0px;word-spacing:0px;fill:#000000;fill-opacity:1;stroke:none;stroke-width:0.26458332\" x=\"-10.436685\" xml:space=\"preserve\" y=\"108.65906\"><tspan id=\"tspan863-4\" sodipodi:role=\"line\" style=\"font-size:4.93888903px;line-height:1.20000005;stroke-width:0.26458332\" x=\"-10.436685\" y=\"108.65906\">753,405 notebooks</tspan><tspan id=\"tspan867-5\" sodipodi:role=\"line\" style=\"font-weight:bold;font-size:4.93888903px;line-height:1.20000005;stroke-width:0.26458332\" x=\"-10.436685\" y=\"115.43239\">RQ7 (reproducibility)</tspan></text>\n",
       "      <rect height=\"7.5001612\" id=\"rect4574-7-4\" inkscape:label=\"psboxpu\" style=\"fill:#ffffff;fill-opacity:1;stroke:#000000;stroke-width:0.5;stroke-miterlimit:4;stroke-dasharray:none;stroke-opacity:1\" width=\"80\" x=\"-12.654527\" y=\"118.98603\"/>\n",
       "      <text id=\"text824-8-3\" inkscape:label=\"populartextpu\" style=\"font-style:normal;font-weight:normal;font-size:5.64444447px;line-height:1.20000005;font-family:sans-serif;letter-spacing:0px;word-spacing:0px;fill:#000000;fill-opacity:1;stroke:none;stroke-width:0.26458332\" x=\"-3.5275452\" xml:space=\"preserve\" y=\"124.55909\"><tspan id=\"tspan867-5-0\" sodipodi:role=\"line\" style=\"font-weight:normal;font-size:4.93888903px;line-height:1.20000005;fill:#000000;stroke-width:0.26458332\" x=\"-3.5275452\" y=\"124.55909\">22,332 notebooks</tspan></text>\n",
       "      <text id=\"text824-8-3-6\" inkscape:label=\"samplingtextpu\" style=\"font-style:normal;font-weight:normal;font-size:5.64444447px;line-height:1.20000005;font-family:sans-serif;letter-spacing:0px;word-spacing:0px;fill:#000000;fill-opacity:1;stroke:none;stroke-width:0.26458332\" x=\"57.393276\" xml:space=\"preserve\" y=\"124.55909\"><tspan id=\"tspan867-5-0-1\" sodipodi:role=\"line\" style=\"font-weight:normal;font-size:4.93888903px;line-height:1.20000005;fill:#000000;stroke-width:0.26458332\" x=\"57.393276\" y=\"124.55909\">53</tspan></text>\n",
       "      <rect height=\"3.8353179\" id=\"rect1420-9-2-3-0\" inkscape:label=\"popularboxpu\" style=\"fill:#008000;fill-opacity:1;stroke:#000000;stroke-width:0.25;stroke-miterlimit:4;stroke-dasharray:none;stroke-opacity:1\" width=\"3.8353179\" x=\"-10.133695\" y=\"120.81845\"/>\n",
       "      <rect height=\"3.8353179\" id=\"rect1420-97-6-3\" inkscape:label=\"samplingboxpu\" style=\"fill:#ff9955;fill-opacity:1;stroke:#000000;stroke-width:0.25;stroke-miterlimit:4;stroke-dasharray:none;stroke-opacity:1\" width=\"3.8353179\" x=\"50.787125\" y=\"120.81845\"/>\n",
       "      <path d=\"m 48.26629,118.93326 v 7.41864\" id=\"path2898-8-8-0\" inkscape:connector-curvature=\"0\" inkscape:label=\"samplingdivpu\" style=\"fill:none;stroke:#000000;stroke-width:0.5;stroke-linecap:butt;stroke-linejoin:miter;stroke-miterlimit:4;stroke-dasharray:none;stroke-opacity:1\"/>\n",
       "    </g>\n",
       "    <g id=\"g1477\" inkscape:label=\"unambiguous\" transform=\"translate(0.26458334,-3.042708)\">\n",
       "      <rect height=\"18.35\" id=\"rect3713-3-1\" inkscape:label=\"titleboxun\" style=\"fill:#1f77b4;fill-opacity:1;stroke:#000000;stroke-width:0.5;stroke-miterlimit:4;stroke-dasharray:none;stroke-opacity:1\" width=\"80\" x=\"65.108696\" y=\"31.549778\"/>\n",
       "      <text id=\"text4566-1-5\" inkscape:label=\"titletextun\" style=\"font-style:normal;font-weight:normal;font-size:7.05555534px;line-height:1;font-family:sans-serif;letter-spacing:0px;word-spacing:0px;fill:#ffffff;fill-opacity:1;stroke:none;stroke-width:0.26458332\" x=\"104.93644\" xml:space=\"preserve\" y=\"39.121777\"><tspan id=\"tspan4568-4-5\" sodipodi:role=\"line\" style=\"line-height:1.20000005;text-align:center;text-anchor:middle;fill:#ffffff;fill-opacity:1;stroke-width:0.26458332\" x=\"104.93644\" y=\"39.121777\">Unambiguous</tspan><tspan id=\"tspan1910-4\" sodipodi:role=\"line\" style=\"line-height:1.20000005;text-align:center;text-anchor:middle;fill:#ffffff;fill-opacity:1;stroke-width:0.26458332\" x=\"104.93644\" y=\"47.588444\">Execution Order</tspan></text>\n",
       "      <rect height=\"22.439543\" id=\"rect4574-7-7\" inkscape:label=\"mainboxun\" style=\"fill:#ffffff;fill-opacity:1;stroke:#000000;stroke-width:0.5;stroke-miterlimit:4;stroke-dasharray:none;stroke-opacity:1\" width=\"80\" x=\"65.108696\" y=\"49.89978\"/>\n",
       "      <text id=\"text824-8-6\" inkscape:label=\"maintextun\" style=\"font-style:normal;font-weight:normal;font-size:5.64444447px;line-height:1.20000005;font-family:sans-serif;letter-spacing:0px;word-spacing:0px;fill:#000000;fill-opacity:1;stroke:none;stroke-width:0.26458332\" x=\"67.326538\" xml:space=\"preserve\" y=\"55.982273\"><tspan id=\"tspan863-4-5\" sodipodi:role=\"line\" style=\"font-size:4.93888903px;line-height:1.20000005;stroke-width:0.26458332\" x=\"67.326538\" y=\"55.982273\">802,474 notebooks</tspan><tspan id=\"tspan867-5-6\" sodipodi:role=\"line\" style=\"font-weight:bold;font-size:4.93888903px;line-height:1.20000005;stroke-width:0.26458332\" x=\"67.326538\" y=\"62.755608\">RQ6 (execution order)</tspan></text>\n",
       "      <rect height=\"7.5000362\" id=\"rect4574-7-7-2\" inkscape:label=\"spboxun\" style=\"opacity:0.98999999;fill:#ffffff;fill-opacity:1;stroke:#000000;stroke-width:0.49984989;stroke-miterlimit:4;stroke-dasharray:none;stroke-opacity:1\" width=\"80\" x=\"65.108696\" y=\"72.339325\"/>\n",
       "      <text id=\"text824-8-6-2\" inkscape:label=\"populartextun\" style=\"font-style:normal;font-weight:normal;font-size:5.64444447px;line-height:1.20000005;font-family:sans-serif;letter-spacing:0px;word-spacing:0px;fill:#000000;fill-opacity:1;stroke:none;stroke-width:0.26458332\" x=\"74.23568\" xml:space=\"preserve\" y=\"77.912292\"><tspan id=\"tspan867-5-6-7\" sodipodi:role=\"line\" style=\"font-weight:normal;font-size:4.93888903px;line-height:1.20000005;fill:#000000;stroke-width:0.26458332\" x=\"74.23568\" y=\"77.912292\">28,059</tspan></text>\n",
       "      <text id=\"text824-8-6-2-5\" inkscape:label=\"samplingtextun\" style=\"font-style:normal;font-weight:normal;font-size:5.64444447px;line-height:1.20000005;font-family:sans-serif;letter-spacing:0px;word-spacing:0px;fill:#000000;fill-opacity:1;stroke:none;stroke-width:0.26458332\" x=\"134.62752\" xml:space=\"preserve\" y=\"77.912292\"><tspan id=\"tspan867-5-6-7-9\" sodipodi:role=\"line\" style=\"font-weight:normal;font-size:4.93888903px;line-height:1.20000005;fill:#000000;stroke-width:0.26458332\" x=\"134.62752\" y=\"77.912292\">53</tspan></text>\n",
       "      <rect height=\"3.8353179\" id=\"rect1420-9-2\" inkscape:label=\"popularboxun\" style=\"fill:#008000;fill-opacity:1;stroke:#000000;stroke-width:0.25;stroke-miterlimit:4;stroke-dasharray:none;stroke-opacity:1\" width=\"3.8353179\" x=\"67.629532\" y=\"74.171661\"/>\n",
       "      <rect height=\"3.8353179\" id=\"rect1420-97\" inkscape:label=\"samplingboxun\" style=\"fill:#ff9955;fill-opacity:1;stroke:#000000;stroke-width:0.25;stroke-miterlimit:4;stroke-dasharray:none;stroke-opacity:1\" width=\"3.8353179\" x=\"128.02136\" y=\"74.171661\"/>\n",
       "      <path d=\"m 125.50051,72.30383 v 7.418646\" id=\"path2898-8\" inkscape:connector-curvature=\"0\" inkscape:label=\"samplingdivun\" style=\"fill:none;stroke:#000000;stroke-width:0.5;stroke-linecap:butt;stroke-linejoin:miter;stroke-miterlimit:4;stroke-dasharray:none;stroke-opacity:1\"/>\n",
       "    </g>\n",
       "    <g id=\"g2185\" inkscape:label=\"pythonnotebooks\" transform=\"translate(0.26458334,-3.042708)\">\n",
       "      <rect height=\"9.8830814\" id=\"rect3713-6\" inkscape:label=\"titleboxpn\" style=\"fill:#1f77b4;fill-opacity:1;stroke:#000000;stroke-width:0.49991897;stroke-miterlimit:4;stroke-dasharray:none;stroke-opacity:1\" width=\"69.629631\" x=\"152.87785\" y=\"31.549738\"/>\n",
       "      <text id=\"text4566-7\" inkscape:label=\"titlepn\" style=\"font-style:normal;font-weight:normal;font-size:7.15892267px;line-height:1;font-family:sans-serif;letter-spacing:0px;word-spacing:0px;fill:#ffffff;fill-opacity:1;stroke:none;stroke-width:0.26845959\" transform=\"scale(1.0146505,0.98556104)\" x=\"184.80782\" xml:space=\"preserve\" y=\"39.000889\"><tspan id=\"tspan4568-3\" sodipodi:role=\"line\" style=\"line-height:1.20000005;text-align:center;text-anchor:middle;fill:#ffffff;fill-opacity:1;stroke-width:0.26845959\" x=\"184.80782\" y=\"39.000889\">Python Notebooks</tspan></text>\n",
       "      <rect height=\"30.876461\" id=\"rect4574-5\" inkscape:label=\"mainboxpn\" style=\"fill:#ffffff;fill-opacity:1;stroke:#000000;stroke-width:0.5;stroke-miterlimit:4;stroke-dasharray:none;stroke-opacity:1\" width=\"69.624557\" x=\"152.87955\" y=\"41.432819\"/>\n",
       "      <text id=\"text824-6\" inkscape:label=\"maintextpn\" style=\"font-style:normal;font-weight:normal;font-size:5.72713852px;line-height:1.20000005;font-family:sans-serif;letter-spacing:0px;word-spacing:0px;fill:#000000;fill-opacity:1;stroke:none;stroke-width:0.26845959\" transform=\"scale(1.0146505,0.98556104)\" x=\"152.51019\" xml:space=\"preserve\" y=\"48.782566\"><tspan id=\"tspan863-2\" sodipodi:role=\"line\" style=\"font-size:5.0112462px;line-height:1.20000005;stroke-width:0.26845959\" x=\"152.51019\" y=\"48.782566\">953,654 notebooks</tspan><tspan id=\"tspan867-9\" sodipodi:role=\"line\" style=\"font-size:5.0112462px;line-height:1.20000005;stroke-width:0.26845959\" x=\"152.51019\" y=\"55.655132\">Python 2.7: 36.38%</tspan><tspan id=\"tspan1302\" sodipodi:role=\"line\" style=\"font-size:5.0112462px;line-height:1.20000005;stroke-width:0.26845959\" x=\"152.51019\" y=\"62.527699\">Python 3: 63.53%</tspan><tspan id=\"tspan1304\" sodipodi:role=\"line\" style=\"font-size:5.0112462px;line-height:1.20000005;stroke-width:0.26845959\" x=\"152.51019\" y=\"69.400269\">Unknown: 0.08%</tspan></text>\n",
       "      <rect height=\"7.530005\" id=\"rect4574-5-5\" inkscape:label=\"psboxpn\" style=\"fill:#ffffff;fill-opacity:1;stroke:#000000;stroke-width:0.5;stroke-miterlimit:4;stroke-dasharray:none;stroke-opacity:1\" width=\"69.626244\" x=\"152.87955\" y=\"72.30928\"/>\n",
       "      <text id=\"text824-6-1\" inkscape:label=\"populartextpn\" style=\"font-style:normal;font-weight:normal;font-size:5.727139px;line-height:1.20000005;font-family:sans-serif;letter-spacing:0px;word-spacing:0px;fill:#000000;fill-opacity:1;stroke:none;stroke-width:0.26845959\" transform=\"scale(1.0146505,0.98556104)\" x=\"159.66731\" xml:space=\"preserve\" y=\"79.03846\"><tspan id=\"tspan1304-9\" sodipodi:role=\"line\" style=\"font-size:5.01124668px;line-height:1.20000005;fill:#000000;stroke-width:0.26845959\" x=\"159.66731\" y=\"79.03846\">29,845</tspan></text>\n",
       "      <text id=\"text824-6-1-3\" inkscape:label=\"samplingtextpn\" style=\"font-style:normal;font-weight:normal;font-size:5.72713947px;line-height:1.20000005;font-family:sans-serif;letter-spacing:0px;word-spacing:0px;fill:#000000;fill-opacity:1;stroke:none;stroke-width:0.26845959\" transform=\"scale(1.0146505,0.98556104)\" x=\"208.92119\" xml:space=\"preserve\" y=\"79.03846\"><tspan id=\"tspan1304-9-6\" sodipodi:role=\"line\" style=\"font-size:5.01124716px;line-height:1.20000005;fill:#000000;stroke-width:0.26845959\" x=\"208.92119\" y=\"79.03846\">69</tspan></text>\n",
       "      <path d=\"m 202.85496,72.091883 v 7.706065\" id=\"path2898-6\" inkscape:connector-curvature=\"0\" inkscape:label=\"psdivpn\" style=\"fill:none;stroke:#000000;stroke-width:0.5;stroke-linecap:butt;stroke-linejoin:miter;stroke-miterlimit:4;stroke-dasharray:none;stroke-opacity:1\"/>\n",
       "      <rect height=\"3.8353179\" id=\"rect1420\" inkscape:label=\"samplingboxpn\" style=\"fill:#ff9955;fill-opacity:1;stroke:#000000;stroke-width:0.25;stroke-miterlimit:4;stroke-dasharray:none;stroke-opacity:1\" width=\"3.8353179\" x=\"205.37581\" y=\"74.156601\"/>\n",
       "      <rect height=\"3.8353179\" id=\"rect1420-9\" inkscape:label=\"popularboxpn\" style=\"fill:#008000;fill-opacity:1;stroke:#000000;stroke-width:0.25;stroke-miterlimit:4;stroke-dasharray:none;stroke-opacity:1\" width=\"3.8353179\" x=\"155.40034\" y=\"74.156601\"/>\n",
       "    </g>\n",
       "    <g id=\"g3489\" inkscape:label=\"executednotebooks\" transform=\"translate(0.26458334,-2.7232489)\">\n",
       "      <rect height=\"18.35\" id=\"rect3713-6-2\" inkscape:label=\"titleboxen\" style=\"fill:#1f77b4;fill-opacity:1;stroke:#000000;stroke-width:0.5;stroke-miterlimit:4;stroke-dasharray:none;stroke-opacity:1\" width=\"70\" x=\"-12.654526\" y=\"31.230318\"/>\n",
       "      <text id=\"text4566-7-7\" inkscape:label=\"titleen\" style=\"font-style:normal;font-weight:normal;font-size:7.05555534px;line-height:1;font-family:sans-serif;letter-spacing:0px;word-spacing:0px;fill:#ffffff;fill-opacity:1;stroke:none;stroke-width:0.26458332\" x=\"22.173218\" xml:space=\"preserve\" y=\"38.802319\"><tspan id=\"tspan4568-3-9\" sodipodi:role=\"line\" style=\"line-height:1.20000005;text-align:center;text-anchor:middle;fill:#ffffff;fill-opacity:1;stroke-width:0.26458332\" x=\"22.173218\" y=\"38.802319\">Executed</tspan><tspan id=\"tspan1398\" sodipodi:role=\"line\" style=\"line-height:1.20000005;text-align:center;text-anchor:middle;fill:#ffffff;fill-opacity:1;stroke-width:0.26458332\" x=\"22.173218\" y=\"47.268986\">Notebooks</tspan></text>\n",
       "      <rect height=\"29.958357\" id=\"rect4574-5-3\" inkscape:label=\"mainboxen\" style=\"fill:#ffffff;fill-opacity:1;stroke:#000000;stroke-width:0.5;stroke-miterlimit:4;stroke-dasharray:none;stroke-opacity:1\" width=\"70\" x=\"-12.654526\" y=\"49.56147\"/>\n",
       "      <text id=\"text824-6-6\" inkscape:label=\"maintexten\" style=\"font-style:normal;font-weight:normal;font-size:5.64444447px;line-height:1.20000005;font-family:sans-serif;letter-spacing:0px;word-spacing:0px;fill:#000000;fill-opacity:1;stroke:none;stroke-width:0.26458332\" x=\"-10.436684\" xml:space=\"preserve\" y=\"55.692715\"><tspan id=\"tspan863-2-0\" sodipodi:role=\"line\" style=\"font-size:4.93888903px;line-height:1.20000005;stroke-width:0.26458332\" x=\"-10.436684\" y=\"55.692715\">932,382 notebooks</tspan><tspan id=\"tspan867-9-6\" sodipodi:role=\"line\" style=\"font-weight:bold;font-size:4.93888903px;line-height:1.20000005;stroke-width:0.26458332\" x=\"-10.436684\" y=\"62.466049\">RQ5 (executed data)</tspan><tspan id=\"tspan1302-2\" sodipodi:role=\"line\" style=\"font-weight:bold;font-size:4.93888903px;line-height:1.20000005;stroke-width:0.26458332\" x=\"-10.436684\" y=\"69.23938\">RQ6 (execution order)</tspan><tspan id=\"tspan1304-6\" sodipodi:role=\"line\" style=\"font-size:4.93888903px;line-height:1.20000005;stroke-width:0.26458332\" x=\"-10.436684\" y=\"76.012718\"/></text>\n",
       "      <rect height=\"7.5000319\" id=\"rect4574-5-3-2\" inkscape:label=\"spboxen\" style=\"fill:#ffffff;fill-opacity:1;stroke:#000000;stroke-width:0.49996787;stroke-miterlimit:4;stroke-dasharray:none;stroke-opacity:1\" width=\"69.999954\" x=\"-12.654503\" y=\"72.019775\"/>\n",
       "      <text id=\"text824-6-6-1\" inkscape:label=\"populartexten\" style=\"font-style:normal;font-weight:normal;font-size:5.64444447px;line-height:1.20000005;font-family:sans-serif;letter-spacing:0px;word-spacing:0px;fill:#000000;fill-opacity:1;stroke:none;stroke-width:0.26458332\" x=\"-3.5275443\" xml:space=\"preserve\" y=\"77.628265\"><tspan id=\"tspan1302-2-3\" sodipodi:role=\"line\" style=\"font-weight:normal;font-size:4.93888903px;line-height:1.20000005;fill:#000000;stroke-width:0.26458332\" x=\"-3.5275443\" y=\"77.628265\">32,821</tspan><tspan id=\"tspan1304-6-1\" sodipodi:role=\"line\" style=\"font-size:4.93888903px;line-height:1.20000005;fill:#000000;stroke-width:0.26458332\" x=\"-3.5275443\" y=\"84.401596\"/></text>\n",
       "      <text id=\"text824-6-6-1-9\" inkscape:label=\"samplingtexten\" style=\"font-style:normal;font-weight:normal;font-size:5.64444447px;line-height:1.20000005;font-family:sans-serif;letter-spacing:0px;word-spacing:0px;fill:#000000;fill-opacity:1;stroke:none;stroke-width:0.26458332\" x=\"46.864075\" xml:space=\"preserve\" y=\"77.628258\"><tspan id=\"tspan1302-2-3-4\" sodipodi:role=\"line\" style=\"font-weight:normal;font-size:4.93888903px;line-height:1.20000005;fill:#000000;stroke-width:0.26458332\" x=\"46.864075\" y=\"77.628258\">64</tspan><tspan id=\"tspan1304-6-1-7\" sodipodi:role=\"line\" style=\"font-size:4.93888903px;line-height:1.20000005;fill:#000000;stroke-width:0.26458332\" x=\"46.864075\" y=\"84.401588\"/></text>\n",
       "      <rect height=\"3.8353179\" id=\"rect1420-9-2-3\" inkscape:label=\"popularboxen\" style=\"fill:#008000;fill-opacity:1;stroke:#000000;stroke-width:0.25;stroke-miterlimit:4;stroke-dasharray:none;stroke-opacity:1\" width=\"3.8353179\" x=\"-10.133695\" y=\"73.887627\"/>\n",
       "      <rect height=\"3.8353179\" id=\"rect1420-97-6\" inkscape:label=\"samplingboxen\" style=\"fill:#ff9955;fill-opacity:1;stroke:#000000;stroke-width:0.25;stroke-miterlimit:4;stroke-dasharray:none;stroke-opacity:1\" width=\"3.8353179\" x=\"40.257919\" y=\"73.887619\"/>\n",
       "      <path d=\"m 37.737084,72.052539 v 7.418646\" id=\"path2898-8-8\" inkscape:connector-curvature=\"0\" inkscape:label=\"samplingdiven\" style=\"fill:none;stroke:#000000;stroke-width:0.5;stroke-linecap:butt;stroke-linejoin:miter;stroke-miterlimit:4;stroke-dasharray:none;stroke-opacity:1\"/>\n",
       "    </g>\n",
       "    <g id=\"g2975\" inkscape:label=\"uniquenotebooks\" transform=\"translate(0.26458334,9.5250056)\">\n",
       "      <rect height=\"30.936152\" id=\"rect3713-9-9\" inkscape:label=\"titleboxu\" style=\"fill:#1f77b4;fill-opacity:1;stroke:#000000;stroke-width:0.5;stroke-miterlimit:4;stroke-dasharray:none;stroke-opacity:1\" width=\"60.009895\" x=\"-12.654526\" y=\"-18.786829\"/>\n",
       "      <text id=\"text4566-3-2\" inkscape:label=\"titleu\" style=\"font-style:normal;font-weight:normal;font-size:7.05555534px;line-height:1;font-family:sans-serif;letter-spacing:0px;word-spacing:0px;fill:#ffffff;fill-opacity:1;stroke:none;stroke-width:0.26458332\" x=\"17.421045\" xml:space=\"preserve\" y=\"-4.9217577\"><tspan id=\"tspan4568-0-2\" sodipodi:role=\"line\" style=\"line-height:1.20000005;text-align:center;text-anchor:middle;fill:#ffffff;fill-opacity:1;stroke-width:0.26458332\" x=\"17.421045\" y=\"-4.9217577\">Unique</tspan><tspan id=\"tspan1032\" sodipodi:role=\"line\" style=\"line-height:1.20000005;text-align:center;text-anchor:middle;fill:#ffffff;fill-opacity:1;stroke-width:0.26458332\" x=\"17.421045\" y=\"3.544909\">Notebooks</tspan></text>\n",
       "      <rect height=\"30.935545\" id=\"rect4574-6-3\" inkscape:label=\"mainboxu\" style=\"fill:#ffffff;fill-opacity:1;stroke:#000000;stroke-width:0.5;stroke-miterlimit:4;stroke-dasharray:none;stroke-opacity:1\" width=\"175.10751\" x=\"47.35537\" y=\"-18.786222\"/>\n",
       "      <text id=\"text824-2-7\" inkscape:label=\"maintextu\" style=\"font-style:normal;font-variant:normal;font-weight:normal;font-stretch:normal;font-size:5.64444447px;line-height:1.20000005;font-family:sans-serif;-inkscape-font-specification:sans-serif;letter-spacing:0px;word-spacing:0px;fill:#000000;fill-opacity:1;stroke:none;stroke-width:0.26458332\" x=\"49.388844\" xml:space=\"preserve\" y=\"-12.090437\"><tspan id=\"tspan3378\" sodipodi:role=\"line\" style=\"font-style:normal;font-variant:normal;font-weight:normal;font-stretch:normal;font-size:4.93888903px;line-height:1.20000005;font-family:sans-serif;-inkscape-font-specification:sans-serif;stroke-width:0.26458332\" x=\"49.388844\" y=\"-12.090437\">1,024,269 notebooks</tspan><tspan id=\"tspan1038\" sodipodi:role=\"line\" style=\"font-style:normal;font-variant:normal;font-weight:bold;font-stretch:normal;font-size:4.93888903px;line-height:1.20000005;font-family:sans-serif;-inkscape-font-specification:'sans-serif Bold';stroke-width:0.26458332\" x=\"49.388844\" y=\"-5.3171034\">RQ1 (literate programming), RQ2 (name)</tspan></text>\n",
       "      <path d=\"M 173.69038,-18.79047 V 12.149317\" id=\"path2898\" inkscape:connector-curvature=\"0\" inkscape:label=\"pldivu\" style=\"fill:none;stroke:#000000;stroke-width:0.5;stroke-linecap:butt;stroke-linejoin:miter;stroke-miterlimit:4;stroke-dasharray:none;stroke-opacity:1\"/>\n",
       "      <text id=\"text824-2-7-0\" inkscape:label=\"pltextu\" style=\"font-style:normal;font-variant:normal;font-weight:normal;font-stretch:normal;font-size:5.64444447px;line-height:1.20000005;font-family:sans-serif;-inkscape-font-specification:sans-serif;letter-spacing:0px;word-spacing:0px;fill:#000000;fill-opacity:1;stroke:none;stroke-width:0.26458332\" x=\"176.27007\" xml:space=\"preserve\" y=\"-12.090437\"><tspan id=\"tspan1034-3\" sodipodi:role=\"line\" style=\"font-style:normal;font-variant:normal;font-weight:normal;font-stretch:normal;font-size:4.93888903px;line-height:1.20000005;font-family:sans-serif;-inkscape-font-specification:sans-serif;stroke-width:0.26458332\" x=\"176.27007\" y=\"-12.090437\">Python: 93.11%</tspan><tspan id=\"tspan3368\" sodipodi:role=\"line\" style=\"font-style:normal;font-variant:normal;font-weight:normal;font-stretch:normal;font-size:4.93888903px;line-height:1.20000005;font-family:sans-serif;-inkscape-font-specification:sans-serif;stroke-width:0.26458332\" x=\"176.27007\" y=\"-5.3171034\">R: 1.33%</tspan><tspan id=\"tspan3370\" sodipodi:role=\"line\" style=\"font-style:normal;font-variant:normal;font-weight:normal;font-stretch:normal;font-size:4.93888903px;line-height:1.20000005;font-family:sans-serif;-inkscape-font-specification:sans-serif;stroke-width:0.26458332\" x=\"176.27007\" y=\"1.4562303\">Julia: 0.96%</tspan><tspan id=\"tspan3372\" sodipodi:role=\"line\" style=\"font-style:normal;font-variant:normal;font-weight:normal;font-stretch:normal;font-size:4.93888903px;line-height:1.20000005;font-family:sans-serif;-inkscape-font-specification:sans-serif;stroke-width:0.26458332\" x=\"176.27007\" y=\"8.2295637\">Unknown: 3.87%</tspan><tspan id=\"tspan1038-5\" sodipodi:role=\"line\" style=\"font-style:normal;font-variant:normal;font-weight:bold;font-stretch:normal;font-size:4.93888903px;line-height:1.20000005;font-family:sans-serif;-inkscape-font-specification:'sans-serif Bold';stroke-width:0.26458332\" x=\"176.27007\" y=\"15.002897\"/></text>\n",
       "      <rect height=\"15.640712\" id=\"rect1008-3\" inkscape:label=\"psboxu\" style=\"fill:#ffffff;fill-opacity:1;stroke:#000000;stroke-width:0.5;stroke-miterlimit:4;stroke-dasharray:none;stroke-opacity:1\" width=\"126.33501\" x=\"47.35537\" y=\"-3.4913909\"/>\n",
       "      <text id=\"text824-2-7-6\" inkscape:label=\"pstextu\" style=\"font-style:normal;font-variant:normal;font-weight:normal;font-stretch:normal;font-size:5.64444447px;line-height:1.20000005;font-family:sans-serif;-inkscape-font-specification:sans-serif;letter-spacing:0px;word-spacing:0px;fill:#000000;fill-opacity:1;stroke:none;stroke-width:0.26458332\" x=\"56.156799\" xml:space=\"preserve\" y=\"2.6420693\"><tspan id=\"tspan1038-53\" sodipodi:role=\"line\" style=\"font-style:normal;font-variant:normal;font-weight:normal;font-stretch:normal;font-size:4.93888903px;line-height:1.20000005;font-family:sans-serif;-inkscape-font-specification:'sans-serif Bold';fill:#000000;stroke-width:0.26458332\" x=\"56.156799\" y=\"2.6420693\">Popular: 38,063 notebooks</tspan><tspan id=\"tspan1126\" sodipodi:role=\"line\" style=\"font-style:normal;font-variant:normal;font-weight:normal;font-stretch:normal;font-size:4.93888903px;line-height:1.20000005;font-family:sans-serif;-inkscape-font-specification:'sans-serif Bold';fill:#000000;stroke-width:0.26458332\" x=\"56.156799\" y=\"9.4154034\">Sampling: 69 notebooks</tspan></text>\n",
       "      <rect height=\"3.8353179\" id=\"rect1420-9-0\" inkscape:label=\"popularboxu\" style=\"fill:#008000;fill-opacity:1;stroke:#000000;stroke-width:0.25;stroke-miterlimit:4;stroke-dasharray:none;stroke-opacity:1\" width=\"3.8353179\" x=\"49.876205\" y=\"-0.97152287\"/>\n",
       "      <rect height=\"3.8353179\" id=\"rect1420-6\" inkscape:label=\"samplingboxu\" style=\"fill:#ff9955;fill-opacity:1;stroke:#000000;stroke-width:0.25;stroke-miterlimit:4;stroke-dasharray:none;stroke-opacity:1\" width=\"3.8353179\" x=\"49.876205\" y=\"5.7479582\"/>\n",
       "    </g>\n",
       "    <g id=\"g2986\" inkscape:label=\"validformat\" transform=\"translate(0.26458334,9.5250056)\">\n",
       "      <rect height=\"18.35\" id=\"rect1000\" inkscape:label=\"titleboxvf\" style=\"fill:#1f77b4;fill-opacity:1;stroke:#000000;stroke-width:0.5;stroke-miterlimit:4;stroke-dasharray:none;stroke-opacity:1\" width=\"60\" x=\"162.44652\" y=\"-60.354073\"/>\n",
       "      <text id=\"text1006\" inkscape:label=\"titlevf\" style=\"font-style:normal;font-weight:normal;font-size:7.05555534px;line-height:1;font-family:sans-serif;letter-spacing:0px;word-spacing:0px;fill:#ffffff;fill-opacity:1;stroke:none;stroke-width:0.26458332\" x=\"192.35385\" xml:space=\"preserve\" y=\"-52.782074\"><tspan id=\"tspan1002\" sodipodi:role=\"line\" style=\"line-height:1.20000005;text-align:center;text-anchor:middle;fill:#ffffff;fill-opacity:1;stroke-width:0.26458332\" x=\"192.35385\" y=\"-52.782074\">Valid</tspan><tspan id=\"tspan1004\" sodipodi:role=\"line\" style=\"line-height:1.20000005;text-align:center;text-anchor:middle;fill:#ffffff;fill-opacity:1;stroke-width:0.26458332\" x=\"192.35385\" y=\"-44.315407\">Format</tspan></text>\n",
       "      <rect height=\"16.411688\" id=\"rect1008\" inkscape:label=\"mainboxvf\" style=\"fill:#ffffff;fill-opacity:1;stroke:#000000;stroke-width:0.5;stroke-miterlimit:4;stroke-dasharray:none;stroke-opacity:1\" width=\"60\" x=\"162.44652\" y=\"-42.022919\"/>\n",
       "      <text id=\"text1016\" inkscape:label=\"maintextvf\" style=\"font-style:normal;font-weight:normal;font-size:5.64444447px;line-height:1.20000005;font-family:sans-serif;letter-spacing:0px;word-spacing:0px;fill:#000000;fill-opacity:1;stroke:none;stroke-width:0.26458332\" x=\"164.66435\" xml:space=\"preserve\" y=\"-35.841206\"><tspan id=\"tspan1010\" sodipodi:role=\"line\" style=\"font-size:4.93888903px;line-height:1.20000005;stroke-width:0.26458332\" x=\"164.66435\" y=\"-35.841206\">1,251,074 notebooks</tspan><tspan id=\"tspan1012\" sodipodi:role=\"line\" style=\"font-size:4.93888903px;line-height:1.20000005;stroke-width:0.26458332\" x=\"164.66435\" y=\"-29.067871\">234,729 repositories</tspan><tspan id=\"tspan1014\" sodipodi:role=\"line\" style=\"font-size:4.93888903px;line-height:1.20000005;stroke-width:0.26458332\" x=\"164.66435\" y=\"-22.294538\"/></text>\n",
       "    </g>\n",
       "    <g id=\"g1018-3\" inkscape:label=\"dataacquisition2\" transform=\"translate(75.135784,-50.829047)\">\n",
       "      <rect height=\"18.35\" id=\"rect1000-6\" inkscape:label=\"titleboxd2\" style=\"fill:#1f77b4;fill-opacity:1;stroke:#000000;stroke-width:0.5;stroke-miterlimit:4;stroke-dasharray:none;stroke-opacity:1\" width=\"60\" x=\"0\" y=\"0\"/>\n",
       "      <text id=\"text1006-75\" inkscape:label=\"titled2\" style=\"font-style:normal;font-weight:normal;font-size:7.05555534px;line-height:1;font-family:sans-serif;letter-spacing:0px;word-spacing:0px;fill:#ffffff;fill-opacity:1;stroke:none;stroke-width:0.26458332\" x=\"29.956936\" xml:space=\"preserve\" y=\"7.5719991\"><tspan id=\"tspan1004-5\" sodipodi:role=\"line\" style=\"line-height:1.20000005;text-align:center;text-anchor:middle;fill:#ffffff;fill-opacity:1;stroke-width:0.26458332\" x=\"29.956936\" y=\"7.5719991\">Data Acquisition</tspan><tspan id=\"tspan2325\" sodipodi:role=\"line\" style=\"line-height:1.20000005;text-align:center;text-anchor:middle;fill:#ffffff;fill-opacity:1;stroke-width:0.26458332\" x=\"29.956938\" y=\"16.038666\">July 22nd, 2020</tspan></text>\n",
       "      <rect height=\"16.411688\" id=\"rect1008-6\" inkscape:label=\"mainboxd2\" style=\"fill:#ffffff;fill-opacity:1;stroke:#000000;stroke-width:0.5;stroke-miterlimit:4;stroke-dasharray:none;stroke-opacity:1\" width=\"60\" x=\"0\" y=\"18.331154\"/>\n",
       "      <text id=\"text1016-29\" inkscape:label=\"maintextd2\" style=\"font-style:normal;font-weight:normal;font-size:5.64444447px;line-height:1.20000005;font-family:sans-serif;letter-spacing:0px;word-spacing:0px;fill:#000000;fill-opacity:1;stroke:none;stroke-width:0.26458332\" x=\"2.2178421\" xml:space=\"preserve\" y=\"24.512867\"><tspan id=\"tspan1010-1\" sodipodi:role=\"line\" style=\"font-size:4.93888903px;line-height:1.20000005;stroke-width:0.26458332\" x=\"2.2178421\" y=\"24.512867\">1,274,872 notebooks</tspan><tspan id=\"tspan1012-2\" sodipodi:role=\"line\" style=\"font-size:4.93888903px;line-height:1.20000005;stroke-width:0.26458332\" x=\"2.2178421\" y=\"31.286201\">235,643 repositories</tspan><tspan id=\"tspan1014-7\" sodipodi:role=\"line\" style=\"font-size:4.93888903px;line-height:1.20000005;stroke-width:0.26458332\" x=\"2.2178421\" y=\"38.059536\"/></text>\n",
       "    </g>\n",
       "    <g id=\"g944\" inkscape:label=\"dataacquisition1\" transform=\"translate(-12.389942,-50.829047)\">\n",
       "      <rect height=\"18.35\" id=\"rect3713\" inkscape:label=\"titleboxd1\" style=\"fill:#1f77b4;fill-opacity:1;stroke:#000000;stroke-width:0.5;stroke-miterlimit:4;stroke-dasharray:none;stroke-opacity:1\" width=\"60\" x=\"0\" y=\"0\"/>\n",
       "      <text id=\"text4566\" inkscape:label=\"titled1\" style=\"font-style:normal;font-weight:normal;font-size:7.05555534px;line-height:1;font-family:sans-serif;letter-spacing:0px;word-spacing:0px;fill:#ffffff;fill-opacity:1;stroke:none;stroke-width:0.26458332\" x=\"29.956936\" xml:space=\"preserve\" y=\"7.5719991\"><tspan id=\"tspan4564\" sodipodi:role=\"line\" style=\"line-height:1.20000005;text-align:center;text-anchor:middle;fill:#ffffff;fill-opacity:1;stroke-width:0.26458332\" x=\"29.956936\" y=\"7.5719991\">Data Acquisition</tspan><tspan id=\"tspan4568\" sodipodi:role=\"line\" style=\"line-height:1.20000005;text-align:center;text-anchor:middle;fill:#ffffff;fill-opacity:1;stroke-width:0.26458332\" x=\"29.956936\" y=\"16.038666\">April 16th, 2018</tspan></text>\n",
       "      <rect height=\"16.411688\" id=\"rect4574\" inkscape:label=\"mainboxd1\" style=\"fill:#ffffff;fill-opacity:1;stroke:#000000;stroke-width:0.5;stroke-miterlimit:4;stroke-dasharray:none;stroke-opacity:1\" width=\"60\" x=\"0\" y=\"18.331154\"/>\n",
       "      <text id=\"text824\" inkscape:label=\"maintextd1\" style=\"font-style:normal;font-weight:normal;font-size:5.64444447px;line-height:1.20000005;font-family:sans-serif;letter-spacing:0px;word-spacing:0px;fill:#000000;fill-opacity:1;stroke:none;stroke-width:0.26458332\" x=\"2.2178421\" xml:space=\"preserve\" y=\"24.512867\"><tspan id=\"tspan863\" sodipodi:role=\"line\" style=\"font-size:4.93888903px;line-height:1.20000005;stroke-width:0.26458332\" x=\"2.2178421\" y=\"24.512867\">1,450,071 notebooks</tspan><tspan id=\"tspan867\" sodipodi:role=\"line\" style=\"font-size:4.93888903px;line-height:1.20000005;stroke-width:0.26458332\" x=\"2.2178421\" y=\"31.286201\">265,888 repositories</tspan></text>\n",
       "    </g>\n",
       "  </g>\n",
       "</svg>"
      ],
      "text/plain": [
       "<IPython.core.display.SVG object>"
      ]
     },
     "execution_count": 24,
     "metadata": {},
     "output_type": "execute_result"
    }
   ],
   "source": [
    "VAR = load_vars()\n",
    "\n",
    "def replace(x):\n",
    "    key = x.group(1)\n",
    "    if key in VAR:\n",
    "        return VAR[key].replace('\\\\textgreater{}', '>').replace(\"\\\\\", \"\")\n",
    "    print(key)\n",
    "    return \"\\\\u{{{}}}\".format(key)\n",
    "\n",
    "with open(\"corpus_template.svg\", \"r\") as f:\n",
    "    svg_content = f.read()\n",
    "with open(\"outputs/a1_corpus.svg\", \"w\") as f:\n",
    "    f.write(re.sub(r\"\\\\v\\{(.*?)\\}\", replace, svg_content))\n",
    "SVG(\"outputs/a1_corpus.svg\")"
   ]
  },
  {
   "cell_type": "code",
   "execution_count": 25,
   "metadata": {},
   "outputs": [],
   "source": [
    "!inkscape outputs/a1_corpus.svg --export-pdf=outputs/a1_corpus.pdf"
   ]
  },
  {
   "cell_type": "markdown",
   "metadata": {},
   "source": [
    "## Introduction\n",
    "\n",
    "Additional variables used in the introduction"
   ]
  },
  {
   "cell_type": "code",
   "execution_count": 26,
   "metadata": {
    "scrolled": true
   },
   "outputs": [
    {
     "name": "stdout",
     "output_type": "stream",
     "text": [
      "Attempted executions: a1_attempted_executions\n"
     ]
    },
    {
     "data": {
      "text/html": [
       "<div>\n",
       "<style scoped>\n",
       "    .dataframe tbody tr th:only-of-type {\n",
       "        vertical-align: middle;\n",
       "    }\n",
       "\n",
       "    .dataframe tbody tr th {\n",
       "        vertical-align: top;\n",
       "    }\n",
       "\n",
       "    .dataframe thead th {\n",
       "        text-align: right;\n",
       "    }\n",
       "</style>\n",
       "<table border=\"1\" class=\"dataframe\">\n",
       "  <thead>\n",
       "    <tr style=\"text-align: right;\">\n",
       "      <th></th>\n",
       "      <th>name</th>\n",
       "      <th>prefix</th>\n",
       "      <th>value</th>\n",
       "      <th>perc_</th>\n",
       "      <th>sup_</th>\n",
       "      <th>times_</th>\n",
       "      <th>timesone_</th>\n",
       "      <th>diff_</th>\n",
       "    </tr>\n",
       "  </thead>\n",
       "  <tbody>\n",
       "    <tr>\n",
       "      <th>0</th>\n",
       "      <td></td>\n",
       "      <td>d_</td>\n",
       "      <td>672,146 (89.21%)</td>\n",
       "      <td>None</td>\n",
       "      <td>None</td>\n",
       "      <td>None</td>\n",
       "      <td>None</td>\n",
       "      <td>None</td>\n",
       "    </tr>\n",
       "    <tr>\n",
       "      <th>1</th>\n",
       "      <td>(Sample)</td>\n",
       "      <td>sd_</td>\n",
       "      <td>43 (81.13%)</td>\n",
       "      <td>0.01%</td>\n",
       "      <td>0.01%</td>\n",
       "      <td>90.94%</td>\n",
       "      <td>(-) 9.06%</td>\n",
       "      <td>-8.08%</td>\n",
       "    </tr>\n",
       "    <tr>\n",
       "      <th>2</th>\n",
       "      <td>(Popular)</td>\n",
       "      <td>td_</td>\n",
       "      <td>17,411 (77.96%)</td>\n",
       "      <td>2.59%</td>\n",
       "      <td>2.31%</td>\n",
       "      <td>87.39%</td>\n",
       "      <td>(-) 12.61%</td>\n",
       "      <td>-11.25%</td>\n",
       "    </tr>\n",
       "  </tbody>\n",
       "</table>\n",
       "</div>"
      ],
      "text/plain": [
       "         name prefix             value  perc_   sup_  times_   timesone_  \\\n",
       "0                 d_  672,146 (89.21%)   None   None    None        None   \n",
       "1   (Sample)     sd_       43 (81.13%)  0.01%  0.01%  90.94%   (-) 9.06%   \n",
       "2  (Popular)     td_   17,411 (77.96%)  2.59%  2.31%  87.39%  (-) 12.61%   \n",
       "\n",
       "     diff_  \n",
       "0     None  \n",
       "1   -8.08%  \n",
       "2  -11.25%  "
      ]
     },
     "metadata": {},
     "output_type": "display_data"
    }
   ],
   "source": [
    "attempted_execution = unambiguous_python_notebooks[\n",
    "    unambiguous_python_notebooks[\"topdown_attempted_execution\"]\n",
    "    | unambiguous_python_notebooks[\"execorder_attempted_execution\"]\n",
    "]\n",
    "dbmt_relative_var(\n",
    "    \"Attempted executions: {}\", 'a1_attempted_executions',\n",
    "    dbmt(attempted_execution), dbmt(unambiguous_python_notebooks),\n",
    ")"
   ]
  },
  {
   "cell_type": "code",
   "execution_count": 27,
   "metadata": {},
   "outputs": [
    {
     "name": "stdout",
     "output_type": "stream",
     "text": [
      "Run all cells: a1_repro_finished\n"
     ]
    },
    {
     "data": {
      "text/html": [
       "<div>\n",
       "<style scoped>\n",
       "    .dataframe tbody tr th:only-of-type {\n",
       "        vertical-align: middle;\n",
       "    }\n",
       "\n",
       "    .dataframe tbody tr th {\n",
       "        vertical-align: top;\n",
       "    }\n",
       "\n",
       "    .dataframe thead th {\n",
       "        text-align: right;\n",
       "    }\n",
       "</style>\n",
       "<table border=\"1\" class=\"dataframe\">\n",
       "  <thead>\n",
       "    <tr style=\"text-align: right;\">\n",
       "      <th></th>\n",
       "      <th>name</th>\n",
       "      <th>prefix</th>\n",
       "      <th>value</th>\n",
       "      <th>perc_</th>\n",
       "      <th>sup_</th>\n",
       "      <th>times_</th>\n",
       "      <th>timesone_</th>\n",
       "      <th>diff_</th>\n",
       "    </tr>\n",
       "  </thead>\n",
       "  <tbody>\n",
       "    <tr>\n",
       "      <th>0</th>\n",
       "      <td></td>\n",
       "      <td>d_</td>\n",
       "      <td>162,977 (24.25%)</td>\n",
       "      <td>None</td>\n",
       "      <td>None</td>\n",
       "      <td>None</td>\n",
       "      <td>None</td>\n",
       "      <td>None</td>\n",
       "    </tr>\n",
       "    <tr>\n",
       "      <th>1</th>\n",
       "      <td>(Sample)</td>\n",
       "      <td>sd_</td>\n",
       "      <td>13 (30.23%)</td>\n",
       "      <td>0.01%</td>\n",
       "      <td>0.00%</td>\n",
       "      <td>124.68%</td>\n",
       "      <td>(+) 24.68%</td>\n",
       "      <td>5.99%</td>\n",
       "    </tr>\n",
       "    <tr>\n",
       "      <th>2</th>\n",
       "      <td>(Popular)</td>\n",
       "      <td>td_</td>\n",
       "      <td>5,532 (31.77%)</td>\n",
       "      <td>3.39%</td>\n",
       "      <td>0.82%</td>\n",
       "      <td>131.04%</td>\n",
       "      <td>(+) 31.04%</td>\n",
       "      <td>7.53%</td>\n",
       "    </tr>\n",
       "  </tbody>\n",
       "</table>\n",
       "</div>"
      ],
      "text/plain": [
       "         name prefix             value  perc_   sup_   times_   timesone_  \\\n",
       "0                 d_  162,977 (24.25%)   None   None     None        None   \n",
       "1   (Sample)     sd_       13 (30.23%)  0.01%  0.00%  124.68%  (+) 24.68%   \n",
       "2  (Popular)     td_    5,532 (31.77%)  3.39%  0.82%  131.04%  (+) 31.04%   \n",
       "\n",
       "   diff_  \n",
       "0   None  \n",
       "1  5.99%  \n",
       "2  7.53%  "
      ]
     },
     "metadata": {},
     "output_type": "display_data"
    }
   ],
   "source": [
    "repro_finished = attempted_execution[\n",
    "    attempted_execution[\"topdown_run_all_cells\"]\n",
    "    | attempted_execution[\"execorder_run_all_cells\"]\n",
    "]\n",
    "dbmt_relative_var(\n",
    "    \"Run all cells: {}\", 'a1_repro_finished',\n",
    "    dbmt(repro_finished), dbmt(attempted_execution),\n",
    ")"
   ]
  },
  {
   "cell_type": "code",
   "execution_count": 28,
   "metadata": {},
   "outputs": [
    {
     "name": "stdout",
     "output_type": "stream",
     "text": [
      "Same results (original): a1_same_results_original\n"
     ]
    },
    {
     "data": {
      "text/html": [
       "<div>\n",
       "<style scoped>\n",
       "    .dataframe tbody tr th:only-of-type {\n",
       "        vertical-align: middle;\n",
       "    }\n",
       "\n",
       "    .dataframe tbody tr th {\n",
       "        vertical-align: top;\n",
       "    }\n",
       "\n",
       "    .dataframe thead th {\n",
       "        text-align: right;\n",
       "    }\n",
       "</style>\n",
       "<table border=\"1\" class=\"dataframe\">\n",
       "  <thead>\n",
       "    <tr style=\"text-align: right;\">\n",
       "      <th></th>\n",
       "      <th>name</th>\n",
       "      <th>prefix</th>\n",
       "      <th>value</th>\n",
       "      <th>perc_</th>\n",
       "      <th>sup_</th>\n",
       "      <th>times_</th>\n",
       "      <th>timesone_</th>\n",
       "      <th>diff_</th>\n",
       "    </tr>\n",
       "  </thead>\n",
       "  <tbody>\n",
       "    <tr>\n",
       "      <th>0</th>\n",
       "      <td></td>\n",
       "      <td>d_</td>\n",
       "      <td>37,595 (5.59%)</td>\n",
       "      <td>None</td>\n",
       "      <td>None</td>\n",
       "      <td>None</td>\n",
       "      <td>None</td>\n",
       "      <td>None</td>\n",
       "    </tr>\n",
       "    <tr>\n",
       "      <th>1</th>\n",
       "      <td>(Sample)</td>\n",
       "      <td>sd_</td>\n",
       "      <td>5 (11.63%)</td>\n",
       "      <td>0.01%</td>\n",
       "      <td>0.00%</td>\n",
       "      <td>207.89%</td>\n",
       "      <td>(+) 107.89%</td>\n",
       "      <td>6.03%</td>\n",
       "    </tr>\n",
       "    <tr>\n",
       "      <th>2</th>\n",
       "      <td>(Popular)</td>\n",
       "      <td>td_</td>\n",
       "      <td>1,800 (10.34%)</td>\n",
       "      <td>4.79%</td>\n",
       "      <td>0.27%</td>\n",
       "      <td>184.83%</td>\n",
       "      <td>(+) 84.83%</td>\n",
       "      <td>4.75%</td>\n",
       "    </tr>\n",
       "  </tbody>\n",
       "</table>\n",
       "</div>"
      ],
      "text/plain": [
       "         name prefix           value  perc_   sup_   times_    timesone_  \\\n",
       "0                 d_  37,595 (5.59%)   None   None     None         None   \n",
       "1   (Sample)     sd_      5 (11.63%)  0.01%  0.00%  207.89%  (+) 107.89%   \n",
       "2  (Popular)     td_  1,800 (10.34%)  4.79%  0.27%  184.83%   (+) 84.83%   \n",
       "\n",
       "   diff_  \n",
       "0   None  \n",
       "1  6.03%  \n",
       "2  4.75%  "
      ]
     },
     "metadata": {},
     "output_type": "display_data"
    }
   ],
   "source": [
    "same_results_original = attempted_execution[\n",
    "    attempted_execution[\"topdown_original_same_results\"]\n",
    "    | attempted_execution[\"execorder_original_same_results\"]\n",
    "]\n",
    "dbmt_relative_var(\n",
    "    \"Same results (original): {}\", 'a1_same_results_original',\n",
    "    dbmt(same_results_original), dbmt(attempted_execution),\n",
    ")"
   ]
  },
  {
   "cell_type": "code",
   "execution_count": 29,
   "metadata": {},
   "outputs": [
    {
     "name": "stdout",
     "output_type": "stream",
     "text": [
      "Same results (image): a1_same_results_image\n"
     ]
    },
    {
     "data": {
      "text/html": [
       "<div>\n",
       "<style scoped>\n",
       "    .dataframe tbody tr th:only-of-type {\n",
       "        vertical-align: middle;\n",
       "    }\n",
       "\n",
       "    .dataframe tbody tr th {\n",
       "        vertical-align: top;\n",
       "    }\n",
       "\n",
       "    .dataframe thead th {\n",
       "        text-align: right;\n",
       "    }\n",
       "</style>\n",
       "<table border=\"1\" class=\"dataframe\">\n",
       "  <thead>\n",
       "    <tr style=\"text-align: right;\">\n",
       "      <th></th>\n",
       "      <th>name</th>\n",
       "      <th>prefix</th>\n",
       "      <th>value</th>\n",
       "      <th>perc_</th>\n",
       "      <th>sup_</th>\n",
       "      <th>times_</th>\n",
       "      <th>timesone_</th>\n",
       "      <th>diff_</th>\n",
       "    </tr>\n",
       "  </thead>\n",
       "  <tbody>\n",
       "    <tr>\n",
       "      <th>0</th>\n",
       "      <td></td>\n",
       "      <td>d_</td>\n",
       "      <td>84,669 (12.60%)</td>\n",
       "      <td>None</td>\n",
       "      <td>None</td>\n",
       "      <td>None</td>\n",
       "      <td>None</td>\n",
       "      <td>None</td>\n",
       "    </tr>\n",
       "    <tr>\n",
       "      <th>1</th>\n",
       "      <td>(Sample)</td>\n",
       "      <td>sd_</td>\n",
       "      <td>7 (16.28%)</td>\n",
       "      <td>0.01%</td>\n",
       "      <td>0.00%</td>\n",
       "      <td>129.23%</td>\n",
       "      <td>(+) 29.23%</td>\n",
       "      <td>3.68%</td>\n",
       "    </tr>\n",
       "    <tr>\n",
       "      <th>2</th>\n",
       "      <td>(Popular)</td>\n",
       "      <td>td_</td>\n",
       "      <td>3,100 (17.80%)</td>\n",
       "      <td>3.66%</td>\n",
       "      <td>0.46%</td>\n",
       "      <td>141.34%</td>\n",
       "      <td>(+) 41.34%</td>\n",
       "      <td>5.21%</td>\n",
       "    </tr>\n",
       "  </tbody>\n",
       "</table>\n",
       "</div>"
      ],
      "text/plain": [
       "         name prefix            value  perc_   sup_   times_   timesone_  \\\n",
       "0                 d_  84,669 (12.60%)   None   None     None        None   \n",
       "1   (Sample)     sd_       7 (16.28%)  0.01%  0.00%  129.23%  (+) 29.23%   \n",
       "2  (Popular)     td_   3,100 (17.80%)  3.66%  0.46%  141.34%  (+) 41.34%   \n",
       "\n",
       "   diff_  \n",
       "0   None  \n",
       "1  3.68%  \n",
       "2  5.21%  "
      ]
     },
     "metadata": {},
     "output_type": "display_data"
    }
   ],
   "source": [
    "same_results_image = attempted_execution[\n",
    "    attempted_execution[\"topdown_image_same_results\"]\n",
    "    | attempted_execution[\"execorder_image_same_results\"]\n",
    "]\n",
    "dbmt_relative_var(\n",
    "    \"Same results (image): {}\", 'a1_same_results_image',\n",
    "    dbmt(same_results_image), dbmt(attempted_execution),\n",
    ")"
   ]
  },
  {
   "cell_type": "markdown",
   "metadata": {},
   "source": [
    "## Data Collection\n",
    "\n",
    "Additional variables used in the data collection"
   ]
  },
  {
   "cell_type": "markdown",
   "metadata": {},
   "source": [
    "### Notebooks count by repository"
   ]
  },
  {
   "cell_type": "code",
   "execution_count": 30,
   "metadata": {},
   "outputs": [
    {
     "name": "stdout",
     "output_type": "stream",
     "text": [
      "Repositories with 2 or fewer notebooks: 159,764 (60.09%)\n"
     ]
    }
   ],
   "source": [
    "repositories_2_or_fewer = t_repositories[\n",
    "    t_repositories[\"notebooks_count\"] <= 2\n",
    "]\n",
    "\n",
    "print(\"Repositories with 2 or fewer notebooks: {}\".format(relative_var(\n",
    "    \"t_a1_repositories_2_notebooks\", len(repositories_2_or_fewer), len(t_repositories), \"{:,}\")\n",
    "))"
   ]
  },
  {
   "cell_type": "code",
   "execution_count": 31,
   "metadata": {},
   "outputs": [
    {
     "name": "stdout",
     "output_type": "stream",
     "text": [
      "Repositories with 10 or more notebooks: 33,027 (12.42%)\n"
     ]
    }
   ],
   "source": [
    "repositories_10_or_more = t_repositories[\n",
    "    t_repositories[\"notebooks_count\"] >= 10\n",
    "]\n",
    "\n",
    "print(\"Repositories with 10 or more notebooks: {}\".format(relative_var(\n",
    "    \"t_a1_repositories_10_or_more\", len(repositories_10_or_more), len(t_repositories), \"{:,}\")\n",
    "))"
   ]
  },
  {
   "cell_type": "code",
   "execution_count": 32,
   "metadata": {},
   "outputs": [
    {
     "name": "stdout",
     "output_type": "stream",
     "text": [
      "Notebooks from repositories with 10 or more notebooks: 891,034 (61.45%)\n"
     ]
    }
   ],
   "source": [
    "print(\"Notebooks from repositories with 10 or more notebooks: {}\".format(relative_var(\n",
    "    \"t_a1_notebooks_from_repositories_with_10_or_more\",\n",
    "    repositories_10_or_more[\"notebooks_count\"].sum(),\n",
    "    t_repositories[\"notebooks_count\"].sum(), \"{:,}\")\n",
    "))"
   ]
  },
  {
   "cell_type": "markdown",
   "metadata": {},
   "source": [
    "### Duplicated notebooks"
   ]
  },
  {
   "cell_type": "code",
   "execution_count": 33,
   "metadata": {},
   "outputs": [
    {
     "name": "stdout",
     "output_type": "stream",
     "text": [
      "Duplicated notebooks: 226,805 (18.13%)\n"
     ]
    }
   ],
   "source": [
    "duplicated_total = len(valid_notebooks) - len(non_duplicated)\n",
    "print(\"Duplicated notebooks: {}\".format(relative_var(\n",
    "    \"f_a1_removed_duplicated_notebooks\",\n",
    "    duplicated_total,\n",
    "    len(valid_notebooks)\n",
    ")))"
   ]
  },
  {
   "cell_type": "markdown",
   "metadata": {},
   "source": [
    "### Programming language"
   ]
  },
  {
   "cell_type": "code",
   "execution_count": 34,
   "metadata": {},
   "outputs": [
    {
     "name": "stdout",
     "output_type": "stream",
     "text": [
      "\n"
     ]
    },
    {
     "data": {
      "image/png": "[encoded data removed]",
      "text/plain": [
       "<Figure size 792x360 with 1 Axes>"
      ]
     },
     "metadata": {
      "needs_background": "light"
     },
     "output_type": "display_data"
    },
    {
     "name": "stdout",
     "output_type": "stream",
     "text": [
      "(Sample) \n"
     ]
    },
    {
     "data": {
      "image/png": "[encoded data removed]",
      "text/plain": [
       "<Figure size 792x360 with 1 Axes>"
      ]
     },
     "metadata": {
      "needs_background": "light"
     },
     "output_type": "display_data"
    },
    {
     "name": "stdout",
     "output_type": "stream",
     "text": [
      "(Popular) \n"
     ]
    },
    {
     "data": {
      "image/png": "[encoded data removed]",
      "text/plain": [
       "<Figure size 792x360 with 1 Axes>"
      ]
     },
     "metadata": {
      "needs_background": "light"
     },
     "output_type": "display_data"
    }
   ],
   "source": [
    "def programming_language(counts, prefix):\n",
    "    with savefig(prefix + \"a1_programming_language\", 11, 5):\n",
    "        fig, cnt = display_counts(counts, show_values=True, plot=False, template=\"{:,.0f}\", template2=\"{:,.0f}\", cut=slice(None, 15))\n",
    "        ax = plt.gca()\n",
    "        ax.set_ylabel(\"Notebooks\")\n",
    "        ax.set_xlabel(\"Programming Language\")\n",
    "        ax.legend().set_visible(False)\n",
    "        ax.set_xticklabels(ax.get_xticklabels(), rotation=50, ha=\"right\")\n",
    "        ax.xaxis.labelpad = -6\n",
    "        ax.yaxis.labelpad = -15\n",
    "\n",
    "dfs = dbmt(non_duplicated)\n",
    "for df, (prefix, name) in zip(dfs, DBMT):\n",
    "    print(name)\n",
    "    programming_language(df[\"language\"].value_counts(), prefix)\n",
    "    plt.show()\n"
   ]
  },
  {
   "cell_type": "markdown",
   "metadata": {},
   "source": [
    "### Notebooks with nbformat <= 3 are probably Python\n",
    "But they do not declare python version"
   ]
  },
  {
   "cell_type": "code",
   "execution_count": 35,
   "metadata": {},
   "outputs": [
    {
     "name": "stdout",
     "output_type": "stream",
     "text": [
      "Notebooks with nbformat <= 3: a1_nbformat_lt_3\n"
     ]
    },
    {
     "data": {
      "text/html": [
       "<div>\n",
       "<style scoped>\n",
       "    .dataframe tbody tr th:only-of-type {\n",
       "        vertical-align: middle;\n",
       "    }\n",
       "\n",
       "    .dataframe tbody tr th {\n",
       "        vertical-align: top;\n",
       "    }\n",
       "\n",
       "    .dataframe thead th {\n",
       "        text-align: right;\n",
       "    }\n",
       "</style>\n",
       "<table border=\"1\" class=\"dataframe\">\n",
       "  <thead>\n",
       "    <tr style=\"text-align: right;\">\n",
       "      <th></th>\n",
       "      <th>name</th>\n",
       "      <th>prefix</th>\n",
       "      <th>value</th>\n",
       "      <th>perc_</th>\n",
       "      <th>sup_</th>\n",
       "      <th>times_</th>\n",
       "      <th>timesone_</th>\n",
       "      <th>diff_</th>\n",
       "    </tr>\n",
       "  </thead>\n",
       "  <tbody>\n",
       "    <tr>\n",
       "      <th>0</th>\n",
       "      <td></td>\n",
       "      <td>d_</td>\n",
       "      <td>30,953 (3.02%)</td>\n",
       "      <td>None</td>\n",
       "      <td>None</td>\n",
       "      <td>None</td>\n",
       "      <td>None</td>\n",
       "      <td>None</td>\n",
       "    </tr>\n",
       "    <tr>\n",
       "      <th>1</th>\n",
       "      <td>(Sample)</td>\n",
       "      <td>sd_</td>\n",
       "      <td>0 (0.00%)</td>\n",
       "      <td>0.00%</td>\n",
       "      <td>0.00%</td>\n",
       "      <td>0.00%</td>\n",
       "      <td>(-) 100.00%</td>\n",
       "      <td>-3.02%</td>\n",
       "    </tr>\n",
       "    <tr>\n",
       "      <th>2</th>\n",
       "      <td>(Popular)</td>\n",
       "      <td>td_</td>\n",
       "      <td>6,602 (17.34%)</td>\n",
       "      <td>21.33%</td>\n",
       "      <td>0.64%</td>\n",
       "      <td>573.96%</td>\n",
       "      <td>(+) 473.96%</td>\n",
       "      <td>14.32%</td>\n",
       "    </tr>\n",
       "  </tbody>\n",
       "</table>\n",
       "</div>"
      ],
      "text/plain": [
       "         name prefix           value   perc_   sup_   times_    timesone_  \\\n",
       "0                 d_  30,953 (3.02%)    None   None     None         None   \n",
       "1   (Sample)     sd_       0 (0.00%)   0.00%  0.00%    0.00%  (-) 100.00%   \n",
       "2  (Popular)     td_  6,602 (17.34%)  21.33%  0.64%  573.96%  (+) 473.96%   \n",
       "\n",
       "    diff_  \n",
       "0    None  \n",
       "1  -3.02%  \n",
       "2  14.32%  "
      ]
     },
     "metadata": {},
     "output_type": "display_data"
    }
   ],
   "source": [
    "dbmt_relative_var(\n",
    "    \"Notebooks with nbformat <= 3: {}\", \"a1_nbformat_lt_3\",\n",
    "    dbmt(non_duplicated[non_duplicated.nbformat.astype(float) <= 3]),\n",
    "    dbmt(non_duplicated),\n",
    ")"
   ]
  },
  {
   "cell_type": "markdown",
   "metadata": {},
   "source": [
    "### Max execution count"
   ]
  },
  {
   "cell_type": "code",
   "execution_count": 36,
   "metadata": {},
   "outputs": [
    {
     "name": "stdout",
     "output_type": "stream",
     "text": [
      "\n"
     ]
    },
    {
     "data": {
      "image/png": "[encoded data removed]",
      "text/plain": [
       "<Figure size 648x360 with 2 Axes>"
      ]
     },
     "metadata": {},
     "output_type": "display_data"
    },
    {
     "data": {
      "image/png": "[encoded data removed]",
      "text/plain": [
       "<Figure size 360x90 with 1 Axes>"
      ]
     },
     "metadata": {},
     "output_type": "display_data"
    },
    {
     "name": "stdout",
     "output_type": "stream",
     "text": [
      "(Sample) \n"
     ]
    },
    {
     "data": {
      "image/png": "[encoded data removed]",
      "text/plain": [
       "<Figure size 648x360 with 2 Axes>"
      ]
     },
     "metadata": {},
     "output_type": "display_data"
    },
    {
     "data": {
      "image/png": "[encoded data removed]",
      "text/plain": [
       "<Figure size 360x90 with 1 Axes>"
      ]
     },
     "metadata": {},
     "output_type": "display_data"
    },
    {
     "name": "stdout",
     "output_type": "stream",
     "text": [
      "(Popular) \n"
     ]
    },
    {
     "data": {
      "image/png": "[encoded data removed]",
      "text/plain": [
       "<Figure size 648x360 with 2 Axes>"
      ]
     },
     "metadata": {},
     "output_type": "display_data"
    },
    {
     "data": {
      "image/png": "[encoded data removed]",
      "text/plain": [
       "<Figure size 360x90 with 1 Axes>"
      ]
     },
     "metadata": {},
     "output_type": "display_data"
    }
   ],
   "source": [
    "column = executed_notebooks[\"max_execution_count\"]\n",
    "def max_exectuion_count(column, prefix):\n",
    "    with savefig(prefix + \"a1_max_execution_count_full\", 9, 5):\n",
    "        distribution = distribution_with_boxplot(column, -5, 250, 25, \"Notebooks\", \"Maximum value in execution counters\",  True)\n",
    "    gcf = plt.gcf()\n",
    "    display(gcf)\n",
    "    plt.close(gcf)\n",
    "    with savefig(prefix + \"a1_max_execution_count\", 5, 1.25):\n",
    "        boxplot_distribution(column, -5, 250, 25, \"Notebooks\", \"Maximum value in execution counters\",  True)\n",
    "\n",
    "dfs = dbmt(executed_notebooks)\n",
    "for df, (prefix, name) in zip(dfs, DBMT):\n",
    "    print(name)\n",
    "    max_exectuion_count(df[\"max_execution_count\"], prefix)\n",
    "    gcf = plt.gcf()\n",
    "    display(gcf)\n",
    "    plt.close(gcf)\n"
   ]
  },
  {
   "cell_type": "code",
   "execution_count": 37,
   "metadata": {},
   "outputs": [
    {
     "name": "stdout",
     "output_type": "stream",
     "text": [
      "\n",
      "Execution Count Dist Distribution(min=1, q1=13.0, median=29.0, q3=70.0, max=11037)\n",
      "Execution Count Median 29\n",
      "Execution Count Max 11,037\n",
      "Code Cells Dist Distribution(min=1, q1=8.0, median=14.0, q3=25.0, max=797)\n",
      "Code Cells Median 14\n",
      "Code Cells Max 797\n"
     ]
    },
    {
     "data": {
      "image/png": "[encoded data removed]",
      "text/plain": [
       "<Figure size 432x432 with 3 Axes>"
      ]
     },
     "metadata": {},
     "output_type": "display_data"
    },
    {
     "name": "stdout",
     "output_type": "stream",
     "text": [
      "(Sample) \n",
      "Execution Count Dist Distribution(min=1, q1=13.0, median=26.5, q3=63.5, max=1470)\n",
      "Execution Count Median 26.5\n",
      "Execution Count Max 1,470\n",
      "Code Cells Dist Distribution(min=1, q1=7.0, median=18.5, q3=27.25, max=292)\n",
      "Code Cells Median 18.5\n",
      "Code Cells Max 292\n"
     ]
    },
    {
     "data": {
      "image/png": "[encoded data removed]",
      "text/plain": [
       "<Figure size 432x432 with 3 Axes>"
      ]
     },
     "metadata": {},
     "output_type": "display_data"
    },
    {
     "name": "stdout",
     "output_type": "stream",
     "text": [
      "(Popular) \n",
      "Execution Count Dist Distribution(min=1, q1=8.0, median=17.0, q3=39.0, max=2705)\n",
      "Execution Count Median 17\n",
      "Execution Count Max 2,705\n",
      "Code Cells Dist Distribution(min=1, q1=6.0, median=11.0, q3=21.0, max=602)\n",
      "Code Cells Median 11\n",
      "Code Cells Max 602\n"
     ]
    },
    {
     "data": {
      "image/png": "[encoded data removed]",
      "text/plain": [
       "<Figure size 432x432 with 3 Axes>"
      ]
     },
     "metadata": {},
     "output_type": "display_data"
    }
   ],
   "source": [
    "def code_cells_max_exectuion_count(df, prefix):\n",
    "    column = df[\"max_execution_count\"]\n",
    "    with savefig(prefix + \"a1_code_cells_max_execution_count\", 6, 6):\n",
    "        gcf, (ax3, ax1, ax2) = plt.subplots(nrows=3, ncols=1, sharex=True, gridspec_kw = {'height_ratios':[1, 3, 1]})\n",
    "        first, last, step = -5, 250, 25\n",
    "        bins = last - first\n",
    "        histogram(df[\"max_execution_count\"].values, bins, step, (first, last), ax=ax1, alpha=0.5)\n",
    "        histogram(df[\"code_cells\"].values, bins, step, (first, last), ax=ax1, alpha=0.5)\n",
    "        boxplot_distribution(df[\"max_execution_count\"], first, last, step, \"Notebooks\", \"Maximum value in execution counters\", True, ax=ax2, color=\"tab:blue\", alpha=0.5, show_list=True)\n",
    "        boxplot_distribution(df[\"code_cells\"], first, last, step, \"Notebooks\", \"Code cells\", True, ax=ax3, color=\"tab:orange\", alpha=0.5, show_list=True)\n",
    "        \n",
    "        ax1.xaxis.tick_bottom()\n",
    "        ax1.set_ylabel(\"Notebooks\")\n",
    "        ax1.get_yaxis().set_major_formatter(\n",
    "            matplotlib.ticker.FuncFormatter(lambda x, p: \"{0:,g}\".format(x)))\n",
    "        ax2.yaxis.set_ticks_position('none')\n",
    "        ax2.set_yticklabels([\"\"])\n",
    "        ax2.set_xlabel(\"\")\n",
    "        ax2.axis(\"on\")\n",
    "        ax3.set_xlabel(\"Code cells\")\n",
    "        ax3.axis(\"on\")\n",
    "        plt.tight_layout()\n",
    "        plt.subplots_adjust(hspace=0)\n",
    "        \n",
    "        ax1.legend([\"Maximum value in execution counters\", \"Code cells\"])\n",
    "        \n",
    "        max_execution_count_dist = numpy_distribution(df[\"max_execution_count\"])\n",
    "        print(\"Execution Count Dist\", max_execution_count_dist)\n",
    "        print(\"Execution Count Median\", var(prefix + \"a1_max_execution_count_median\", max_execution_count_dist.median, \"{:g}\"))\n",
    "        print(\"Execution Count Max\", var(prefix + \"a1_max_execution_count_max\", max_execution_count_dist.max, \"{:,g}\"))\n",
    "        \n",
    "        code_cells_dist = numpy_distribution(df[\"code_cells\"])\n",
    "        print(\"Code Cells Dist\", code_cells_dist)\n",
    "        print(\"Code Cells Median\", var(prefix + \"a1_code_cells_in_executed_median\", code_cells_dist.median, \"{:g}\"))\n",
    "        print(\"Code Cells Max\", var(prefix + \"a1_code_cells_in_executed_max\", code_cells_dist.max, \"{:,g}\"))\n",
    "        \n",
    "        \n",
    "\n",
    "dfs = dbmt(executed_notebooks)\n",
    "for df, (prefix, name) in zip(dfs, DBMT):\n",
    "    print(name)\n",
    "    code_cells_max_exectuion_count(df, prefix)\n",
    "    gcf = plt.gcf()\n",
    "    display(gcf)\n",
    "    plt.close(gcf)\n"
   ]
  },
  {
   "cell_type": "code",
   "execution_count": 38,
   "metadata": {},
   "outputs": [
    {
     "name": "stdout",
     "output_type": "stream",
     "text": [
      "\n"
     ]
    },
    {
     "data": {
      "image/png": "[encoded data removed]",
      "text/plain": [
       "<Figure size 648x432 with 1 Axes>"
      ]
     },
     "metadata": {},
     "output_type": "display_data"
    },
    {
     "name": "stdout",
     "output_type": "stream",
     "text": [
      "(Sample) \n"
     ]
    },
    {
     "data": {
      "image/png": "[encoded data removed]",
      "text/plain": [
       "<Figure size 648x432 with 1 Axes>"
      ]
     },
     "metadata": {},
     "output_type": "display_data"
    },
    {
     "name": "stdout",
     "output_type": "stream",
     "text": [
      "(Popular) \n"
     ]
    },
    {
     "data": {
      "image/png": "[encoded data removed]",
      "text/plain": [
       "<Figure size 648x432 with 1 Axes>"
      ]
     },
     "metadata": {},
     "output_type": "display_data"
    }
   ],
   "source": [
    "def correrlation(df, prefix):\n",
    "    column = df[\"max_execution_count\"]\n",
    "    with fig(prefix + \"a1_correlation_alpha\", 9, 6):\n",
    "        df.plot.scatter(x=\"code_cells\", y=\"max_execution_count\", alpha=0.01, c='b', s=1)\n",
    "        ax = plt.gca()\n",
    "        ax.set_xlim([0, 800])\n",
    "        ax.set_ylim([0, 800])\n",
    "\n",
    "\n",
    "dfs = dbmt(executed_notebooks)\n",
    "for df, (prefix, name) in zip(dfs, DBMT):\n",
    "    print(name)\n",
    "    correrlation(df, prefix)\n",
    "    gcf = plt.gcf()\n",
    "    display(gcf)\n",
    "    plt.close(gcf)\n",
    "    \n"
   ]
  },
  {
   "cell_type": "markdown",
   "metadata": {},
   "source": [
    "## Toy"
   ]
  },
  {
   "cell_type": "code",
   "execution_count": 39,
   "metadata": {},
   "outputs": [
    {
     "name": "stdout",
     "output_type": "stream",
     "text": [
      "Possible toy notebooks: a1_toy\n"
     ]
    },
    {
     "data": {
      "text/html": [
       "<div>\n",
       "<style scoped>\n",
       "    .dataframe tbody tr th:only-of-type {\n",
       "        vertical-align: middle;\n",
       "    }\n",
       "\n",
       "    .dataframe tbody tr th {\n",
       "        vertical-align: top;\n",
       "    }\n",
       "\n",
       "    .dataframe thead th {\n",
       "        text-align: right;\n",
       "    }\n",
       "</style>\n",
       "<table border=\"1\" class=\"dataframe\">\n",
       "  <thead>\n",
       "    <tr style=\"text-align: right;\">\n",
       "      <th></th>\n",
       "      <th>name</th>\n",
       "      <th>prefix</th>\n",
       "      <th>value</th>\n",
       "      <th>perc_</th>\n",
       "      <th>sup_</th>\n",
       "      <th>times_</th>\n",
       "      <th>timesone_</th>\n",
       "      <th>diff_</th>\n",
       "    </tr>\n",
       "  </thead>\n",
       "  <tbody>\n",
       "    <tr>\n",
       "      <th>0</th>\n",
       "      <td></td>\n",
       "      <td>d_</td>\n",
       "      <td>164,463 (16.06%)</td>\n",
       "      <td>None</td>\n",
       "      <td>None</td>\n",
       "      <td>None</td>\n",
       "      <td>None</td>\n",
       "      <td>None</td>\n",
       "    </tr>\n",
       "    <tr>\n",
       "      <th>1</th>\n",
       "      <td>(Sample)</td>\n",
       "      <td>sd_</td>\n",
       "      <td>16 (23.19%)</td>\n",
       "      <td>0.01%</td>\n",
       "      <td>0.00%</td>\n",
       "      <td>144.42%</td>\n",
       "      <td>(+) 44.42%</td>\n",
       "      <td>7.13%</td>\n",
       "    </tr>\n",
       "    <tr>\n",
       "      <th>2</th>\n",
       "      <td>(Popular)</td>\n",
       "      <td>td_</td>\n",
       "      <td>6,959 (18.28%)</td>\n",
       "      <td>4.23%</td>\n",
       "      <td>0.68%</td>\n",
       "      <td>113.86%</td>\n",
       "      <td>(+) 13.86%</td>\n",
       "      <td>2.23%</td>\n",
       "    </tr>\n",
       "  </tbody>\n",
       "</table>\n",
       "</div>"
      ],
      "text/plain": [
       "         name prefix             value  perc_   sup_   times_   timesone_  \\\n",
       "0                 d_  164,463 (16.06%)   None   None     None        None   \n",
       "1   (Sample)     sd_       16 (23.19%)  0.01%  0.00%  144.42%  (+) 44.42%   \n",
       "2  (Popular)     td_    6,959 (18.28%)  4.23%  0.68%  113.86%  (+) 13.86%   \n",
       "\n",
       "   diff_  \n",
       "0   None  \n",
       "1  7.13%  \n",
       "2  2.23%  "
      ]
     },
     "metadata": {},
     "output_type": "display_data"
    }
   ],
   "source": [
    "dbmt_relative_var(\n",
    "    \"Possible toy notebooks: {}\", \"a1_toy\",\n",
    "    dbmt(non_duplicated[\n",
    "        non_duplicated[\"has_assignment\"] \n",
    "        | non_duplicated[\"has_course\"]\n",
    "        | non_duplicated[\"has_exercise\"]\n",
    "        | non_duplicated[\"has_homework\"]\n",
    "        | non_duplicated[\"has_lesson\"]\n",
    "    ]), \n",
    "    dbmt(non_duplicated),\n",
    ")"
   ]
  },
  {
   "cell_type": "markdown",
   "metadata": {},
   "source": [
    "## Maintanability"
   ]
  },
  {
   "cell_type": "code",
   "execution_count": 40,
   "metadata": {},
   "outputs": [
    {
     "name": "stdout",
     "output_type": "stream",
     "text": [
      "Repositories that were active 6 months after the collected commit: 29,768 (12.68%)\n"
     ]
    }
   ],
   "source": [
    "six_months_after_notebooks = valid_notebooks[valid_notebooks[\"pushed_at\"] > valid_notebooks[\"history_commit_date\"] + pd.Timedelta(weeks=26)]\n",
    "print(\"Repositories that were active 6 months after the collected commit:\", relative_var(\n",
    "    \"f_a1_active_six_months\", \n",
    "    len(six_months_after_notebooks.groupby(\"repository_id\").count()),\n",
    "     len(valid_notebooks.groupby(\"repository_id\").count()),\n",
    "))"
   ]
  },
  {
   "cell_type": "code",
   "execution_count": 41,
   "metadata": {},
   "outputs": [
    {
     "name": "stdout",
     "output_type": "stream",
     "text": [
      "Repositories that were active in the last 6 months: 6,673 (2.84%)\n"
     ]
    }
   ],
   "source": [
    "requery_date = datetime(2020, 7, 22)\n",
    "last_six_months_notebooks = valid_notebooks[valid_notebooks[\"pushed_at\"] > requery_date - pd.Timedelta(weeks=26)]\n",
    "print(\"Repositories that were active in the last 6 months:\", relative_var(\n",
    "    \"f_a1_updated_six_months\", \n",
    "    len(last_six_months_notebooks.groupby(\"repository_id\").count()),\n",
    "     len(valid_notebooks.groupby(\"repository_id\").count()),\n",
    "))"
   ]
  },
  {
   "cell_type": "markdown",
   "metadata": {},
   "source": [
    "This notebook calculated all the paper variables that are used in the Introduction and Data collection sections of the Paper. For other analysis referring to each specific subset of the notebooks, refer to the other notebooks."
   ]
  }
 ],
 "metadata": {
  "julynter-cellgroup-hidden-state-collapsed": false,
  "julynter-check-restart": true,
  "julynter-results": {
   "filteredId": [],
   "filteredIndividual": [],
   "filteredRestart": [],
   "filteredType": [],
   "hash": "7ecff014016f873d8ab2fed8cfce3d1d7cf8b537",
   "visible": []
  },
  "kernelspec": {
   "display_name": "Python 3",
   "language": "python",
   "name": "python3"
  },
  "language_info": {
   "codemirror_mode": {
    "name": "ipython",
    "version": 3
   },
   "file_extension": ".py",
   "mimetype": "text/x-python",
   "name": "python",
   "nbconvert_exporter": "python",
   "pygments_lexer": "ipython3",
   "version": "3.7.3"
  }
 },
 "nbformat": 4,
 "nbformat_minor": 4
}
