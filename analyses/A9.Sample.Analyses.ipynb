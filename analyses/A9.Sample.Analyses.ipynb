{
 "cells": [
  {
   "cell_type": "markdown",
   "metadata": {},
   "source": [
    "# Sample analyses\n",
    "\n",
    "This notebooks extracts variables from the observations we put in the samples spreadsheet"
   ]
  },
  {
   "cell_type": "code",
   "execution_count": 1,
   "metadata": {},
   "outputs": [],
   "source": [
    "from collections import Counter\n",
    "import pandas as pd\n",
    "\n",
    "import analysis_helpers, importlib\n",
    "importlib.reload(analysis_helpers)\n",
    "\n",
    "from analysis_helpers import var, relative_var\n",
    "\n",
    "splitcolumn = lambda x: set(y.strip() for y in x.split(\",\"))"
   ]
  },
  {
   "cell_type": "code",
   "execution_count": 2,
   "metadata": {},
   "outputs": [],
   "source": [
    "df = pd.read_excel(\"samples.xls\")"
   ]
  },
  {
   "cell_type": "markdown",
   "metadata": {},
   "source": [
    "## Check code"
   ]
  },
  {
   "cell_type": "code",
   "execution_count": 3,
   "metadata": {},
   "outputs": [
    {
     "data": {
      "text/plain": [
       "Counter({'python': 66, 'no': 2, 'bash': 5, 'html': 1, 'sql': 2})"
      ]
     },
     "execution_count": 3,
     "metadata": {},
     "output_type": "execute_result"
    }
   ],
   "source": [
    "counter = Counter()\n",
    "df[\"code\"].apply(splitcolumn).apply(counter.update)\n",
    "counter"
   ]
  },
  {
   "cell_type": "code",
   "execution_count": 4,
   "metadata": {},
   "outputs": [
    {
     "name": "stdout",
     "output_type": "stream",
     "text": [
      "a9_code_python 66 (95.65%)\n",
      "a9_code_bash 5 (7.25%)\n",
      "a9_code_no 2 (2.90%)\n",
      "a9_code_sql 2 (2.90%)\n",
      "a9_code_html 1 (1.45%)\n"
     ]
    }
   ],
   "source": [
    "for key, value in counter.most_common():\n",
    "    variable = \"a9_code_\" + key.lower().replace(\" \", \"_\")\n",
    "    print(variable, relative_var(variable, value, len(df)))\n"
   ]
  },
  {
   "cell_type": "markdown",
   "metadata": {},
   "source": [
    "## Check type"
   ]
  },
  {
   "cell_type": "code",
   "execution_count": 5,
   "metadata": {},
   "outputs": [
    {
     "data": {
      "text/plain": [
       "Counter({'practice': 9,\n",
       "         'course': 31,\n",
       "         'analysis': 10,\n",
       "         'academic': 10,\n",
       "         'tool': 5,\n",
       "         'book': 3,\n",
       "         'presentation': 1})"
      ]
     },
     "execution_count": 5,
     "metadata": {},
     "output_type": "execute_result"
    }
   ],
   "source": [
    "counter = Counter()\n",
    "df[\"type\"].apply(splitcolumn).apply(counter.update)\n",
    "counter"
   ]
  },
  {
   "cell_type": "code",
   "execution_count": 6,
   "metadata": {},
   "outputs": [
    {
     "name": "stdout",
     "output_type": "stream",
     "text": [
      "a9_type_course 31 (44.93%)\n",
      "a9_type_analysis 10 (14.49%)\n",
      "a9_type_academic 10 (14.49%)\n",
      "a9_type_practice 9 (13.04%)\n",
      "a9_type_tool 5 (7.25%)\n",
      "a9_type_book 3 (4.35%)\n",
      "a9_type_presentation 1 (1.45%)\n"
     ]
    }
   ],
   "source": [
    "for key, value in counter.most_common():\n",
    "    variable = \"a9_type_\" + key.lower().replace(\" \", \"_\")\n",
    "    print(variable, relative_var(variable, value, len(df)))\n"
   ]
  },
  {
   "cell_type": "markdown",
   "metadata": {},
   "source": [
    "## Check area"
   ]
  },
  {
   "cell_type": "code",
   "execution_count": 7,
   "metadata": {},
   "outputs": [
    {
     "data": {
      "text/plain": [
       "Counter({'Data mining': 6,\n",
       "         'Math': 3,\n",
       "         'Data cleaning': 5,\n",
       "         'CV': 2,\n",
       "         'Problem definition': 2,\n",
       "         'Data exploration': 28,\n",
       "         'Algorithms': 3,\n",
       "         'ML': 10,\n",
       "         'Programming': 4,\n",
       "         'Databases': 3,\n",
       "         'Game': 1,\n",
       "         'Computer Graphics': 1,\n",
       "         'Physics': 1})"
      ]
     },
     "execution_count": 7,
     "metadata": {},
     "output_type": "execute_result"
    }
   ],
   "source": [
    "counter = Counter()\n",
    "df[\"mainarea\"].apply(splitcolumn).apply(counter.update)\n",
    "counter"
   ]
  },
  {
   "cell_type": "code",
   "execution_count": 8,
   "metadata": {},
   "outputs": [
    {
     "name": "stdout",
     "output_type": "stream",
     "text": [
      "a9_area_data_exploration 28 (40.58%)\n",
      "a9_area_ml 10 (14.49%)\n",
      "a9_area_data_mining 6 (8.70%)\n",
      "a9_area_data_cleaning 5 (7.25%)\n",
      "a9_area_programming 4 (5.80%)\n",
      "a9_area_math 3 (4.35%)\n",
      "a9_area_algorithms 3 (4.35%)\n",
      "a9_area_databases 3 (4.35%)\n",
      "a9_area_cv 2 (2.90%)\n",
      "a9_area_problem_definition 2 (2.90%)\n",
      "a9_area_game 1 (1.45%)\n",
      "a9_area_computer_graphics 1 (1.45%)\n",
      "a9_area_physics 1 (1.45%)\n"
     ]
    }
   ],
   "source": [
    "for key, value in counter.most_common():\n",
    "    variable = \"a9_area_\" + key.lower().replace(\" \", \"_\")\n",
    "    print(variable, relative_var(variable, value, len(df)))\n"
   ]
  },
  {
   "cell_type": "markdown",
   "metadata": {},
   "source": [
    "## Check Markdown"
   ]
  },
  {
   "cell_type": "code",
   "execution_count": 9,
   "metadata": {},
   "outputs": [
    {
     "data": {
      "text/plain": [
       "Counter({'no': 22,\n",
       "         'code': 38,\n",
       "         'tasks': 16,\n",
       "         'title': 36,\n",
       "         'problem': 29,\n",
       "         'conclusion': 13})"
      ]
     },
     "execution_count": 9,
     "metadata": {},
     "output_type": "execute_result"
    }
   ],
   "source": [
    "counter = Counter()\n",
    "df[\"markdown\"].apply(splitcolumn).apply(counter.update)\n",
    "counter"
   ]
  },
  {
   "cell_type": "code",
   "execution_count": 10,
   "metadata": {},
   "outputs": [
    {
     "name": "stdout",
     "output_type": "stream",
     "text": [
      "a9_markdown_code 38 (55.07%)\n",
      "a9_markdown_title 36 (52.17%)\n",
      "a9_markdown_problem 29 (42.03%)\n",
      "a9_markdown_no 22 (31.88%)\n",
      "a9_markdown_tasks 16 (23.19%)\n",
      "a9_markdown_conclusion 13 (18.84%)\n"
     ]
    }
   ],
   "source": [
    "for key, value in counter.most_common():\n",
    "    variable = \"a9_markdown_\" + key.lower().replace(\" \", \"_\")\n",
    "    print(variable, relative_var(variable, value, len(df)))\n"
   ]
  },
  {
   "cell_type": "code",
   "execution_count": 11,
   "metadata": {},
   "outputs": [],
   "source": [
    "with_markdown = df[\n",
    "    df[\"markdown\"].apply(splitcolumn).apply(lambda x: \"no\" not in x)\n",
    "]"
   ]
  },
  {
   "cell_type": "code",
   "execution_count": 12,
   "metadata": {},
   "outputs": [
    {
     "name": "stdout",
     "output_type": "stream",
     "text": [
      "a9_markdown_yes 47 (68.12%)\n"
     ]
    }
   ],
   "source": [
    "variable = \"a9_markdown_yes\"\n",
    "print(variable, relative_var(variable, len(with_markdown), len(df)))"
   ]
  },
  {
   "cell_type": "code",
   "execution_count": 13,
   "metadata": {},
   "outputs": [
    {
     "data": {
      "text/plain": [
       "Counter({'English': 43,\n",
       "         'Chinese': 1,\n",
       "         'Japanese': 1,\n",
       "         'Spanish': 1,\n",
       "         'Portuguese': 1})"
      ]
     },
     "execution_count": 13,
     "metadata": {},
     "output_type": "execute_result"
    }
   ],
   "source": [
    "counter = Counter()\n",
    "with_markdown[\"language\"].apply(splitcolumn).apply(counter.update)\n",
    "counter"
   ]
  },
  {
   "cell_type": "code",
   "execution_count": 14,
   "metadata": {},
   "outputs": [
    {
     "name": "stdout",
     "output_type": "stream",
     "text": [
      "a9_markdown_non_english 4 (8.51%)\n"
     ]
    }
   ],
   "source": [
    "variable = \"a9_markdown_non_english\"\n",
    "print(variable, relative_var(variable, sum(v for c, v in counter.items() if c != \"English\"), len(with_markdown)))"
   ]
  },
  {
   "cell_type": "markdown",
   "metadata": {},
   "source": [
    "## Check title"
   ]
  },
  {
   "cell_type": "code",
   "execution_count": 15,
   "metadata": {},
   "outputs": [
    {
     "data": {
      "text/plain": [
       "Counter({'meaningful': 58,\n",
       "         'numbered': 20,\n",
       "         'space': 12,\n",
       "         'character': 1,\n",
       "         'meaningless': 11,\n",
       "         'copy': 2})"
      ]
     },
     "execution_count": 15,
     "metadata": {},
     "output_type": "execute_result"
    }
   ],
   "source": [
    "counter = Counter()\n",
    "df[\"title\"].apply(splitcolumn).apply(counter.update)\n",
    "counter"
   ]
  },
  {
   "cell_type": "code",
   "execution_count": 16,
   "metadata": {},
   "outputs": [
    {
     "name": "stdout",
     "output_type": "stream",
     "text": [
      "Notebooks with invalid title:  15 (21.74%)\n"
     ]
    }
   ],
   "source": [
    "invalid_title = df[df[\"title\"].apply(splitcolumn).apply(lambda x: \"space\" in x or \"character\" in x or \"copy\" in x)]\n",
    "print(\"Notebooks with invalid title: \", relative_var(\"a9_invalid_title\", len(invalid_title), len(df)))"
   ]
  },
  {
   "cell_type": "code",
   "execution_count": 17,
   "metadata": {},
   "outputs": [
    {
     "name": "stdout",
     "output_type": "stream",
     "text": [
      "a9_title_meaningful 58 (84.06%)\n",
      "a9_title_numbered 20 (28.99%)\n",
      "a9_title_space 12 (17.39%)\n",
      "a9_title_meaningless 11 (15.94%)\n",
      "a9_title_copy 2 (2.90%)\n",
      "a9_title_character 1 (1.45%)\n"
     ]
    }
   ],
   "source": [
    "for key, value in counter.most_common():\n",
    "    variable = \"a9_title_\" + key.lower().replace(\" \", \"_\")\n",
    "    print(variable, relative_var(variable, value, len(df)))\n"
   ]
  },
  {
   "cell_type": "markdown",
   "metadata": {},
   "source": [
    "## Check imports"
   ]
  },
  {
   "cell_type": "code",
   "execution_count": 18,
   "metadata": {},
   "outputs": [
    {
     "data": {
      "text/plain": [
       "Counter({'both': 29,\n",
       "         'first': 26,\n",
       "         'second': 7,\n",
       "         'no': 4,\n",
       "         'middle': 5,\n",
       "         'third': 1})"
      ]
     },
     "execution_count": 18,
     "metadata": {},
     "output_type": "execute_result"
    }
   ],
   "source": [
    "counter = Counter()\n",
    "df[\"imports\"].apply(splitcolumn).apply(counter.update)\n",
    "counter"
   ]
  },
  {
   "cell_type": "code",
   "execution_count": 19,
   "metadata": {},
   "outputs": [
    {
     "name": "stdout",
     "output_type": "stream",
     "text": [
      "a9_imports_both 29 (42.03%)\n",
      "a9_imports_first 26 (37.68%)\n",
      "a9_imports_second 7 (10.14%)\n",
      "a9_imports_middle 5 (7.25%)\n",
      "a9_imports_no 4 (5.80%)\n",
      "a9_imports_third 1 (1.45%)\n"
     ]
    }
   ],
   "source": [
    "for key, value in counter.most_common():\n",
    "    variable = \"a9_imports_\" + key.lower().replace(\" \", \"_\")\n",
    "    print(variable, relative_var(variable, value, len(df)))\n"
   ]
  },
  {
   "cell_type": "code",
   "execution_count": 20,
   "metadata": {},
   "outputs": [
    {
     "name": "stdout",
     "output_type": "stream",
     "text": [
      "a9_imports_beginning_exclusive 31 (44.93%)\n"
     ]
    }
   ],
   "source": [
    "variable = \"a9_imports_beginning_exclusive\"\n",
    "print(variable, relative_var(variable, len(df[df[\"imports\"].apply(splitcolumn).apply(\n",
    "    lambda x: bool(set(x) & {'first', 'second', 'third'})\n",
    ")]), len(df)))"
   ]
  },
  {
   "cell_type": "code",
   "execution_count": 21,
   "metadata": {},
   "outputs": [
    {
     "name": "stdout",
     "output_type": "stream",
     "text": [
      "a9_imports_beginning_any 60 (86.96%)\n"
     ]
    }
   ],
   "source": [
    "variable = \"a9_imports_beginning_any\"\n",
    "print(variable, relative_var(variable, len(df[df[\"imports\"].apply(splitcolumn).apply(\n",
    "    lambda x: bool(set(x) & {'first', 'second', 'third', 'both'})\n",
    ")]), len(df)))"
   ]
  },
  {
   "cell_type": "markdown",
   "metadata": {},
   "source": [
    "## Check organization"
   ]
  },
  {
   "cell_type": "code",
   "execution_count": 22,
   "metadata": {},
   "outputs": [
    {
     "data": {
      "text/plain": [
       "Counter({'orchestration': 55, 'heavy': 12, 'no': 2})"
      ]
     },
     "execution_count": 22,
     "metadata": {},
     "output_type": "execute_result"
    }
   ],
   "source": [
    "counter = Counter()\n",
    "df[\"organization\"].apply(splitcolumn).apply(counter.update)\n",
    "counter"
   ]
  },
  {
   "cell_type": "code",
   "execution_count": 23,
   "metadata": {},
   "outputs": [
    {
     "name": "stdout",
     "output_type": "stream",
     "text": [
      "a9_organization_orchestration 55 (79.71%)\n",
      "a9_organization_heavy 12 (17.39%)\n",
      "a9_organization_no 2 (2.90%)\n"
     ]
    }
   ],
   "source": [
    "for key, value in counter.most_common():\n",
    "    variable = \"a9_organization_\" + key.lower().replace(\" \", \"_\")\n",
    "    print(variable, relative_var(variable, value, len(df)))\n"
   ]
  },
  {
   "cell_type": "code",
   "execution_count": 24,
   "metadata": {},
   "outputs": [
    {
     "data": {
      "text/plain": [
       "Counter({'spread': 32, 'complex': 21, 'no': 34, 'simple': 14, 'beginning': 3})"
      ]
     },
     "execution_count": 24,
     "metadata": {},
     "output_type": "execute_result"
    }
   ],
   "source": [
    "counter = Counter()\n",
    "df[\"functions\"].apply(splitcolumn).apply(counter.update)\n",
    "counter"
   ]
  },
  {
   "cell_type": "code",
   "execution_count": 25,
   "metadata": {},
   "outputs": [
    {
     "name": "stdout",
     "output_type": "stream",
     "text": [
      "a9_organization_functions 35 (50.72%)\n"
     ]
    }
   ],
   "source": [
    "variable = \"a9_organization_functions\"\n",
    "print(variable, relative_var(variable, len(df[df[\"functions\"].apply(splitcolumn).apply(\n",
    "    lambda x: \"no\" not in x\n",
    ")]), len(df)))"
   ]
  },
  {
   "cell_type": "markdown",
   "metadata": {},
   "source": [
    "## Check tests"
   ]
  },
  {
   "cell_type": "code",
   "execution_count": 26,
   "metadata": {},
   "outputs": [
    {
     "data": {
      "text/plain": [
       "Counter({'no': 61,\n",
       "         'unrelated': 3,\n",
       "         'tool': 2,\n",
       "         'other': 1,\n",
       "         'related': 1,\n",
       "         'execution': 1})"
      ]
     },
     "execution_count": 26,
     "metadata": {},
     "output_type": "execute_result"
    }
   ],
   "source": [
    "counter = Counter()\n",
    "df[\"tests\"].apply(splitcolumn).apply(counter.update)\n",
    "counter"
   ]
  },
  {
   "cell_type": "code",
   "execution_count": 27,
   "metadata": {},
   "outputs": [
    {
     "name": "stdout",
     "output_type": "stream",
     "text": [
      "Repositories with tests: 8 (11.59%)\n"
     ]
    }
   ],
   "source": [
    "total_tests = df[df[\"tests\"].apply(splitcolumn).apply(lambda x: \"no\" not in x)]\n",
    "print(\"Repositories with tests:\", relative_var(\"a9_tests\", len(total_tests), len(df)))"
   ]
  },
  {
   "cell_type": "code",
   "execution_count": 28,
   "metadata": {},
   "outputs": [
    {
     "name": "stdout",
     "output_type": "stream",
     "text": [
      "a9_tests_no 61 (88.41%)\n",
      "a9_tests_unrelated 3 (4.35%)\n",
      "a9_tests_tool 2 (2.90%)\n",
      "a9_tests_other 1 (1.45%)\n",
      "a9_tests_related 1 (1.45%)\n",
      "a9_tests_execution 1 (1.45%)\n"
     ]
    }
   ],
   "source": [
    "for key, value in counter.most_common():\n",
    "    variable = \"a9_tests_\" + key.lower().replace(\" \", \"_\")\n",
    "    print(variable, relative_var(variable, value, len(df)))\n"
   ]
  },
  {
   "cell_type": "markdown",
   "metadata": {},
   "source": [
    "## Check retrospective"
   ]
  },
  {
   "cell_type": "code",
   "execution_count": 29,
   "metadata": {},
   "outputs": [
    {
     "data": {
      "text/plain": [
       "Counter({'print': 50,\n",
       "         'exception': 10,\n",
       "         'out': 37,\n",
       "         'table': 30,\n",
       "         'file': 19,\n",
       "         'image': 32,\n",
       "         'no': 5,\n",
       "         'warning': 15,\n",
       "         'out*': 4,\n",
       "         'widget': 5})"
      ]
     },
     "execution_count": 29,
     "metadata": {},
     "output_type": "execute_result"
    }
   ],
   "source": [
    "counter = Counter()\n",
    "df[\"outputs\"].apply(splitcolumn).apply(counter.update)\n",
    "counter"
   ]
  },
  {
   "cell_type": "code",
   "execution_count": 30,
   "metadata": {},
   "outputs": [
    {
     "name": "stdout",
     "output_type": "stream",
     "text": [
      "a9_outputs_print 50 (72.46%)\n",
      "a9_outputs_out 37 (53.62%)\n",
      "a9_outputs_image 32 (46.38%)\n",
      "a9_outputs_table 30 (43.48%)\n",
      "a9_outputs_file 19 (27.54%)\n",
      "a9_outputs_warning 15 (21.74%)\n",
      "a9_outputs_exception 10 (14.49%)\n",
      "a9_outputs_no 5 (7.25%)\n",
      "a9_outputs_widget 5 (7.25%)\n",
      "a9_outputs_out_star 4 (5.80%)\n"
     ]
    }
   ],
   "source": [
    "for key, value in counter.most_common():\n",
    "    variable = \"a9_outputs_\" + key.lower().replace(\" \", \"_\").replace(\"*\", \"_star\")\n",
    "    print(variable, relative_var(variable, value, len(df)))\n"
   ]
  },
  {
   "cell_type": "markdown",
   "metadata": {},
   "source": [
    "## Check unordered"
   ]
  },
  {
   "cell_type": "code",
   "execution_count": 31,
   "metadata": {},
   "outputs": [
    {
     "data": {
      "text/plain": [
       "Counter({'ambiguous': 11,\n",
       "         'no': 38,\n",
       "         'variable': 19,\n",
       "         'exploratory': 28,\n",
       "         'posterior': 6,\n",
       "         'import': 9})"
      ]
     },
     "execution_count": 31,
     "metadata": {},
     "output_type": "execute_result"
    }
   ],
   "source": [
    "counter = Counter()\n",
    "df[\"unordered\"].apply(splitcolumn).apply(counter.update)\n",
    "counter"
   ]
  },
  {
   "cell_type": "code",
   "execution_count": 32,
   "metadata": {},
   "outputs": [
    {
     "name": "stdout",
     "output_type": "stream",
     "text": [
      "a9_unordered_no 38 (55.07%)\n",
      "a9_unordered_exploratory 28 (40.58%)\n",
      "a9_unordered_variable 19 (27.54%)\n",
      "a9_unordered_ambiguous 11 (15.94%)\n",
      "a9_unordered_import 9 (13.04%)\n",
      "a9_unordered_posterior 6 (8.70%)\n"
     ]
    }
   ],
   "source": [
    "for key, value in counter.most_common():\n",
    "    variable = \"a9_unordered_\" + key.lower().replace(\" \", \"_\").replace(\"*\", \"_star\")\n",
    "    print(variable, relative_var(variable, value, len(df)))\n"
   ]
  },
  {
   "cell_type": "code",
   "execution_count": 33,
   "metadata": {},
   "outputs": [
    {
     "data": {
      "text/html": [
       "<div>\n",
       "<style scoped>\n",
       "    .dataframe tbody tr th:only-of-type {\n",
       "        vertical-align: middle;\n",
       "    }\n",
       "\n",
       "    .dataframe tbody tr th {\n",
       "        vertical-align: top;\n",
       "    }\n",
       "\n",
       "    .dataframe thead th {\n",
       "        text-align: right;\n",
       "    }\n",
       "</style>\n",
       "<table border=\"1\" class=\"dataframe\">\n",
       "  <thead>\n",
       "    <tr style=\"text-align: right;\">\n",
       "      <th></th>\n",
       "      <th>Unnamed: 0</th>\n",
       "      <th>Sample ID</th>\n",
       "      <th>repository_id</th>\n",
       "      <th>notebook_id</th>\n",
       "      <th>repository</th>\n",
       "      <th>commit</th>\n",
       "      <th>notebooks</th>\n",
       "      <th>notebooks_count</th>\n",
       "      <th>name</th>\n",
       "      <th>language</th>\n",
       "      <th>...</th>\n",
       "      <th>imports</th>\n",
       "      <th>organization</th>\n",
       "      <th>loop</th>\n",
       "      <th>functions</th>\n",
       "      <th>outputs</th>\n",
       "      <th>unordered</th>\n",
       "      <th>skips</th>\n",
       "      <th>empty</th>\n",
       "      <th>non-executed</th>\n",
       "      <th>tests</th>\n",
       "    </tr>\n",
       "  </thead>\n",
       "  <tbody>\n",
       "    <tr>\n",
       "      <th>0</th>\n",
       "      <td>143044</td>\n",
       "      <td>1</td>\n",
       "      <td>241773</td>\n",
       "      <td>1356065</td>\n",
       "      <td>r3dmaohong/pyspark-practice</td>\n",
       "      <td>e64acc0dc508286770ad383f6adec75935447bde</td>\n",
       "      <td>python_spark_practice_10_sql_dataframe.ipynb;p...</td>\n",
       "      <td>5</td>\n",
       "      <td>python_spark_practice_9_disisiontree.ipynb</td>\n",
       "      <td>English</td>\n",
       "      <td>...</td>\n",
       "      <td>both</td>\n",
       "      <td>orchestration</td>\n",
       "      <td>simple</td>\n",
       "      <td>complex, spread</td>\n",
       "      <td>print</td>\n",
       "      <td>ambiguous</td>\n",
       "      <td>middle</td>\n",
       "      <td>end</td>\n",
       "      <td>no</td>\n",
       "      <td>no</td>\n",
       "    </tr>\n",
       "    <tr>\n",
       "      <th>25</th>\n",
       "      <td>371404</td>\n",
       "      <td>26</td>\n",
       "      <td>175907</td>\n",
       "      <td>1023393</td>\n",
       "      <td>AdrianHsu/charades-parser</td>\n",
       "      <td>1d75b1a66c0f5fbb67e8c3824c02fafdb5f3397d</td>\n",
       "      <td>plot.ipynb;train_actions_csv.ipynb;test_action...</td>\n",
       "      <td>5</td>\n",
       "      <td>train_actions_csv.ipynb</td>\n",
       "      <td>Chinese</td>\n",
       "      <td>...</td>\n",
       "      <td>both</td>\n",
       "      <td>orchestration</td>\n",
       "      <td>simple</td>\n",
       "      <td>complex, spread</td>\n",
       "      <td>out, table, image, file</td>\n",
       "      <td>ambiguous, posterior</td>\n",
       "      <td>beginning, middle</td>\n",
       "      <td>end</td>\n",
       "      <td>no</td>\n",
       "      <td>no</td>\n",
       "    </tr>\n",
       "    <tr>\n",
       "      <th>59</th>\n",
       "      <td>844009</td>\n",
       "      <td>60</td>\n",
       "      <td>97148</td>\n",
       "      <td>628171</td>\n",
       "      <td>Yogessvaren/Python_Stuff</td>\n",
       "      <td>196022de7087d0c6be00cc8aaaccbfd66bad63df</td>\n",
       "      <td>IPython/Learning IPython for Interactive Compu...</td>\n",
       "      <td>19</td>\n",
       "      <td>Python Language/Learn Python 3 The Hard Way/Ex...</td>\n",
       "      <td>English</td>\n",
       "      <td>...</td>\n",
       "      <td>first</td>\n",
       "      <td>orchestration</td>\n",
       "      <td>no</td>\n",
       "      <td>no</td>\n",
       "      <td>print</td>\n",
       "      <td>import</td>\n",
       "      <td>no</td>\n",
       "      <td>end</td>\n",
       "      <td>no</td>\n",
       "      <td>no</td>\n",
       "    </tr>\n",
       "  </tbody>\n",
       "</table>\n",
       "<p>3 rows × 27 columns</p>\n",
       "</div>"
      ],
      "text/plain": [
       "    Unnamed: 0  Sample ID  repository_id  notebook_id  \\\n",
       "0       143044          1         241773      1356065   \n",
       "25      371404         26         175907      1023393   \n",
       "59      844009         60          97148       628171   \n",
       "\n",
       "                     repository                                    commit  \\\n",
       "0   r3dmaohong/pyspark-practice  e64acc0dc508286770ad383f6adec75935447bde   \n",
       "25    AdrianHsu/charades-parser  1d75b1a66c0f5fbb67e8c3824c02fafdb5f3397d   \n",
       "59     Yogessvaren/Python_Stuff  196022de7087d0c6be00cc8aaaccbfd66bad63df   \n",
       "\n",
       "                                            notebooks  notebooks_count  \\\n",
       "0   python_spark_practice_10_sql_dataframe.ipynb;p...                5   \n",
       "25  plot.ipynb;train_actions_csv.ipynb;test_action...                5   \n",
       "59  IPython/Learning IPython for Interactive Compu...               19   \n",
       "\n",
       "                                                 name language  ... imports  \\\n",
       "0          python_spark_practice_9_disisiontree.ipynb  English  ...    both   \n",
       "25                            train_actions_csv.ipynb  Chinese  ...    both   \n",
       "59  Python Language/Learn Python 3 The Hard Way/Ex...  English  ...   first   \n",
       "\n",
       "     organization    loop        functions                  outputs  \\\n",
       "0   orchestration  simple  complex, spread                    print   \n",
       "25  orchestration  simple  complex, spread  out, table, image, file   \n",
       "59  orchestration      no               no                    print   \n",
       "\n",
       "               unordered              skips empty non-executed tests  \n",
       "0              ambiguous             middle   end           no    no  \n",
       "25  ambiguous, posterior  beginning, middle   end           no    no  \n",
       "59                import                 no   end           no    no  \n",
       "\n",
       "[3 rows x 27 columns]"
      ]
     },
     "execution_count": 33,
     "metadata": {},
     "output_type": "execute_result"
    }
   ],
   "source": [
    "df[df[\"unordered\"].apply(splitcolumn).apply(lambda x: \"no\" not in x and \"exploratory\" not in x)]"
   ]
  },
  {
   "cell_type": "markdown",
   "metadata": {},
   "source": [
    "## Check empty"
   ]
  },
  {
   "cell_type": "code",
   "execution_count": 34,
   "metadata": {},
   "outputs": [
    {
     "data": {
      "text/plain": [
       "Counter({'end': 40, 'no': 28, 'middle': 5, 'markdown': 3, 'beginning': 1})"
      ]
     },
     "execution_count": 34,
     "metadata": {},
     "output_type": "execute_result"
    }
   ],
   "source": [
    "counter = Counter()\n",
    "df[\"empty\"].apply(splitcolumn).apply(counter.update)\n",
    "counter"
   ]
  },
  {
   "cell_type": "markdown",
   "metadata": {},
   "source": [
    "## Check non executed"
   ]
  },
  {
   "cell_type": "code",
   "execution_count": 35,
   "metadata": {},
   "outputs": [
    {
     "data": {
      "text/plain": [
       "Counter({'no': 44,\n",
       "         'exception': 1,\n",
       "         'all': 5,\n",
       "         'end': 8,\n",
       "         'middle': 10,\n",
       "         'incomplete': 1,\n",
       "         'commented': 4,\n",
       "         'beginning': 1})"
      ]
     },
     "execution_count": 35,
     "metadata": {},
     "output_type": "execute_result"
    }
   ],
   "source": [
    "counter = Counter()\n",
    "df[\"non-executed\"].apply(splitcolumn).apply(counter.update)\n",
    "counter"
   ]
  },
  {
   "cell_type": "code",
   "execution_count": 36,
   "metadata": {},
   "outputs": [
    {
     "name": "stdout",
     "output_type": "stream",
     "text": [
      "a9_nonexecuted_any 25 (36.23%)\n"
     ]
    }
   ],
   "source": [
    "total_nonexecuted =  len(df[df[\"non-executed\"].apply(splitcolumn).apply(\n",
    "    lambda x: \"no\" not in x\n",
    ")])\n",
    "variable = \"a9_nonexecuted_any\"\n",
    "print(variable, relative_var(variable, total_nonexecuted, len(df)))"
   ]
  },
  {
   "cell_type": "code",
   "execution_count": 37,
   "metadata": {},
   "outputs": [
    {
     "name": "stdout",
     "output_type": "stream",
     "text": [
      "a9_nonexecuted_no 44 (63.77%)\n",
      "a9_nonexecuted_middle 10 (40.00%)\n",
      "a9_nonexecuted_end 8 (32.00%)\n",
      "a9_nonexecuted_all 5 (20.00%)\n",
      "a9_nonexecuted_commented 4 (16.00%)\n",
      "a9_nonexecuted_exception 1 (4.00%)\n",
      "a9_nonexecuted_incomplete 1 (4.00%)\n",
      "a9_nonexecuted_beginning 1 (4.00%)\n"
     ]
    }
   ],
   "source": [
    "for key, value in counter.most_common():\n",
    "    variable = \"a9_nonexecuted_\" + key.lower().replace(\" \", \"_\").replace(\"*\", \"_star\")\n",
    "    total = total_nonexecuted if key != \"no\" else len(df)\n",
    "    print(variable, relative_var(variable, value, total))\n"
   ]
  },
  {
   "cell_type": "markdown",
   "metadata": {},
   "source": [
    "All variables have been created for the paper"
   ]
  }
 ],
 "metadata": {
  "julynter-results": {
   "filteredId": [],
   "filteredIndividual": [],
   "filteredRestart": [],
   "filteredType": [],
   "hash": "095314dcee14d44389d3512b6b3f715ca2ac7b22",
   "visible": []
  },
  "kernelspec": {
   "display_name": "Python 3",
   "language": "python",
   "name": "python3"
  },
  "language_info": {
   "codemirror_mode": {
    "name": "ipython",
    "version": 3
   },
   "file_extension": ".py",
   "mimetype": "text/x-python",
   "name": "python",
   "nbconvert_exporter": "python",
   "pygments_lexer": "ipython3",
   "version": "3.7.3"
  }
 },
 "nbformat": 4,
 "nbformat_minor": 4
}
