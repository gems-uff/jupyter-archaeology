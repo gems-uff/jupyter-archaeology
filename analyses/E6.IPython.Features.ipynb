{
 "cells": [
  {
   "cell_type": "markdown",
   "metadata": {},
   "source": [
    "# Extra IPython Features Analyses\n",
    "\n",
    "This notebooks has extra analyses related to IPython Features. These analyses did not make into the paper."
   ]
  },
  {
   "cell_type": "code",
   "execution_count": 1,
   "metadata": {},
   "outputs": [],
   "source": [
    "import sys\n",
    "sys.path.insert(0, '../archaeology')\n",
    "\n",
    "from collections import Counter\n",
    "from pprint import pprint\n",
    "\n",
    "import matplotlib\n",
    "import seaborn as sns\n",
    "import pandas as pd\n",
    "import numpy as np\n",
    "\n",
    "from matplotlib import pyplot as plt\n",
    "from matplotlib_venn import venn2, venn3\n",
    "\n",
    "from db import connect, Query\n",
    "import analysis_helpers, importlib\n",
    "importlib.reload(analysis_helpers)\n",
    "from analysis_helpers import display_counts, violinplot, fig\n",
    "from analysis_helpers import calculate_auto, close_fig\n",
    "\n",
    "%matplotlib inline"
   ]
  },
  {
   "cell_type": "markdown",
   "metadata": {},
   "source": [
    "## Query\n",
    "\n",
    "Select features from:\n",
    "\n",
    "- existing\n",
    "  \n",
    "  ```n.skip & 2048 = 0```\n",
    "\n",
    "\n",
    "- valid\n",
    "  \n",
    "  ```NOT (n.kernel = 'no-kernel' AND n.nbformat = '0')\n",
    "  AND n.processed & 15 = 0 AND n.skip & (1024 + 512) = 0```\n",
    "\n",
    "\n",
    "- non-duplicated\n",
    "  \n",
    "  ```n.skip & (1024 + 512 + 128) = 0```\n",
    "\n",
    "\n",
    "- python notebooks\n",
    "  \n",
    "  ```n.language = 'python'```\n",
    "\n",
    "\n",
    "- with valid syntax\n",
    "  \n",
    "  ```n.processed & 16 = 0\n",
    "  AND LEFT(n.language_version, 1) IN ('2', '3')```"
   ]
  },
  {
   "cell_type": "code",
   "execution_count": 2,
   "metadata": {},
   "outputs": [
    {
     "name": "stdout",
     "output_type": "stream",
     "text": [
      "Valid Python notebooks: 886668\n",
      "CPU times: user 6.57 s, sys: 389 ms, total: 6.95 s\n",
      "Wall time: 11.6 s\n"
     ]
    }
   ],
   "source": [
    "%%time\n",
    "\n",
    "with connect() as session:\n",
    "    features = pd.read_sql(\"\"\"\n",
    "        SELECT f.*\n",
    "        FROM notebooks n, notebook_features f\n",
    "        WHERE NOT (n.kernel = 'no-kernel' AND n.nbformat = '0')\n",
    "        AND n.processed & 15 = 0\n",
    "        AND n.skip & 2048 = 0\n",
    "        AND n.skip & (1024 + 512) = 0\n",
    "        AND n.skip & (1024 + 512 + 128) = 0\n",
    "        AND n.language = 'python'\n",
    "        AND n.processed & 16 = 0\n",
    "        AND LEFT(n.language_version, 1) IN ('2', '3')\n",
    "        AND f.notebook_id = n.id\n",
    "    \"\"\", session.connection())\n",
    "    print(\"Valid Python notebooks:\", len(features))\n"
   ]
  },
  {
   "cell_type": "code",
   "execution_count": 3,
   "metadata": {},
   "outputs": [],
   "source": [
    "columns = [\n",
    "    \"shadown_ref\", \"output_ref\", \"system\",\n",
    "    \"set_next_input\", \"input_ref\", \"magic\",\n",
    "    \"run_line_magic\", \"run_cell_magic\", \n",
    "    \"getoutput\", \"set_hook\"\n",
    "]\n",
    "count_columns = [c + \"_count\" for c in columns]\n",
    "for column in columns:\n",
    "    features[column] = features[column].apply(lambda c: set(c.split(\",\")))"
   ]
  },
  {
   "cell_type": "code",
   "execution_count": 4,
   "metadata": {},
   "outputs": [
    {
     "data": {
      "text/html": [
       "<div>\n",
       "<style scoped>\n",
       "    .dataframe tbody tr th:only-of-type {\n",
       "        vertical-align: middle;\n",
       "    }\n",
       "\n",
       "    .dataframe tbody tr th {\n",
       "        vertical-align: top;\n",
       "    }\n",
       "\n",
       "    .dataframe thead th {\n",
       "        text-align: right;\n",
       "    }\n",
       "</style>\n",
       "<table border=\"1\" class=\"dataframe\">\n",
       "  <thead>\n",
       "    <tr style=\"text-align: right;\">\n",
       "      <th></th>\n",
       "      <th>id</th>\n",
       "      <th>repository_id</th>\n",
       "      <th>notebook_id</th>\n",
       "      <th>index</th>\n",
       "      <th>index_count</th>\n",
       "      <th>any</th>\n",
       "      <th>any_count</th>\n",
       "      <th>shadown_ref</th>\n",
       "      <th>shadown_ref_count</th>\n",
       "      <th>output_ref</th>\n",
       "      <th>...</th>\n",
       "      <th>run_line_magic</th>\n",
       "      <th>run_line_magic_count</th>\n",
       "      <th>run_cell_magic</th>\n",
       "      <th>run_cell_magic_count</th>\n",
       "      <th>getoutput</th>\n",
       "      <th>getoutput_count</th>\n",
       "      <th>set_hook</th>\n",
       "      <th>set_hook_count</th>\n",
       "      <th>others</th>\n",
       "      <th>skip</th>\n",
       "    </tr>\n",
       "  </thead>\n",
       "  <tbody>\n",
       "    <tr>\n",
       "      <th>0</th>\n",
       "      <td>84528</td>\n",
       "      <td>87859</td>\n",
       "      <td>578955</td>\n",
       "      <td></td>\n",
       "      <td>0</td>\n",
       "      <td></td>\n",
       "      <td>0</td>\n",
       "      <td>{}</td>\n",
       "      <td>0</td>\n",
       "      <td>{}</td>\n",
       "      <td>...</td>\n",
       "      <td>{}</td>\n",
       "      <td>0</td>\n",
       "      <td>{}</td>\n",
       "      <td>0</td>\n",
       "      <td>{}</td>\n",
       "      <td>0</td>\n",
       "      <td>{}</td>\n",
       "      <td>0</td>\n",
       "      <td></td>\n",
       "      <td>0</td>\n",
       "    </tr>\n",
       "    <tr>\n",
       "      <th>1</th>\n",
       "      <td>732536</td>\n",
       "      <td>69785</td>\n",
       "      <td>482136</td>\n",
       "      <td></td>\n",
       "      <td>0</td>\n",
       "      <td></td>\n",
       "      <td>0</td>\n",
       "      <td>{}</td>\n",
       "      <td>0</td>\n",
       "      <td>{}</td>\n",
       "      <td>...</td>\n",
       "      <td>{}</td>\n",
       "      <td>0</td>\n",
       "      <td>{}</td>\n",
       "      <td>0</td>\n",
       "      <td>{}</td>\n",
       "      <td>0</td>\n",
       "      <td>{}</td>\n",
       "      <td>0</td>\n",
       "      <td></td>\n",
       "      <td>0</td>\n",
       "    </tr>\n",
       "    <tr>\n",
       "      <th>2</th>\n",
       "      <td>1033342</td>\n",
       "      <td>220892</td>\n",
       "      <td>1253631</td>\n",
       "      <td></td>\n",
       "      <td>0</td>\n",
       "      <td></td>\n",
       "      <td>0</td>\n",
       "      <td>{}</td>\n",
       "      <td>0</td>\n",
       "      <td>{}</td>\n",
       "      <td>...</td>\n",
       "      <td>{}</td>\n",
       "      <td>0</td>\n",
       "      <td>{}</td>\n",
       "      <td>0</td>\n",
       "      <td>{}</td>\n",
       "      <td>0</td>\n",
       "      <td>{}</td>\n",
       "      <td>0</td>\n",
       "      <td></td>\n",
       "      <td>0</td>\n",
       "    </tr>\n",
       "    <tr>\n",
       "      <th>3</th>\n",
       "      <td>272782</td>\n",
       "      <td>5882</td>\n",
       "      <td>82977</td>\n",
       "      <td></td>\n",
       "      <td>0</td>\n",
       "      <td></td>\n",
       "      <td>0</td>\n",
       "      <td>{}</td>\n",
       "      <td>0</td>\n",
       "      <td>{}</td>\n",
       "      <td>...</td>\n",
       "      <td>{}</td>\n",
       "      <td>0</td>\n",
       "      <td>{}</td>\n",
       "      <td>0</td>\n",
       "      <td>{}</td>\n",
       "      <td>0</td>\n",
       "      <td>{}</td>\n",
       "      <td>0</td>\n",
       "      <td></td>\n",
       "      <td>0</td>\n",
       "    </tr>\n",
       "    <tr>\n",
       "      <th>4</th>\n",
       "      <td>588971</td>\n",
       "      <td>223497</td>\n",
       "      <td>1267215</td>\n",
       "      <td></td>\n",
       "      <td>0</td>\n",
       "      <td></td>\n",
       "      <td>0</td>\n",
       "      <td>{}</td>\n",
       "      <td>0</td>\n",
       "      <td>{}</td>\n",
       "      <td>...</td>\n",
       "      <td>{}</td>\n",
       "      <td>0</td>\n",
       "      <td>{}</td>\n",
       "      <td>0</td>\n",
       "      <td>{}</td>\n",
       "      <td>0</td>\n",
       "      <td>{}</td>\n",
       "      <td>0</td>\n",
       "      <td></td>\n",
       "      <td>32</td>\n",
       "    </tr>\n",
       "  </tbody>\n",
       "</table>\n",
       "<p>5 rows × 29 columns</p>\n",
       "</div>"
      ],
      "text/plain": [
       "        id  repository_id  notebook_id index  index_count any  any_count  \\\n",
       "0    84528          87859       578955                  0              0   \n",
       "1   732536          69785       482136                  0              0   \n",
       "2  1033342         220892      1253631                  0              0   \n",
       "3   272782           5882        82977                  0              0   \n",
       "4   588971         223497      1267215                  0              0   \n",
       "\n",
       "  shadown_ref  shadown_ref_count output_ref  ...  run_line_magic  \\\n",
       "0          {}                  0         {}  ...              {}   \n",
       "1          {}                  0         {}  ...              {}   \n",
       "2          {}                  0         {}  ...              {}   \n",
       "3          {}                  0         {}  ...              {}   \n",
       "4          {}                  0         {}  ...              {}   \n",
       "\n",
       "  run_line_magic_count  run_cell_magic run_cell_magic_count  getoutput  \\\n",
       "0                    0              {}                    0         {}   \n",
       "1                    0              {}                    0         {}   \n",
       "2                    0              {}                    0         {}   \n",
       "3                    0              {}                    0         {}   \n",
       "4                    0              {}                    0         {}   \n",
       "\n",
       "  getoutput_count  set_hook set_hook_count  others skip  \n",
       "0               0        {}              0            0  \n",
       "1               0        {}              0            0  \n",
       "2               0        {}              0            0  \n",
       "3               0        {}              0            0  \n",
       "4               0        {}              0           32  \n",
       "\n",
       "[5 rows x 29 columns]"
      ]
     },
     "execution_count": 4,
     "metadata": {},
     "output_type": "execute_result"
    }
   ],
   "source": [
    "features.head(5)"
   ]
  },
  {
   "cell_type": "markdown",
   "metadata": {},
   "source": [
    "## Features\n",
    "\n",
    "\n",
    "Currently, we only have IPython features\n",
    "\n",
    "* IPython/magic: `%example`\n",
    "* IPython/run_line_magic: `%example`\n",
    "* IPython/output_ref: `_2`, `Out[3]`\n",
    "* IPython/run_cell_magic: `%%timeit`\n",
    "* IPython/system: `!ls`\n",
    "* IPython/getoutput: `x = !ls`\n",
    "* IPython/input_ref: `In[2]`\n",
    "* IPython/set_next_input: `a = x??`\n",
    "\n",
    "* IPython/shadown_ref: `_sh`\n",
    "\n",
    "\n",
    "False positives\n",
    "\n",
    "\n",
    "* IPython/set_hook: `get_ipython().set_hook()`\n"
   ]
  },
  {
   "cell_type": "code",
   "execution_count": 5,
   "metadata": {},
   "outputs": [
    {
     "data": {
      "image/png": "[encoded data removed]",
      "text/plain": [
       "<Figure size 720x297 with 1 Axes>"
      ]
     },
     "metadata": {
      "needs_background": "light"
     },
     "output_type": "display_data"
    },
    {
     "data": {
      "text/html": [
       "<div>\n",
       "<style scoped>\n",
       "    .dataframe tbody tr th:only-of-type {\n",
       "        vertical-align: middle;\n",
       "    }\n",
       "\n",
       "    .dataframe tbody tr th {\n",
       "        vertical-align: top;\n",
       "    }\n",
       "\n",
       "    .dataframe thead th {\n",
       "        text-align: right;\n",
       "    }\n",
       "</style>\n",
       "<table border=\"1\" class=\"dataframe\">\n",
       "  <thead>\n",
       "    <tr style=\"text-align: right;\">\n",
       "      <th></th>\n",
       "      <th>0</th>\n",
       "    </tr>\n",
       "  </thead>\n",
       "  <tbody>\n",
       "    <tr>\n",
       "      <th>magic</th>\n",
       "      <td>335975</td>\n",
       "    </tr>\n",
       "    <tr>\n",
       "      <th>run_line_magic</th>\n",
       "      <td>220387</td>\n",
       "    </tr>\n",
       "    <tr>\n",
       "      <th>output_ref</th>\n",
       "      <td>98187</td>\n",
       "    </tr>\n",
       "    <tr>\n",
       "      <th>system</th>\n",
       "      <td>52231</td>\n",
       "    </tr>\n",
       "    <tr>\n",
       "      <th>run_cell_magic</th>\n",
       "      <td>36829</td>\n",
       "    </tr>\n",
       "    <tr>\n",
       "      <th>getoutput</th>\n",
       "      <td>1814</td>\n",
       "    </tr>\n",
       "    <tr>\n",
       "      <th>set_next_input</th>\n",
       "      <td>323</td>\n",
       "    </tr>\n",
       "    <tr>\n",
       "      <th>input_ref</th>\n",
       "      <td>322</td>\n",
       "    </tr>\n",
       "    <tr>\n",
       "      <th>set_hook</th>\n",
       "      <td>17</td>\n",
       "    </tr>\n",
       "    <tr>\n",
       "      <th>shadown_ref</th>\n",
       "      <td>2</td>\n",
       "    </tr>\n",
       "  </tbody>\n",
       "</table>\n",
       "</div>"
      ],
      "text/plain": [
       "                     0\n",
       "magic           335975\n",
       "run_line_magic  220387\n",
       "output_ref       98187\n",
       "system           52231\n",
       "run_cell_magic   36829\n",
       "getoutput         1814\n",
       "set_next_input     323\n",
       "input_ref          322\n",
       "set_hook            17\n",
       "shadown_ref          2"
      ]
     },
     "metadata": {},
     "output_type": "display_data"
    }
   ],
   "source": [
    "count = features[count_columns].sum().rename(\n",
    "    lambda x: x[:-6]\n",
    ").sort_values(ascending=False)\n",
    "display_counts(count, width=10, show_values=True)"
   ]
  },
  {
   "cell_type": "markdown",
   "metadata": {},
   "source": [
    "### magic\n",
    "\n",
    "`%matplotlib inline`"
   ]
  },
  {
   "cell_type": "code",
   "execution_count": 6,
   "metadata": {},
   "outputs": [
    {
     "data": {
      "text/html": [
       "<div>\n",
       "<style scoped>\n",
       "    .dataframe tbody tr th:only-of-type {\n",
       "        vertical-align: middle;\n",
       "    }\n",
       "\n",
       "    .dataframe tbody tr th {\n",
       "        vertical-align: top;\n",
       "    }\n",
       "\n",
       "    .dataframe thead th {\n",
       "        text-align: right;\n",
       "    }\n",
       "</style>\n",
       "<table border=\"1\" class=\"dataframe\">\n",
       "  <thead>\n",
       "    <tr style=\"text-align: right;\">\n",
       "      <th></th>\n",
       "      <th>0</th>\n",
       "    </tr>\n",
       "  </thead>\n",
       "  <tbody>\n",
       "    <tr>\n",
       "      <th>matplotlib</th>\n",
       "      <td>231058</td>\n",
       "    </tr>\n",
       "    <tr>\n",
       "      <th>load_ext</th>\n",
       "      <td>21286</td>\n",
       "    </tr>\n",
       "    <tr>\n",
       "      <th>pylab</th>\n",
       "      <td>20400</td>\n",
       "    </tr>\n",
       "    <tr>\n",
       "      <th>autoreload</th>\n",
       "      <td>16712</td>\n",
       "    </tr>\n",
       "    <tr>\n",
       "      <th>time</th>\n",
       "      <td>7670</td>\n",
       "    </tr>\n",
       "    <tr>\n",
       "      <th>config</th>\n",
       "      <td>7163</td>\n",
       "    </tr>\n",
       "    <tr>\n",
       "      <th>pinfo</th>\n",
       "      <td>5540</td>\n",
       "    </tr>\n",
       "    <tr>\n",
       "      <th>run</th>\n",
       "      <td>4388</td>\n",
       "    </tr>\n",
       "    <tr>\n",
       "      <th>timeit</th>\n",
       "      <td>3962</td>\n",
       "    </tr>\n",
       "    <tr>\n",
       "      <th>reload_ext</th>\n",
       "      <td>1731</td>\n",
       "    </tr>\n",
       "  </tbody>\n",
       "</table>\n",
       "</div>"
      ],
      "text/plain": [
       "                 0\n",
       "matplotlib  231058\n",
       "load_ext     21286\n",
       "pylab        20400\n",
       "autoreload   16712\n",
       "time          7670\n",
       "config        7163\n",
       "pinfo         5540\n",
       "run           4388\n",
       "timeit        3962\n",
       "reload_ext    1731"
      ]
     },
     "metadata": {},
     "output_type": "display_data"
    },
    {
     "data": {
      "image/png": "[encoded data removed]",
      "text/plain": [
       "<Figure size 648x288 with 1 Axes>"
      ]
     },
     "metadata": {
      "needs_background": "light"
     },
     "output_type": "display_data"
    }
   ],
   "source": [
    "counter = Counter()\n",
    "features[\"magic\"].agg(lambda x: counter.update(x))\n",
    "del counter['']\n",
    "counts = pd.Series(counter).sort_values(ascending=False)\n",
    "with fig(\"e7_notebook_feature_magic\", 9, 4):\n",
    "    gcf, cnt = display_counts(\n",
    "        counts, width=20, show_values=True, plot=False,\n",
    "        cut=slice(None, 10), logy=False\n",
    "    )\n",
    "    display(cnt)\n",
    "    ax = plt.gca()\n",
    "    ax.legend().set_visible(False)"
   ]
  },
  {
   "cell_type": "markdown",
   "metadata": {},
   "source": [
    "### run_line_magic\n",
    "\n",
    "`%matplotlib inline`"
   ]
  },
  {
   "cell_type": "code",
   "execution_count": 7,
   "metadata": {},
   "outputs": [
    {
     "data": {
      "text/html": [
       "<div>\n",
       "<style scoped>\n",
       "    .dataframe tbody tr th:only-of-type {\n",
       "        vertical-align: middle;\n",
       "    }\n",
       "\n",
       "    .dataframe tbody tr th {\n",
       "        vertical-align: top;\n",
       "    }\n",
       "\n",
       "    .dataframe thead th {\n",
       "        text-align: right;\n",
       "    }\n",
       "</style>\n",
       "<table border=\"1\" class=\"dataframe\">\n",
       "  <thead>\n",
       "    <tr style=\"text-align: right;\">\n",
       "      <th></th>\n",
       "      <th>0</th>\n",
       "    </tr>\n",
       "  </thead>\n",
       "  <tbody>\n",
       "    <tr>\n",
       "      <th>matplotlib</th>\n",
       "      <td>156353</td>\n",
       "    </tr>\n",
       "    <tr>\n",
       "      <th>load_ext</th>\n",
       "      <td>14216</td>\n",
       "    </tr>\n",
       "    <tr>\n",
       "      <th>autoreload</th>\n",
       "      <td>12920</td>\n",
       "    </tr>\n",
       "    <tr>\n",
       "      <th>pylab</th>\n",
       "      <td>8183</td>\n",
       "    </tr>\n",
       "    <tr>\n",
       "      <th>time</th>\n",
       "      <td>5172</td>\n",
       "    </tr>\n",
       "    <tr>\n",
       "      <th>config</th>\n",
       "      <td>4805</td>\n",
       "    </tr>\n",
       "    <tr>\n",
       "      <th>pinfo</th>\n",
       "      <td>3263</td>\n",
       "    </tr>\n",
       "    <tr>\n",
       "      <th>run</th>\n",
       "      <td>2474</td>\n",
       "    </tr>\n",
       "    <tr>\n",
       "      <th>timeit</th>\n",
       "      <td>2318</td>\n",
       "    </tr>\n",
       "    <tr>\n",
       "      <th>reload_ext</th>\n",
       "      <td>1635</td>\n",
       "    </tr>\n",
       "  </tbody>\n",
       "</table>\n",
       "</div>"
      ],
      "text/plain": [
       "                 0\n",
       "matplotlib  156353\n",
       "load_ext     14216\n",
       "autoreload   12920\n",
       "pylab         8183\n",
       "time          5172\n",
       "config        4805\n",
       "pinfo         3263\n",
       "run           2474\n",
       "timeit        2318\n",
       "reload_ext    1635"
      ]
     },
     "metadata": {},
     "output_type": "display_data"
    },
    {
     "data": {
      "image/png": "[encoded data removed]",
      "text/plain": [
       "<Figure size 648x288 with 1 Axes>"
      ]
     },
     "metadata": {
      "needs_background": "light"
     },
     "output_type": "display_data"
    }
   ],
   "source": [
    "counter = Counter()\n",
    "features[\"run_line_magic\"].agg(lambda x: counter.update(x))\n",
    "del counter['']\n",
    "counts = pd.Series(counter).sort_values(ascending=False)\n",
    "with fig(\"e7_notebook_feature_run_line_magic\", 9, 4):\n",
    "    gcf, cnt = display_counts(\n",
    "        counts, width=20, show_values=True, plot=False,\n",
    "        cut=slice(None, 10), logy=False\n",
    "    )\n",
    "    display(cnt)\n",
    "    ax = plt.gca()\n",
    "    ax.legend().set_visible(False)"
   ]
  },
  {
   "cell_type": "markdown",
   "metadata": {},
   "source": [
    "### magic + run_line_magic\n",
    "\n",
    "`%matplotlib inline`"
   ]
  },
  {
   "cell_type": "code",
   "execution_count": 8,
   "metadata": {},
   "outputs": [
    {
     "data": {
      "text/html": [
       "<div>\n",
       "<style scoped>\n",
       "    .dataframe tbody tr th:only-of-type {\n",
       "        vertical-align: middle;\n",
       "    }\n",
       "\n",
       "    .dataframe tbody tr th {\n",
       "        vertical-align: top;\n",
       "    }\n",
       "\n",
       "    .dataframe thead th {\n",
       "        text-align: right;\n",
       "    }\n",
       "</style>\n",
       "<table border=\"1\" class=\"dataframe\">\n",
       "  <thead>\n",
       "    <tr style=\"text-align: right;\">\n",
       "      <th></th>\n",
       "      <th>0</th>\n",
       "    </tr>\n",
       "  </thead>\n",
       "  <tbody>\n",
       "    <tr>\n",
       "      <th>matplotlib</th>\n",
       "      <td>387373</td>\n",
       "    </tr>\n",
       "    <tr>\n",
       "      <th>load_ext</th>\n",
       "      <td>35502</td>\n",
       "    </tr>\n",
       "    <tr>\n",
       "      <th>autoreload</th>\n",
       "      <td>29632</td>\n",
       "    </tr>\n",
       "    <tr>\n",
       "      <th>pylab</th>\n",
       "      <td>28579</td>\n",
       "    </tr>\n",
       "    <tr>\n",
       "      <th>time</th>\n",
       "      <td>12842</td>\n",
       "    </tr>\n",
       "    <tr>\n",
       "      <th>config</th>\n",
       "      <td>11968</td>\n",
       "    </tr>\n",
       "    <tr>\n",
       "      <th>pinfo</th>\n",
       "      <td>8803</td>\n",
       "    </tr>\n",
       "    <tr>\n",
       "      <th>run</th>\n",
       "      <td>6862</td>\n",
       "    </tr>\n",
       "    <tr>\n",
       "      <th>timeit</th>\n",
       "      <td>6280</td>\n",
       "    </tr>\n",
       "    <tr>\n",
       "      <th>reload_ext</th>\n",
       "      <td>3366</td>\n",
       "    </tr>\n",
       "  </tbody>\n",
       "</table>\n",
       "</div>"
      ],
      "text/plain": [
       "                 0\n",
       "matplotlib  387373\n",
       "load_ext     35502\n",
       "autoreload   29632\n",
       "pylab        28579\n",
       "time         12842\n",
       "config       11968\n",
       "pinfo         8803\n",
       "run           6862\n",
       "timeit        6280\n",
       "reload_ext    3366"
      ]
     },
     "metadata": {},
     "output_type": "display_data"
    },
    {
     "data": {
      "image/png": "[encoded data removed]",
      "text/plain": [
       "<Figure size 648x288 with 1 Axes>"
      ]
     },
     "metadata": {
      "needs_background": "light"
     },
     "output_type": "display_data"
    }
   ],
   "source": [
    "counter = Counter()\n",
    "np.bitwise_or(features[\"magic\"], features[\"run_line_magic\"]).agg(\n",
    "    lambda x: counter.update(x)\n",
    ").agg(lambda x: counter.update(x))\n",
    "del counter['']\n",
    "counts = pd.Series(counter).sort_values(ascending=False)\n",
    "with fig(\"e7_notebook_feature_line_magic\", 9, 4):\n",
    "    gcf, cnt = display_counts(\n",
    "        counts, width=20, show_values=True, plot=False,\n",
    "        cut=slice(None, 10), logy=False\n",
    "    )\n",
    "    display(cnt)\n",
    "    ax = plt.gca()\n",
    "    ax.legend().set_visible(False)"
   ]
  },
  {
   "cell_type": "code",
   "execution_count": 9,
   "metadata": {},
   "outputs": [
    {
     "name": "stdout",
     "output_type": "stream",
     "text": [
      "% of notebooks with matplotlib magic: 43.69%\n",
      "All other magics appear in less than 5% of the notebooks\n"
     ]
    }
   ],
   "source": [
    "print(\"% of notebooks with matplotlib magic: {:.2%}\".format(counter[\"matplotlib\"] / len(features)))\n",
    "five_percent = 0.05 * len(features)\n",
    "if all(\n",
    "    v < five_percent for k, v in counter.items()\n",
    "    if k != \"matplotlib\"\n",
    "):\n",
    "    print(\"All other magics appear in less than 5% of the notebooks\")\n",
    "else:\n",
    "    print(\"ToDo: Recheck 5%\")\n"
   ]
  },
  {
   "cell_type": "markdown",
   "metadata": {},
   "source": [
    "### output_ref\n",
    "\n",
    "`x = _`"
   ]
  },
  {
   "cell_type": "code",
   "execution_count": 10,
   "metadata": {},
   "outputs": [
    {
     "data": {
      "text/html": [
       "<div>\n",
       "<style scoped>\n",
       "    .dataframe tbody tr th:only-of-type {\n",
       "        vertical-align: middle;\n",
       "    }\n",
       "\n",
       "    .dataframe tbody tr th {\n",
       "        vertical-align: top;\n",
       "    }\n",
       "\n",
       "    .dataframe thead th {\n",
       "        text-align: right;\n",
       "    }\n",
       "</style>\n",
       "<table border=\"1\" class=\"dataframe\">\n",
       "  <thead>\n",
       "    <tr style=\"text-align: right;\">\n",
       "      <th></th>\n",
       "      <th>0</th>\n",
       "    </tr>\n",
       "  </thead>\n",
       "  <tbody>\n",
       "    <tr>\n",
       "      <th>_</th>\n",
       "      <td>96677</td>\n",
       "    </tr>\n",
       "    <tr>\n",
       "      <th>__</th>\n",
       "      <td>678</td>\n",
       "    </tr>\n",
       "    <tr>\n",
       "      <th>___</th>\n",
       "      <td>111</td>\n",
       "    </tr>\n",
       "    <tr>\n",
       "      <th>Out[]</th>\n",
       "      <td>103</td>\n",
       "    </tr>\n",
       "    <tr>\n",
       "      <th>_2</th>\n",
       "      <td>100</td>\n",
       "    </tr>\n",
       "    <tr>\n",
       "      <th>_1</th>\n",
       "      <td>96</td>\n",
       "    </tr>\n",
       "    <tr>\n",
       "      <th>_3</th>\n",
       "      <td>41</td>\n",
       "    </tr>\n",
       "    <tr>\n",
       "      <th>_4</th>\n",
       "      <td>24</td>\n",
       "    </tr>\n",
       "    <tr>\n",
       "      <th>_5</th>\n",
       "      <td>22</td>\n",
       "    </tr>\n",
       "    <tr>\n",
       "      <th>_6</th>\n",
       "      <td>19</td>\n",
       "    </tr>\n",
       "  </tbody>\n",
       "</table>\n",
       "</div>"
      ],
      "text/plain": [
       "           0\n",
       "_      96677\n",
       "__       678\n",
       "___      111\n",
       "Out[]    103\n",
       "_2       100\n",
       "_1        96\n",
       "_3        41\n",
       "_4        24\n",
       "_5        22\n",
       "_6        19"
      ]
     },
     "metadata": {},
     "output_type": "display_data"
    },
    {
     "data": {
      "image/png": "[encoded data removed]",
      "text/plain": [
       "<Figure size 576x432 with 1 Axes>"
      ]
     },
     "metadata": {
      "needs_background": "light"
     },
     "output_type": "display_data"
    }
   ],
   "source": [
    "counter = Counter()\n",
    "features[\"output_ref\"].agg(lambda x: counter.update(x))\n",
    "del counter['']\n",
    "counts = pd.Series(counter).sort_values(ascending=False)\n",
    "with fig(\"e7_notebook_feature_output_ref\", 8, 6):\n",
    "    gcf, cnt = display_counts(\n",
    "        counts, width=20, show_values=True, plot=False,\n",
    "        cut=slice(None, 10), logy=False\n",
    "    )\n",
    "    display(cnt)\n",
    "    ax = plt.gca()\n",
    "    ax.legend().set_visible(False)"
   ]
  },
  {
   "cell_type": "markdown",
   "metadata": {},
   "source": [
    "### run_cell_magic\n",
    "\n",
    "`\n",
    "%%time\n",
    "2**1000000\n",
    "`"
   ]
  },
  {
   "cell_type": "code",
   "execution_count": 11,
   "metadata": {},
   "outputs": [
    {
     "data": {
      "text/html": [
       "<div>\n",
       "<style scoped>\n",
       "    .dataframe tbody tr th:only-of-type {\n",
       "        vertical-align: middle;\n",
       "    }\n",
       "\n",
       "    .dataframe tbody tr th {\n",
       "        vertical-align: top;\n",
       "    }\n",
       "\n",
       "    .dataframe thead th {\n",
       "        text-align: right;\n",
       "    }\n",
       "</style>\n",
       "<table border=\"1\" class=\"dataframe\">\n",
       "  <thead>\n",
       "    <tr style=\"text-align: right;\">\n",
       "      <th></th>\n",
       "      <th>0</th>\n",
       "    </tr>\n",
       "  </thead>\n",
       "  <tbody>\n",
       "    <tr>\n",
       "      <th>time</th>\n",
       "      <td>13129</td>\n",
       "    </tr>\n",
       "    <tr>\n",
       "      <th>writefile</th>\n",
       "      <td>2937</td>\n",
       "    </tr>\n",
       "    <tr>\n",
       "      <th>bash</th>\n",
       "      <td>2850</td>\n",
       "    </tr>\n",
       "    <tr>\n",
       "      <th>timeit</th>\n",
       "      <td>2628</td>\n",
       "    </tr>\n",
       "    <tr>\n",
       "      <th>javascript</th>\n",
       "      <td>2447</td>\n",
       "    </tr>\n",
       "    <tr>\n",
       "      <th>sql</th>\n",
       "      <td>1822</td>\n",
       "    </tr>\n",
       "    <tr>\n",
       "      <th>HTML</th>\n",
       "      <td>1501</td>\n",
       "    </tr>\n",
       "    <tr>\n",
       "      <th>html</th>\n",
       "      <td>1443</td>\n",
       "    </tr>\n",
       "    <tr>\n",
       "      <th>R</th>\n",
       "      <td>1295</td>\n",
       "    </tr>\n",
       "    <tr>\n",
       "      <th>capture</th>\n",
       "      <td>1131</td>\n",
       "    </tr>\n",
       "  </tbody>\n",
       "</table>\n",
       "</div>"
      ],
      "text/plain": [
       "                0\n",
       "time        13129\n",
       "writefile    2937\n",
       "bash         2850\n",
       "timeit       2628\n",
       "javascript   2447\n",
       "sql          1822\n",
       "HTML         1501\n",
       "html         1443\n",
       "R            1295\n",
       "capture      1131"
      ]
     },
     "metadata": {},
     "output_type": "display_data"
    },
    {
     "data": {
      "image/png": "[encoded data removed]",
      "text/plain": [
       "<Figure size 576x432 with 1 Axes>"
      ]
     },
     "metadata": {
      "needs_background": "light"
     },
     "output_type": "display_data"
    }
   ],
   "source": [
    "counter = Counter()\n",
    "features[\"run_cell_magic\"].agg(lambda x: counter.update(x))\n",
    "del counter['']\n",
    "counts = pd.Series(counter).sort_values(ascending=False)\n",
    "with fig(\"e7_notebook_feature_run_cell_magic\", 8, 6):\n",
    "    gcf, cnt = display_counts(\n",
    "        counts, width=20, show_values=True, plot=False,\n",
    "        cut=slice(None, 10), logy=False\n",
    "    )\n",
    "    display(cnt)\n",
    "    ax = plt.gca()\n",
    "    ax.legend().set_visible(False)\n"
   ]
  },
  {
   "cell_type": "markdown",
   "metadata": {},
   "source": [
    "### system\n",
    "\n",
    "`!ls`"
   ]
  },
  {
   "cell_type": "code",
   "execution_count": 12,
   "metadata": {},
   "outputs": [
    {
     "data": {
      "text/html": [
       "<div>\n",
       "<style scoped>\n",
       "    .dataframe tbody tr th:only-of-type {\n",
       "        vertical-align: middle;\n",
       "    }\n",
       "\n",
       "    .dataframe tbody tr th {\n",
       "        vertical-align: top;\n",
       "    }\n",
       "\n",
       "    .dataframe thead th {\n",
       "        text-align: right;\n",
       "    }\n",
       "</style>\n",
       "<table border=\"1\" class=\"dataframe\">\n",
       "  <thead>\n",
       "    <tr style=\"text-align: right;\">\n",
       "      <th></th>\n",
       "      <th>0</th>\n",
       "    </tr>\n",
       "  </thead>\n",
       "  <tbody>\n",
       "    <tr>\n",
       "      <th>ls</th>\n",
       "      <td>5503</td>\n",
       "    </tr>\n",
       "    <tr>\n",
       "      <th>pip</th>\n",
       "      <td>5500</td>\n",
       "    </tr>\n",
       "    <tr>\n",
       "      <th>cat</th>\n",
       "      <td>2989</td>\n",
       "    </tr>\n",
       "    <tr>\n",
       "      <th>head</th>\n",
       "      <td>2926</td>\n",
       "    </tr>\n",
       "    <tr>\n",
       "      <th>rm</th>\n",
       "      <td>2628</td>\n",
       "    </tr>\n",
       "    <tr>\n",
       "      <th>mkdir</th>\n",
       "      <td>2545</td>\n",
       "    </tr>\n",
       "    <tr>\n",
       "      <th>wget</th>\n",
       "      <td>2194</td>\n",
       "    </tr>\n",
       "    <tr>\n",
       "      <th>python</th>\n",
       "      <td>2099</td>\n",
       "    </tr>\n",
       "    <tr>\n",
       "      <th>pwd</th>\n",
       "      <td>1424</td>\n",
       "    </tr>\n",
       "    <tr>\n",
       "      <th>curl</th>\n",
       "      <td>1156</td>\n",
       "    </tr>\n",
       "  </tbody>\n",
       "</table>\n",
       "</div>"
      ],
      "text/plain": [
       "           0\n",
       "ls      5503\n",
       "pip     5500\n",
       "cat     2989\n",
       "head    2926\n",
       "rm      2628\n",
       "mkdir   2545\n",
       "wget    2194\n",
       "python  2099\n",
       "pwd     1424\n",
       "curl    1156"
      ]
     },
     "metadata": {},
     "output_type": "display_data"
    },
    {
     "data": {
      "image/png": "[encoded data removed]",
      "text/plain": [
       "<Figure size 576x432 with 1 Axes>"
      ]
     },
     "metadata": {
      "needs_background": "light"
     },
     "output_type": "display_data"
    }
   ],
   "source": [
    "counter = Counter()\n",
    "features[\"system\"].agg(lambda x: counter.update(x))\n",
    "del counter['']\n",
    "counts = pd.Series(counter).sort_values(ascending=False)\n",
    "with fig(\"e7_notebook_feature_system\", 8, 6):\n",
    "    gcf, cnt = display_counts(\n",
    "        counts, width=20, show_values=True, plot=False,\n",
    "        cut=slice(None, 10), logy=False\n",
    "    )\n",
    "    display(cnt)\n",
    "    ax = plt.gca()\n",
    "    ax.legend().set_visible(False)"
   ]
  },
  {
   "cell_type": "markdown",
   "metadata": {},
   "source": [
    "### getoutput\n",
    "\n",
    "`x = !ls`"
   ]
  },
  {
   "cell_type": "code",
   "execution_count": 13,
   "metadata": {},
   "outputs": [
    {
     "data": {
      "text/html": [
       "<div>\n",
       "<style scoped>\n",
       "    .dataframe tbody tr th:only-of-type {\n",
       "        vertical-align: middle;\n",
       "    }\n",
       "\n",
       "    .dataframe tbody tr th {\n",
       "        vertical-align: top;\n",
       "    }\n",
       "\n",
       "    .dataframe thead th {\n",
       "        text-align: right;\n",
       "    }\n",
       "</style>\n",
       "<table border=\"1\" class=\"dataframe\">\n",
       "  <thead>\n",
       "    <tr style=\"text-align: right;\">\n",
       "      <th></th>\n",
       "      <th>0</th>\n",
       "    </tr>\n",
       "  </thead>\n",
       "  <tbody>\n",
       "    <tr>\n",
       "      <th>ls</th>\n",
       "      <td>661</td>\n",
       "    </tr>\n",
       "    <tr>\n",
       "      <th>cat</th>\n",
       "      <td>114</td>\n",
       "    </tr>\n",
       "    <tr>\n",
       "      <th>pwd</th>\n",
       "      <td>96</td>\n",
       "    </tr>\n",
       "    <tr>\n",
       "      <th>find</th>\n",
       "      <td>76</td>\n",
       "    </tr>\n",
       "    <tr>\n",
       "      <th>wc</th>\n",
       "      <td>69</td>\n",
       "    </tr>\n",
       "    <tr>\n",
       "      <th>echo</th>\n",
       "      <td>50</td>\n",
       "    </tr>\n",
       "    <tr>\n",
       "      <th>grep</th>\n",
       "      <td>38</td>\n",
       "    </tr>\n",
       "    <tr>\n",
       "      <th>date</th>\n",
       "      <td>27</td>\n",
       "    </tr>\n",
       "    <tr>\n",
       "      <th>tail</th>\n",
       "      <td>24</td>\n",
       "    </tr>\n",
       "    <tr>\n",
       "      <th>dir</th>\n",
       "      <td>23</td>\n",
       "    </tr>\n",
       "  </tbody>\n",
       "</table>\n",
       "</div>"
      ],
      "text/plain": [
       "        0\n",
       "ls    661\n",
       "cat   114\n",
       "pwd    96\n",
       "find   76\n",
       "wc     69\n",
       "echo   50\n",
       "grep   38\n",
       "date   27\n",
       "tail   24\n",
       "dir    23"
      ]
     },
     "metadata": {},
     "output_type": "display_data"
    },
    {
     "data": {
      "image/png": "[encoded data removed]",
      "text/plain": [
       "<Figure size 576x432 with 1 Axes>"
      ]
     },
     "metadata": {
      "needs_background": "light"
     },
     "output_type": "display_data"
    }
   ],
   "source": [
    "counter = Counter()\n",
    "features[\"getoutput\"].agg(lambda x: counter.update(x))\n",
    "del counter['']\n",
    "counts = pd.Series(counter).sort_values(ascending=False)\n",
    "with fig(\"e7_notebook_feature_getoutput\", 8, 6):\n",
    "    gcf, cnt = display_counts(\n",
    "        counts, width=20, show_values=True, plot=False,\n",
    "        cut=slice(None, 10), logy=False\n",
    "    )\n",
    "    display(cnt)\n",
    "    ax = plt.gca()\n",
    "    ax.legend().set_visible(False)"
   ]
  },
  {
   "cell_type": "markdown",
   "metadata": {},
   "source": [
    "### system + getoutput by notebook"
   ]
  },
  {
   "cell_type": "code",
   "execution_count": 14,
   "metadata": {},
   "outputs": [
    {
     "data": {
      "text/html": [
       "<div>\n",
       "<style scoped>\n",
       "    .dataframe tbody tr th:only-of-type {\n",
       "        vertical-align: middle;\n",
       "    }\n",
       "\n",
       "    .dataframe tbody tr th {\n",
       "        vertical-align: top;\n",
       "    }\n",
       "\n",
       "    .dataframe thead th {\n",
       "        text-align: right;\n",
       "    }\n",
       "</style>\n",
       "<table border=\"1\" class=\"dataframe\">\n",
       "  <thead>\n",
       "    <tr style=\"text-align: right;\">\n",
       "      <th></th>\n",
       "      <th>0</th>\n",
       "    </tr>\n",
       "  </thead>\n",
       "  <tbody>\n",
       "    <tr>\n",
       "      <th>ls</th>\n",
       "      <td>5975</td>\n",
       "    </tr>\n",
       "    <tr>\n",
       "      <th>pip</th>\n",
       "      <td>5513</td>\n",
       "    </tr>\n",
       "    <tr>\n",
       "      <th>cat</th>\n",
       "      <td>3087</td>\n",
       "    </tr>\n",
       "    <tr>\n",
       "      <th>head</th>\n",
       "      <td>2937</td>\n",
       "    </tr>\n",
       "    <tr>\n",
       "      <th>rm</th>\n",
       "      <td>2632</td>\n",
       "    </tr>\n",
       "    <tr>\n",
       "      <th>mkdir</th>\n",
       "      <td>2550</td>\n",
       "    </tr>\n",
       "    <tr>\n",
       "      <th>wget</th>\n",
       "      <td>2200</td>\n",
       "    </tr>\n",
       "    <tr>\n",
       "      <th>python</th>\n",
       "      <td>2115</td>\n",
       "    </tr>\n",
       "    <tr>\n",
       "      <th>pwd</th>\n",
       "      <td>1511</td>\n",
       "    </tr>\n",
       "    <tr>\n",
       "      <th>curl</th>\n",
       "      <td>1171</td>\n",
       "    </tr>\n",
       "  </tbody>\n",
       "</table>\n",
       "</div>"
      ],
      "text/plain": [
       "           0\n",
       "ls      5975\n",
       "pip     5513\n",
       "cat     3087\n",
       "head    2937\n",
       "rm      2632\n",
       "mkdir   2550\n",
       "wget    2200\n",
       "python  2115\n",
       "pwd     1511\n",
       "curl    1171"
      ]
     },
     "metadata": {},
     "output_type": "display_data"
    },
    {
     "data": {
      "image/png": "[encoded data removed]",
      "text/plain": [
       "<Figure size 576x432 with 1 Axes>"
      ]
     },
     "metadata": {
      "needs_background": "light"
     },
     "output_type": "display_data"
    }
   ],
   "source": [
    "counter = Counter()\n",
    "np.bitwise_or(features[\"system\"], features[\"getoutput\"]).agg(\n",
    "    lambda x: counter.update(x)\n",
    ")\n",
    "del counter['']\n",
    "counts = pd.Series(counter).sort_values(ascending=False)\n",
    "with fig(\"e7_notebook_feature_bang\", 8, 6):\n",
    "    gcf, cnt = display_counts(\n",
    "        counts, width=20, show_values=True, plot=False,\n",
    "        cut=slice(None, 10), logy=False\n",
    "    )\n",
    "    display(cnt)\n",
    "    ax = plt.gca()\n",
    "    ax.legend().set_visible(False)"
   ]
  },
  {
   "cell_type": "markdown",
   "metadata": {},
   "source": [
    "### input_ref\n",
    "\n",
    "`x = _i`"
   ]
  },
  {
   "cell_type": "code",
   "execution_count": 15,
   "metadata": {},
   "outputs": [
    {
     "data": {
      "text/html": [
       "<div>\n",
       "<style scoped>\n",
       "    .dataframe tbody tr th:only-of-type {\n",
       "        vertical-align: middle;\n",
       "    }\n",
       "\n",
       "    .dataframe tbody tr th {\n",
       "        vertical-align: top;\n",
       "    }\n",
       "\n",
       "    .dataframe thead th {\n",
       "        text-align: right;\n",
       "    }\n",
       "</style>\n",
       "<table border=\"1\" class=\"dataframe\">\n",
       "  <thead>\n",
       "    <tr style=\"text-align: right;\">\n",
       "      <th></th>\n",
       "      <th>0</th>\n",
       "    </tr>\n",
       "  </thead>\n",
       "  <tbody>\n",
       "    <tr>\n",
       "      <th>_i</th>\n",
       "      <td>204</td>\n",
       "    </tr>\n",
       "    <tr>\n",
       "      <th>In[]</th>\n",
       "      <td>79</td>\n",
       "    </tr>\n",
       "    <tr>\n",
       "      <th>_ii</th>\n",
       "      <td>7</td>\n",
       "    </tr>\n",
       "    <tr>\n",
       "      <th>_i2</th>\n",
       "      <td>6</td>\n",
       "    </tr>\n",
       "    <tr>\n",
       "      <th>_iii</th>\n",
       "      <td>6</td>\n",
       "    </tr>\n",
       "    <tr>\n",
       "      <th>_i1</th>\n",
       "      <td>5</td>\n",
       "    </tr>\n",
       "    <tr>\n",
       "      <th>_ih[]</th>\n",
       "      <td>2</td>\n",
       "    </tr>\n",
       "    <tr>\n",
       "      <th>_i3</th>\n",
       "      <td>2</td>\n",
       "    </tr>\n",
       "    <tr>\n",
       "      <th>_i7</th>\n",
       "      <td>2</td>\n",
       "    </tr>\n",
       "    <tr>\n",
       "      <th>_i6</th>\n",
       "      <td>1</td>\n",
       "    </tr>\n",
       "  </tbody>\n",
       "</table>\n",
       "</div>"
      ],
      "text/plain": [
       "         0\n",
       "_i     204\n",
       "In[]    79\n",
       "_ii      7\n",
       "_i2      6\n",
       "_iii     6\n",
       "_i1      5\n",
       "_ih[]    2\n",
       "_i3      2\n",
       "_i7      2\n",
       "_i6      1"
      ]
     },
     "metadata": {},
     "output_type": "display_data"
    },
    {
     "data": {
      "image/png": "[encoded data removed]",
      "text/plain": [
       "<Figure size 576x432 with 1 Axes>"
      ]
     },
     "metadata": {
      "needs_background": "light"
     },
     "output_type": "display_data"
    }
   ],
   "source": [
    "counter = Counter()\n",
    "features[\"input_ref\"].agg(lambda x: counter.update(x))\n",
    "del counter['']\n",
    "counts = pd.Series(counter).sort_values(ascending=False)\n",
    "with fig(\"e7_notebook_feature_input_ref\", 8, 6):\n",
    "    gcf, cnt = display_counts(\n",
    "        counts, width=20, show_values=True, plot=False,\n",
    "        cut=slice(None, 10), logy=False\n",
    "    )\n",
    "    display(cnt)\n",
    "    ax = plt.gca()\n",
    "    ax.legend().set_visible(False)\n"
   ]
  },
  {
   "cell_type": "markdown",
   "metadata": {},
   "source": [
    "### set_next_input\n",
    "\n",
    "Help, when the line contains more than the help expression\n",
    "\n",
    "`a = x??`"
   ]
  },
  {
   "cell_type": "code",
   "execution_count": 16,
   "metadata": {},
   "outputs": [
    {
     "data": {
      "text/html": [
       "<div>\n",
       "<style scoped>\n",
       "    .dataframe tbody tr th:only-of-type {\n",
       "        vertical-align: middle;\n",
       "    }\n",
       "\n",
       "    .dataframe tbody tr th {\n",
       "        vertical-align: top;\n",
       "    }\n",
       "\n",
       "    .dataframe thead th {\n",
       "        text-align: right;\n",
       "    }\n",
       "</style>\n",
       "<table border=\"1\" class=\"dataframe\">\n",
       "  <thead>\n",
       "    <tr style=\"text-align: right;\">\n",
       "      <th></th>\n",
       "      <th>0</th>\n",
       "    </tr>\n",
       "  </thead>\n",
       "  <tbody>\n",
       "    <tr>\n",
       "      <th>print</th>\n",
       "      <td>15</td>\n",
       "    </tr>\n",
       "    <tr>\n",
       "      <th>df</th>\n",
       "      <td>14</td>\n",
       "    </tr>\n",
       "    <tr>\n",
       "      <th>data</th>\n",
       "      <td>12</td>\n",
       "    </tr>\n",
       "    <tr>\n",
       "      <th>a</th>\n",
       "      <td>7</td>\n",
       "    </tr>\n",
       "    <tr>\n",
       "      <th>x</th>\n",
       "      <td>7</td>\n",
       "    </tr>\n",
       "    <tr>\n",
       "      <th>b</th>\n",
       "      <td>5</td>\n",
       "    </tr>\n",
       "    <tr>\n",
       "      <th>What</th>\n",
       "      <td>5</td>\n",
       "    </tr>\n",
       "    <tr>\n",
       "      <th>iris</th>\n",
       "      <td>4</td>\n",
       "    </tr>\n",
       "    <tr>\n",
       "      <th>Y</th>\n",
       "      <td>3</td>\n",
       "    </tr>\n",
       "    <tr>\n",
       "      <th>y</th>\n",
       "      <td>3</td>\n",
       "    </tr>\n",
       "  </tbody>\n",
       "</table>\n",
       "</div>"
      ],
      "text/plain": [
       "        0\n",
       "print  15\n",
       "df     14\n",
       "data   12\n",
       "a       7\n",
       "x       7\n",
       "b       5\n",
       "What    5\n",
       "iris    4\n",
       "Y       3\n",
       "y       3"
      ]
     },
     "metadata": {},
     "output_type": "display_data"
    },
    {
     "data": {
      "image/png": "[encoded data removed]",
      "text/plain": [
       "<Figure size 576x432 with 1 Axes>"
      ]
     },
     "metadata": {
      "needs_background": "light"
     },
     "output_type": "display_data"
    }
   ],
   "source": [
    "counter = Counter()\n",
    "features[\"set_next_input\"].agg(lambda x: counter.update(x))\n",
    "del counter['']\n",
    "counts = pd.Series(counter).sort_values(ascending=False)\n",
    "with fig(\"e7_notebook_feature_set_next_input\", 8, 6):\n",
    "    gcf, cnt = display_counts(\n",
    "        counts, width=20, show_values=True, plot=False,\n",
    "        cut=slice(None, 10), logy=False\n",
    "    )\n",
    "    display(cnt)\n",
    "    ax = plt.gca()\n",
    "    ax.legend().set_visible(False)\n"
   ]
  },
  {
   "cell_type": "markdown",
   "metadata": {},
   "source": [
    "### set_hook\n",
    "\n",
    "False positive <br>\n",
    "`get_ipython().set_hook()`"
   ]
  },
  {
   "cell_type": "code",
   "execution_count": 17,
   "metadata": {},
   "outputs": [
    {
     "data": {
      "text/html": [
       "<div>\n",
       "<style scoped>\n",
       "    .dataframe tbody tr th:only-of-type {\n",
       "        vertical-align: middle;\n",
       "    }\n",
       "\n",
       "    .dataframe tbody tr th {\n",
       "        vertical-align: top;\n",
       "    }\n",
       "\n",
       "    .dataframe thead th {\n",
       "        text-align: right;\n",
       "    }\n",
       "</style>\n",
       "<table border=\"1\" class=\"dataframe\">\n",
       "  <thead>\n",
       "    <tr style=\"text-align: right;\">\n",
       "      <th></th>\n",
       "      <th>0</th>\n",
       "    </tr>\n",
       "  </thead>\n",
       "  <tbody>\n",
       "    <tr>\n",
       "      <th>show_in_pager</th>\n",
       "      <td>17</td>\n",
       "    </tr>\n",
       "  </tbody>\n",
       "</table>\n",
       "</div>"
      ],
      "text/plain": [
       "                0\n",
       "show_in_pager  17"
      ]
     },
     "metadata": {},
     "output_type": "display_data"
    },
    {
     "data": {
      "image/png": "[encoded data removed]",
      "text/plain": [
       "<Figure size 576x72 with 1 Axes>"
      ]
     },
     "metadata": {
      "needs_background": "light"
     },
     "output_type": "display_data"
    }
   ],
   "source": [
    "counter = Counter()\n",
    "features[\"set_hook\"].agg(lambda x: counter.update(x))\n",
    "del counter['']\n",
    "counts = pd.Series(counter).sort_values(ascending=False)\n",
    "with fig(\"e7_notebook_feature_set_hook\", 8, 1):\n",
    "    gcf, cnt = display_counts(\n",
    "        counts, width=20, show_values=True, plot=False,\n",
    "        cut=slice(None, 10), logy=False\n",
    "    )\n",
    "    display(cnt)\n",
    "    ax = plt.gca()\n",
    "    ax.legend().set_visible(False)"
   ]
  },
  {
   "cell_type": "markdown",
   "metadata": {},
   "source": [
    "### shadown_ref\n",
    "\n",
    "`_sh`"
   ]
  },
  {
   "cell_type": "code",
   "execution_count": 18,
   "metadata": {},
   "outputs": [
    {
     "data": {
      "text/html": [
       "<div>\n",
       "<style scoped>\n",
       "    .dataframe tbody tr th:only-of-type {\n",
       "        vertical-align: middle;\n",
       "    }\n",
       "\n",
       "    .dataframe tbody tr th {\n",
       "        vertical-align: top;\n",
       "    }\n",
       "\n",
       "    .dataframe thead th {\n",
       "        text-align: right;\n",
       "    }\n",
       "</style>\n",
       "<table border=\"1\" class=\"dataframe\">\n",
       "  <thead>\n",
       "    <tr style=\"text-align: right;\">\n",
       "      <th></th>\n",
       "      <th>0</th>\n",
       "    </tr>\n",
       "  </thead>\n",
       "  <tbody>\n",
       "    <tr>\n",
       "      <th>_sh</th>\n",
       "      <td>2</td>\n",
       "    </tr>\n",
       "  </tbody>\n",
       "</table>\n",
       "</div>"
      ],
      "text/plain": [
       "     0\n",
       "_sh  2"
      ]
     },
     "metadata": {},
     "output_type": "display_data"
    },
    {
     "data": {
      "image/png": "[encoded data removed]",
      "text/plain": [
       "<Figure size 576x72 with 1 Axes>"
      ]
     },
     "metadata": {
      "needs_background": "light"
     },
     "output_type": "display_data"
    }
   ],
   "source": [
    "counter = Counter()\n",
    "features[\"shadown_ref\"].agg(lambda x: counter.update(x))\n",
    "del counter['']\n",
    "counts = pd.Series(counter).sort_values(ascending=False)\n",
    "with fig(\"e7_notebook_feature_shadown_ref\", 8, 1):\n",
    "    gcf, cnt = display_counts(\n",
    "        counts, width=20, show_values=True, plot=False,\n",
    "        cut=slice(None, 10), logy=False\n",
    "    )\n",
    "    display(cnt)\n",
    "    ax = plt.gca()\n",
    "    ax.legend().set_visible(False)"
   ]
  },
  {
   "cell_type": "markdown",
   "metadata": {},
   "source": [
    "This notebook analyzed the IPython features, but we did not include any of them in the paper"
   ]
  }
 ],
 "metadata": {
  "julynter-results": {
   "filteredId": [],
   "filteredIndividual": [],
   "filteredRestart": [],
   "filteredType": [],
   "hash": "35fd153344a2e35b670814dc6623c797cd266464",
   "visible": []
  },
  "kernelspec": {
   "display_name": "Python 3",
   "language": "python",
   "name": "python3"
  },
  "language_info": {
   "codemirror_mode": {
    "name": "ipython",
    "version": 3
   },
   "file_extension": ".py",
   "mimetype": "text/x-python",
   "name": "python",
   "nbconvert_exporter": "python",
   "pygments_lexer": "ipython3",
   "version": "3.7.3"
  }
 },
 "nbformat": 4,
 "nbformat_minor": 4
}
