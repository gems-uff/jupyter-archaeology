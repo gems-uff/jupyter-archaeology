{
 "cells": [
  {
   "cell_type": "code",
   "execution_count": 1,
   "metadata": {},
   "outputs": [
    {
     "name": "stderr",
     "output_type": "stream",
     "text": [
      "Note: NumExpr detected 12 cores but \"NUMEXPR_MAX_THREADS\" not set, so enforcing safe limit of 8.\n",
      "NumExpr defaulting to 8 threads.\n"
     ]
    }
   ],
   "source": [
    "import sys\n",
    "sys.path.insert(0, '../archaeology')\n",
    "%matplotlib inline\n",
    "import csv\n",
    "from collections import defaultdict, Counter\n",
    "\n",
    "\n",
    "import seaborn as sns\n",
    "import pandas as pd\n",
    "import numpy as np\n",
    "import dask.dataframe as dd\n",
    "import matplotlib \n",
    "import numba\n",
    "#matplotlib.rc('xtick', labelsize='medium') \n",
    "#matplotlib.rc('ytick', labelsize='medium') \n",
    "from sqlalchemy import func\n",
    "from matplotlib import pyplot as plt\n",
    "\n",
    "from db import connect\n",
    "\n",
    "import analysis_helpers, importlib\n",
    "importlib.reload(analysis_helpers)\n",
    "from analysis_helpers import display_counts, violinplot, describe_processed\n",
    "from analysis_helpers import numpy_distribution, boxplot_distribution\n",
    "from analysis_helpers import distribution_with_boxplot, savefig, fig\n",
    "from analysis_helpers import relative_var, var, cell_distribution\n",
    "from analysis_helpers import calculate_auto, close_fig, print_result\n",
    "from analysis_helpers import dbmt, DBMT, print_relative_var_group\n",
    "from analysis_helpers import load_vars, group_run, dbmt_relative_var\n",
    "\n",
    "from b8_notebook_aggregate import generate_execution_meta, generate_execution_base"
   ]
  },
  {
   "cell_type": "code",
   "execution_count": 2,
   "metadata": {},
   "outputs": [],
   "source": [
    "vs = load_vars()\n",
    "threshold = float(vs['s_a0_starforks'])"
   ]
  },
  {
   "cell_type": "markdown",
   "metadata": {},
   "source": [
    "## Query\n",
    "\n",
    "Select notebooks that are:\n",
    "- valid\n",
    "  \n",
    "  ```NOT (n.kernel = 'no-kernel' AND n.nbformat = '0')\n",
    "  AND n.processed & 15 = 0 AND n.skip & (1024 + 512) = 0```\n",
    "\n",
    "\n",
    "- non-duplicated\n",
    "  \n",
    "  ```n.skip & (1024 + 512 + 128) = 0```\n",
    "  \n",
    "- executed\n",
    "\n",
    "  ```n.max_execution_count > -0```\n",
    "  \n",
    "- unambiguous\n",
    "\n",
    "  ```n.processing_cells = 0 AND n.unambiguous = 1```\n",
    "  \n",
    "- python notebooks\n",
    "\n",
    "  ```n.language = 'python'\n",
    "  AND LEFT(n.language_version, 1) IN ('2', '3')```"
   ]
  },
  {
   "cell_type": "code",
   "execution_count": 3,
   "metadata": {},
   "outputs": [
    {
     "name": "stdout",
     "output_type": "stream",
     "text": [
      "Query Bool Aggregates\n",
      "CPU times: user 36.2 s, sys: 1.78 s, total: 38 s\n",
      "Wall time: 52.2 s\n"
     ]
    }
   ],
   "source": [
    "%%time\n",
    "with connect() as session:\n",
    "    print(\"Query Bool Aggregates\")\n",
    "    query = (\"\"\"\n",
    "        SELECT n.*, {}, {}, {}\n",
    "        FROM notebooks n, notebooks_bool_aggregates b\n",
    "        WHERE NOT (n.kernel = 'no-kernel' AND n.nbformat = '0')\n",
    "        AND n.processed & 15 = 0\n",
    "        AND n.skip & 2048 = 0\n",
    "        AND n.skip & (1024 + 512) = 0\n",
    "        AND n.skip & (1024 + 512 + 128) = 0\n",
    "        AND n.max_execution_count > -0\n",
    "        AND n.processing_cells = 0\n",
    "        AND n.unambiguous = 1\n",
    "        AND n.language = 'python'\n",
    "        AND LEFT(n.language_version, 1) IN ('2', '3')\n",
    "        AND b.notebook_id = n.id\n",
    "    \"\"\".format(\n",
    "        \", \".join(\n",
    "            'b.\"{}\"'.format(key)\n",
    "            for key in generate_execution_base(\"original_exe\")\n",
    "        ),\n",
    "        \", \".join(\n",
    "            'b.\"{}\"'.format(key)\n",
    "            for key in generate_execution_base(\"topdown\")\n",
    "        ),\n",
    "        \", \".join(\n",
    "            'b.\"{}\"'.format(key)\n",
    "            for key in generate_execution_base(\"execorder\")\n",
    "        )\n",
    "    ))\n",
    "    notebooks = pd.read_sql(query, session.connection())"
   ]
  },
  {
   "cell_type": "code",
   "execution_count": 4,
   "metadata": {},
   "outputs": [
    {
     "name": "stdout",
     "output_type": "stream",
     "text": [
      "Query Full Bool Aggregates\n",
      "CPU times: user 28.5 s, sys: 698 ms, total: 29.2 s\n",
      "Wall time: 33.7 s\n"
     ]
    }
   ],
   "source": [
    "%%time\n",
    "with connect() as session:\n",
    "    print(\"Query Full Bool Aggregates\")\n",
    "    query = (\"\"\"\n",
    "        SELECT n.*, {}, {}\n",
    "        FROM notebooks n, notebooks_fullexecbool_aggregates b\n",
    "        WHERE NOT (n.kernel = 'no-kernel' AND n.nbformat = '0')\n",
    "        AND n.processed & 15 = 0\n",
    "        AND n.skip & 2048 = 0\n",
    "        AND n.skip & (1024 + 512) = 0\n",
    "        AND n.skip & (1024 + 512 + 128) = 0\n",
    "        AND n.max_execution_count > -0\n",
    "        AND n.processing_cells = 0\n",
    "        AND n.unambiguous = 1\n",
    "        AND n.language = 'python'\n",
    "        AND LEFT(n.language_version, 1) IN ('2', '3')\n",
    "        AND b.notebook_id = n.id\n",
    "    \"\"\".format(\n",
    "        \", \".join(\n",
    "            'b.\"{}\"'.format(key)\n",
    "            for key in generate_execution_base(\"fulltopdown\")\n",
    "        ),\n",
    "        \", \".join(\n",
    "            'b.\"{}\"'.format(key)\n",
    "            for key in generate_execution_base(\"fullexecorder\")\n",
    "        )\n",
    "    ))\n",
    "    fullexec = pd.read_sql(query, session.connection())"
   ]
  },
  {
   "cell_type": "code",
   "execution_count": 5,
   "metadata": {},
   "outputs": [
    {
     "name": "stdout",
     "output_type": "stream",
     "text": [
      "Query Meta Aggregates\n",
      "CPU times: user 1.85 s, sys: 171 ms, total: 2.02 s\n",
      "Wall time: 1min 7s\n"
     ]
    }
   ],
   "source": [
    "%%time\n",
    "with connect() as session:\n",
    "    print('Query Meta Aggregates')\n",
    "    query = (\"\"\"\n",
    "        SELECT n.id, b.original_exe_exception, b.execorder_exception, b.topdown_exception\n",
    "        FROM notebooks n, notebooks_meta_aggregates b\n",
    "        WHERE NOT (n.kernel = 'no-kernel' AND n.nbformat = '0')\n",
    "        AND n.processed & 15 = 0\n",
    "        AND n.skip & 2048 = 0\n",
    "        AND n.skip & (1024 + 512) = 0\n",
    "        AND n.skip & (1024 + 512 + 128) = 0\n",
    "        AND n.max_execution_count > -0\n",
    "        AND n.processing_cells = 0\n",
    "        AND n.unambiguous = 1\n",
    "        AND n.language = 'python'\n",
    "        AND LEFT(n.language_version, 1) IN ('2', '3')\n",
    "        AND b.notebook_id = n.id\n",
    "    \"\"\")\n",
    "    notebooks_meta = pd.read_sql(query, session.connection())"
   ]
  },
  {
   "cell_type": "code",
   "execution_count": 6,
   "metadata": {},
   "outputs": [
    {
     "name": "stdout",
     "output_type": "stream",
     "text": [
      "Query Full Meta Aggregates\n",
      "Query Repositories\n",
      "Unambiguous Python Notebooks: 753405\n",
      "CPU times: user 4.34 s, sys: 234 ms, total: 4.57 s\n",
      "Wall time: 47.9 s\n"
     ]
    }
   ],
   "source": [
    "%%time\n",
    "with connect() as session:\n",
    "    print(\"Query Full Meta Aggregates\")\n",
    "    query = (\"\"\"\n",
    "        SELECT n.id, b.fullexecorder_exception, b.fulltopdown_exception\n",
    "        FROM notebooks n, notebooks_fullexecmeta_aggregates b\n",
    "        WHERE NOT (n.kernel = 'no-kernel' AND n.nbformat = '0')\n",
    "        AND n.processed & 15 = 0\n",
    "        AND n.skip & 2048 = 0\n",
    "        AND n.skip & (1024 + 512) = 0\n",
    "        AND n.skip & (1024 + 512 + 128) = 0\n",
    "        AND n.max_execution_count > -0\n",
    "        AND n.processing_cells = 0\n",
    "        AND n.unambiguous = 1\n",
    "        AND n.language = 'python'\n",
    "        AND LEFT(n.language_version, 1) IN ('2', '3')\n",
    "        AND b.notebook_id = n.id\n",
    "    \"\"\")\n",
    "    fullexec_meta = pd.read_sql(query, session.connection())\n",
    "    \n",
    "    print(\"Query Repositories\")\n",
    "    t_repositories = pd.read_sql(\"\"\"\n",
    "        SELECT *\n",
    "        FROM repositories\n",
    "    \"\"\", session.connection())\n",
    "    \n",
    "    print(\"Unambiguous Python Notebooks:\", len(notebooks))\n",
    "    "
   ]
  },
  {
   "cell_type": "code",
   "execution_count": 7,
   "metadata": {},
   "outputs": [
    {
     "data": {
      "text/plain": [
       "(672235, 753404)"
      ]
     },
     "execution_count": 7,
     "metadata": {},
     "output_type": "execute_result"
    }
   ],
   "source": [
    "notebooks = notebooks.set_index(\"id\").join(notebooks_meta.set_index(\"id\")).reset_index()\n",
    "fullexec = fullexec.set_index(\"id\").join(fullexec_meta.set_index(\"id\")).reset_index()\n",
    "notebooks_repositories = notebooks.groupby(\"repository_id\").first()[[\"stargazers\", \"forks\", \"starforks\"]]\n",
    "repositories = t_repositories.set_index('id').join(notebooks_repositories, how=\"inner\")\n",
    "repositories['id'] = repositories.index\n",
    "repositories_with_setup_py = set(repositories[\n",
    "    repositories[\"setups_count\"] > 0\n",
    "][\"id\"].tolist())\n",
    "repositories_with_requirements_txt = set(repositories[\n",
    "    repositories[\"requirements_count\"] > 0\n",
    "][\"id\"].tolist())\n",
    "repositories_with_pipfile = set(repositories[\n",
    "    (repositories[\"pipfiles_count\"] > 0)\n",
    "    | (repositories[\"pipfile_locks_count\"] > 0)\n",
    "][\"id\"].tolist())\n",
    "repositories_any_dependency = (\n",
    "    repositories_with_setup_py\n",
    "    | repositories_with_requirements_txt\n",
    "    | repositories_with_pipfile\n",
    ")\n",
    "notebooks.fillna(False, inplace=True)\n",
    "fullexec.fillna(False, inplace=True)\n",
    "original_executions = notebooks[\n",
    "    notebooks[\"original_exe_did_not_skip_execution\"]\n",
    "]\n",
    "execorder_executions = notebooks[\n",
    "    notebooks[\"execorder_did_not_skip_execution\"]\n",
    "]\n",
    "topdown_executions = notebooks[\n",
    "    notebooks[\"topdown_did_not_skip_execution\"]\n",
    "]\n",
    "fullexecorder_executions = fullexec[\n",
    "    fullexec[\"fullexecorder_did_not_skip_execution\"]\n",
    "]\n",
    "fulltopdown_executions = fullexec[\n",
    "    fullexec[\"fulltopdown_did_not_skip_execution\"]\n",
    "]\n",
    "filter_execorder = execorder_executions[\n",
    "    ~execorder_executions[\"repository_id\"].isin(repositories_any_dependency)\n",
    "]\n",
    "filter_topdown = topdown_executions[\n",
    "    ~topdown_executions[\"repository_id\"].isin(repositories_any_dependency)\n",
    "]\n",
    "\n",
    "len(fulltopdown_executions), len(fullexec)"
   ]
  },
  {
   "cell_type": "markdown",
   "metadata": {},
   "source": [
    "## Reproducibility distribution"
   ]
  },
  {
   "cell_type": "code",
   "execution_count": 8,
   "metadata": {},
   "outputs": [
    {
     "name": "stdout",
     "output_type": "stream",
     "text": [
      "CPU times: user 1.02 ms, sys: 43 µs, total: 1.07 ms\n",
      "Wall time: 590 µs\n"
     ]
    }
   ],
   "source": [
    "%%time\n",
    "def prepare(mode, norms=[\"_original\", \"_execution_count\", \"_image\"], prefixes=[\"\"], value=lambda: 0):\n",
    "    result = {}\n",
    "    for norm in norms:\n",
    "        for prefix in prefixes:\n",
    "            result[prefix + mode + norm] = value()\n",
    "    return result\n",
    "\n",
    "BINS = 1261\n",
    "bins_arrays = {\n",
    "    key: {\n",
    "        **prepare(\"original\", [\"\"], prefixes=[\"diff_\", \"same_\"], value=lambda: np.zeros(BINS)),\n",
    "        **prepare(\"execorder\", prefixes=[\"diff_\", \"same_\"], value=lambda: np.zeros(BINS)),\n",
    "        **prepare(\"topdown\", prefixes=[\"diff_\", \"same_\"], value=lambda: np.zeros(BINS)),\n",
    "        **prepare(\"fullexecorder\", prefixes=[\"diff_\", \"same_\"], value=lambda: np.zeros(BINS)),\n",
    "        **prepare(\"fulltopdown\", prefixes=[\"diff_\", \"same_\"], value=lambda: np.zeros(BINS)),\n",
    "    } for key, _ in DBMT + [(None, '<deleted>')]\n",
    "}\n",
    "total_counts = {\n",
    "    key: {\n",
    "        **prepare(\"original\", [\"\"]),\n",
    "        **prepare(\"execorder\"),\n",
    "        **prepare(\"topdown\"),\n",
    "        **prepare(\"fullexecorder\"),\n",
    "        **prepare(\"fulltopdown\"),\n",
    "    } for key, _ in DBMT + [(None, '<deleted>')]\n",
    "}\n",
    "diff_counts = {\n",
    "    key: {\n",
    "        **prepare(\"original\", [\"\"]),\n",
    "        **prepare(\"execorder\"),\n",
    "        **prepare(\"topdown\"),\n",
    "        **prepare(\"fullexecorder\"),\n",
    "        **prepare(\"fulltopdown\"),\n",
    "    } for key, _ in DBMT + [(None, '<deleted>')]\n",
    "}\n",
    "mismatch = {\n",
    "    key: {\n",
    "        **prepare(\"original\", [\"\"], value=lambda: []),\n",
    "        **prepare(\"execorder\", value=lambda: []),\n",
    "        **prepare(\"topdown\", value=lambda: []),\n",
    "        **prepare(\"fullexecorder\", value=lambda: []),\n",
    "        **prepare(\"fulltopdown\", value=lambda: []),\n",
    "    } for key, _ in DBMT + [(None, '<deleted>')]\n",
    "}"
   ]
  },
  {
   "cell_type": "code",
   "execution_count": 9,
   "metadata": {},
   "outputs": [],
   "source": [
    "def process_row_mode(mode, selectors, row, mismatch_attr, same_index_attr, diff_index_attr, same_attr, diff_attr):\n",
    "    mismatch_value = getattr(row, mismatch_attr)\n",
    "    same_index_value = getattr(row, same_index_attr)\n",
    "    diff_index_value = getattr(row, diff_index_attr)\n",
    "    same_value = getattr(row, same_attr)\n",
    "    diff_value = getattr(row, diff_attr)\n",
    "    \n",
    "    for selector in selectors:\n",
    "        mismatch[selector][mode].append(mismatch_value)\n",
    "    for selector in selectors:\n",
    "        total_counts[selector][mode] += len(same_index_value) + len(diff_index_value)\n",
    "    for selector in selectors:\n",
    "        diff_counts[selector][mode] += len(diff_index_value)\n",
    "    if len(diff_value) > 1:\n",
    "        for selector in selectors:\n",
    "            bins_arrays[selector]['diff_' + mode] += np.array(diff_value)\n",
    "    if len(same_value) > 1:\n",
    "        for selector in selectors:\n",
    "            bins_arrays[selector]['same_' + mode] += np.array(same_value)\n",
    "\n",
    "def process_selector(row):\n",
    "    selectors = [\"d_\"]\n",
    "    if row.notebook_id in samples[\"notebook_id\"].to_list():\n",
    "        selectors.append(\"sd_\")\n",
    "    elif row.starforks is not None and row.starforks >= threshold:\n",
    "        selectors.append('td_')\n",
    "    return selectors\n",
    "    "
   ]
  },
  {
   "cell_type": "code",
   "execution_count": 10,
   "metadata": {},
   "outputs": [
    {
     "name": "stdout",
     "output_type": "stream",
     "text": [
      "Query Original\n"
     ]
    },
    {
     "ename": "NameError",
     "evalue": "name 'samples' is not defined",
     "output_type": "error",
     "traceback": [
      "\u001b[0;31m---------------------------------------------------------------------------\u001b[0m",
      "\u001b[0;31mNameError\u001b[0m                                 Traceback (most recent call last)",
      "\u001b[0;32m<ipython-input-10-e0816faa05a9>\u001b[0m in \u001b[0;36m<module>\u001b[0;34m\u001b[0m\n\u001b[1;32m     29\u001b[0m         \u001b[0;32mif\u001b[0m \u001b[0mrow\u001b[0m\u001b[0;34m.\u001b[0m\u001b[0mid\u001b[0m \u001b[0;32mnot\u001b[0m \u001b[0;32min\u001b[0m \u001b[0mexecuted_ids\u001b[0m\u001b[0;34m:\u001b[0m\u001b[0;34m\u001b[0m\u001b[0;34m\u001b[0m\u001b[0m\n\u001b[1;32m     30\u001b[0m             \u001b[0;32mcontinue\u001b[0m\u001b[0;34m\u001b[0m\u001b[0;34m\u001b[0m\u001b[0m\n\u001b[0;32m---> 31\u001b[0;31m         \u001b[0mselectors\u001b[0m \u001b[0;34m=\u001b[0m \u001b[0mprocess_selector\u001b[0m\u001b[0;34m(\u001b[0m\u001b[0mrow\u001b[0m\u001b[0;34m)\u001b[0m\u001b[0;34m\u001b[0m\u001b[0;34m\u001b[0m\u001b[0m\n\u001b[0m\u001b[1;32m     32\u001b[0m         \u001b[0mprocess_row_mode\u001b[0m\u001b[0;34m(\u001b[0m\u001b[0;34m\"original\"\u001b[0m\u001b[0;34m,\u001b[0m \u001b[0mselectors\u001b[0m\u001b[0;34m,\u001b[0m \u001b[0mrow\u001b[0m\u001b[0;34m,\u001b[0m \u001b[0;34m\"mismatch\"\u001b[0m\u001b[0;34m,\u001b[0m \u001b[0;34m\"same_index\"\u001b[0m\u001b[0;34m,\u001b[0m \u001b[0;34m\"diff_index\"\u001b[0m\u001b[0;34m,\u001b[0m \u001b[0;34m\"same\"\u001b[0m\u001b[0;34m,\u001b[0m \u001b[0;34m\"diff\"\u001b[0m\u001b[0;34m)\u001b[0m\u001b[0;34m\u001b[0m\u001b[0;34m\u001b[0m\u001b[0m\n",
      "\u001b[0;32m<ipython-input-9-1a7da5ed8190>\u001b[0m in \u001b[0;36mprocess_selector\u001b[0;34m(row)\u001b[0m\n\u001b[1;32m     21\u001b[0m \u001b[0;32mdef\u001b[0m \u001b[0mprocess_selector\u001b[0m\u001b[0;34m(\u001b[0m\u001b[0mrow\u001b[0m\u001b[0;34m)\u001b[0m\u001b[0;34m:\u001b[0m\u001b[0;34m\u001b[0m\u001b[0;34m\u001b[0m\u001b[0m\n\u001b[1;32m     22\u001b[0m     \u001b[0mselectors\u001b[0m \u001b[0;34m=\u001b[0m \u001b[0;34m[\u001b[0m\u001b[0;34m\"d_\"\u001b[0m\u001b[0;34m]\u001b[0m\u001b[0;34m\u001b[0m\u001b[0;34m\u001b[0m\u001b[0m\n\u001b[0;32m---> 23\u001b[0;31m     \u001b[0;32mif\u001b[0m \u001b[0mrow\u001b[0m\u001b[0;34m.\u001b[0m\u001b[0mnotebook_id\u001b[0m \u001b[0;32min\u001b[0m \u001b[0msamples\u001b[0m\u001b[0;34m[\u001b[0m\u001b[0;34m\"notebook_id\"\u001b[0m\u001b[0;34m]\u001b[0m\u001b[0;34m.\u001b[0m\u001b[0mto_list\u001b[0m\u001b[0;34m(\u001b[0m\u001b[0;34m)\u001b[0m\u001b[0;34m:\u001b[0m\u001b[0;34m\u001b[0m\u001b[0;34m\u001b[0m\u001b[0m\n\u001b[0m\u001b[1;32m     24\u001b[0m         \u001b[0mselectors\u001b[0m\u001b[0;34m.\u001b[0m\u001b[0mappend\u001b[0m\u001b[0;34m(\u001b[0m\u001b[0;34m\"sd_\"\u001b[0m\u001b[0;34m)\u001b[0m\u001b[0;34m\u001b[0m\u001b[0;34m\u001b[0m\u001b[0m\n\u001b[1;32m     25\u001b[0m     \u001b[0;32melif\u001b[0m \u001b[0mrow\u001b[0m\u001b[0;34m.\u001b[0m\u001b[0mstarforks\u001b[0m \u001b[0;32mis\u001b[0m \u001b[0;32mnot\u001b[0m \u001b[0;32mNone\u001b[0m \u001b[0;32mand\u001b[0m \u001b[0mrow\u001b[0m\u001b[0;34m.\u001b[0m\u001b[0mstarforks\u001b[0m \u001b[0;34m>=\u001b[0m \u001b[0mthreshold\u001b[0m\u001b[0;34m:\u001b[0m\u001b[0;34m\u001b[0m\u001b[0;34m\u001b[0m\u001b[0m\n",
      "\u001b[0;31mNameError\u001b[0m: name 'samples' is not defined"
     ]
    }
   ],
   "source": [
    "with connect() as session:\n",
    "    print(\"Query Original\")\n",
    "    query = session.execute(\"\"\"\n",
    "        SELECT \n",
    "            n.id, n.id as notebook_id,\n",
    "            m.original_exe_original_mismatch_rate as mismatch,\n",
    "            m.original_exe_original_same_list as same,\n",
    "            m.original_exe_original_diff_list as diff,\n",
    "            m.original_exe_index_original_same_list as same_index,\n",
    "            m.original_exe_index_original_diff_list as diff_index,\n",
    "            n.stargazers, n.forks, n.starforks\n",
    "        FROM notebooks n, notebooks_meta_aggregates m\n",
    "        WHERE NOT (n.kernel = 'no-kernel' AND n.nbformat = '0')\n",
    "        AND n.processed & 15 = 0\n",
    "        AND n.skip & 2048 = 0\n",
    "        AND n.skip & (1024 + 512) = 0\n",
    "        AND n.skip & (1024 + 512 + 128) = 0\n",
    "        AND n.max_execution_count > -0\n",
    "        AND n.processing_cells = 0\n",
    "        AND n.unambiguous = 1\n",
    "        AND n.language = 'python'\n",
    "        AND LEFT(n.language_version, 1) IN ('2', '3')\n",
    "        AND m.notebook_id = n.id\n",
    "    \"\"\")\n",
    "    executed_ids = original_executions[\"id\"].to_list()\n",
    "    \n",
    "    \n",
    "    for row in query:\n",
    "        if row.id not in executed_ids:\n",
    "            continue\n",
    "        selectors = process_selector(row)\n",
    "        process_row_mode(\"original\", selectors, row, \"mismatch\", \"same_index\", \"diff_index\", \"same\", \"diff\")"
   ]
  },
  {
   "cell_type": "code",
   "execution_count": null,
   "metadata": {},
   "outputs": [],
   "source": [
    "%%time\n",
    "with connect() as session:\n",
    "    print(\"Query Exec Order\")\n",
    "    query = session.execute(\"\"\"\n",
    "        SELECT \n",
    "            n.id, n.id as notebook_id,\n",
    "            m.execorder_original_mismatch_rate as mismatch,\n",
    "            m.execorder_original_same_list as same, \n",
    "            m.execorder_original_diff_list as diff,\n",
    "            m.execorder_index_original_same_list as same_index,\n",
    "            m.execorder_index_original_diff_list as diff_index,\n",
    "            m.execorder_execution_count_mismatch_rate as mismatch_ec,\n",
    "            m.execorder_execution_count_same_list as same_ec, \n",
    "            m.execorder_execution_count_diff_list as diff_ec,\n",
    "            m.execorder_index_execution_count_same_list as same_index_ec,\n",
    "            m.execorder_index_execution_count_diff_list as diff_index_ec,\n",
    "            m.execorder_image_mismatch_rate as mismatch_i,\n",
    "            m.execorder_image_same_list as same_i, \n",
    "            m.execorder_image_diff_list as diff_i,\n",
    "            m.execorder_index_image_same_list as same_index_i,\n",
    "            m.execorder_index_image_diff_list as diff_index_i,\n",
    "            n.stargazers, n.forks, n.starforks\n",
    "        FROM notebooks n, notebooks_meta_aggregates m\n",
    "        WHERE NOT (n.kernel = 'no-kernel' AND n.nbformat = '0')\n",
    "        AND n.processed & 15 = 0\n",
    "        AND n.skip & 2048 = 0\n",
    "        AND n.skip & (1024 + 512) = 0\n",
    "        AND n.skip & (1024 + 512 + 128) = 0\n",
    "        AND n.max_execution_count > -0\n",
    "        AND n.processing_cells = 0\n",
    "        AND n.unambiguous = 1\n",
    "        AND n.language = 'python'\n",
    "        AND LEFT(n.language_version, 1) IN ('2', '3')\n",
    "        AND m.notebook_id = n.id\n",
    "    \"\"\")\n",
    "    executed_ids = filter_execorder[\"id\"].to_list()\n",
    "    \n",
    "    \n",
    "    for row in query:\n",
    "        if row.id not in executed_ids:\n",
    "            continue\n",
    "        selectors = process_selector(row)\n",
    "        process_row_mode(\"execorder_original\", selectors, row, \"mismatch\", \"same_index\", \"diff_index\", \"same\", \"diff\")\n",
    "        process_row_mode(\"execorder_execution_count\", selectors, row, \"mismatch_ec\", \"same_index_ec\", \"diff_index_ec\", \"same_ec\", \"diff_ec\")\n",
    "        process_row_mode(\"execorder_image\", selectors, row, \"mismatch_i\", \"same_index_i\", \"diff_index_i\", \"same_i\", \"diff_i\")\n",
    "        \n"
   ]
  },
  {
   "cell_type": "code",
   "execution_count": null,
   "metadata": {},
   "outputs": [],
   "source": [
    "%%time\n",
    "with connect() as session:\n",
    "    print(\"Query Topdown\")\n",
    "    query = session.execute(\"\"\"\n",
    "        SELECT \n",
    "            n.id, n.id as notebook_id,\n",
    "            m.topdown_original_mismatch_rate as mismatch,\n",
    "            m.topdown_original_same_list as same, \n",
    "            m.topdown_original_diff_list as diff,\n",
    "            m.topdown_index_original_same_list as same_index,\n",
    "            m.topdown_index_original_diff_list as diff_index,\n",
    "            m.topdown_execution_count_mismatch_rate as mismatch_ec,\n",
    "            m.topdown_execution_count_same_list as same_ec, \n",
    "            m.topdown_execution_count_diff_list as diff_ec,\n",
    "            m.topdown_index_execution_count_same_list as same_index_ec,\n",
    "            m.topdown_index_execution_count_diff_list as diff_index_ec,\n",
    "            m.topdown_image_mismatch_rate as mismatch_i,\n",
    "            m.topdown_image_same_list as same_i, \n",
    "            m.topdown_image_diff_list as diff_i,\n",
    "            m.topdown_index_image_same_list as same_index_i,\n",
    "            m.topdown_index_image_diff_list as diff_index_i,\n",
    "            n.stargazers, n.forks, n.starforks\n",
    "        FROM notebooks n, notebooks_meta_aggregates m\n",
    "        WHERE NOT (n.kernel = 'no-kernel' AND n.nbformat = '0')\n",
    "        AND n.processed & 15 = 0\n",
    "        AND n.skip & 2048 = 0\n",
    "        AND n.skip & (1024 + 512) = 0\n",
    "        AND n.skip & (1024 + 512 + 128) = 0\n",
    "        AND n.max_execution_count > -0\n",
    "        AND n.processing_cells = 0\n",
    "        AND n.unambiguous = 1\n",
    "        AND n.language = 'python'\n",
    "        AND LEFT(n.language_version, 1) IN ('2', '3')\n",
    "        AND m.notebook_id = n.id\n",
    "    \"\"\")\n",
    "    executed_ids = filter_topdown[\"id\"].to_list()\n",
    "    \n",
    "    \n",
    "    for row in query:\n",
    "        if row.id not in executed_ids:\n",
    "            continue\n",
    "        selectors = process_selector(row)\n",
    "        process_row_mode(\"topdown_original\", selectors, row, \"mismatch\", \"same_index\", \"diff_index\", \"same\", \"diff\")\n",
    "        process_row_mode(\"topdown_execution_count\", selectors, row, \"mismatch_ec\", \"same_index_ec\", \"diff_index_ec\", \"same_ec\", \"diff_ec\")\n",
    "        process_row_mode(\"topdown_image\", selectors, row, \"mismatch_i\", \"same_index_i\", \"diff_index_i\", \"same_i\", \"diff_i\")"
   ]
  },
  {
   "cell_type": "code",
   "execution_count": null,
   "metadata": {},
   "outputs": [],
   "source": [
    "%%time\n",
    "with connect() as session:\n",
    "    print(\"Query Full Exec Order\")\n",
    "    query = session.execute(\"\"\"\n",
    "        SELECT \n",
    "            n.id, n.id as notebook_id,\n",
    "            m.fullexecorder_original_mismatch_rate as mismatch,\n",
    "            m.fullexecorder_original_same_list as same, \n",
    "            m.fullexecorder_original_diff_list as diff,\n",
    "            m.fullexecorder_index_original_same_list as same_index,\n",
    "            m.fullexecorder_index_original_diff_list as diff_index,\n",
    "            m.fullexecorder_execution_count_mismatch_rate as mismatch_ec,\n",
    "            m.fullexecorder_execution_count_same_list as same_ec, \n",
    "            m.fullexecorder_execution_count_diff_list as diff_ec,\n",
    "            m.fullexecorder_index_execution_count_same_list as same_index_ec,\n",
    "            m.fullexecorder_index_execution_count_diff_list as diff_index_ec,\n",
    "            m.fullexecorder_image_mismatch_rate as mismatch_i,\n",
    "            m.fullexecorder_image_same_list as same_i, \n",
    "            m.fullexecorder_image_diff_list as diff_i,\n",
    "            m.fullexecorder_index_image_same_list as same_index_i,\n",
    "            m.fullexecorder_index_image_diff_list as diff_index_i,\n",
    "            n.stargazers, n.forks, n.starforks\n",
    "        FROM notebooks n, notebooks_fullexecmeta_aggregates m\n",
    "        WHERE NOT (n.kernel = 'no-kernel' AND n.nbformat = '0')\n",
    "        AND n.processed & 15 = 0\n",
    "        AND n.skip & 2048 = 0\n",
    "        AND n.skip & (1024 + 512) = 0\n",
    "        AND n.skip & (1024 + 512 + 128) = 0\n",
    "        AND n.max_execution_count > -0\n",
    "        AND n.processing_cells = 0\n",
    "        AND n.unambiguous = 1\n",
    "        AND n.language = 'python'\n",
    "        AND LEFT(n.language_version, 1) IN ('2', '3')\n",
    "        AND m.notebook_id = n.id\n",
    "    \"\"\")\n",
    "    executed_ids = fullexecorder_executions[\"id\"].to_list()\n",
    "    \n",
    "    \n",
    "    for row in query:\n",
    "        if row.id not in executed_ids:\n",
    "            continue\n",
    "        selectors = process_selector(row)\n",
    "        process_row_mode(\"fullexecorder_original\", selectors, row, \"mismatch\", \"same_index\", \"diff_index\", \"same\", \"diff\")\n",
    "        process_row_mode(\"fullexecorder_execution_count\", selectors, row, \"mismatch_ec\", \"same_index_ec\", \"diff_index_ec\", \"same_ec\", \"diff_ec\")\n",
    "        process_row_mode(\"fullexecorder_image\", selectors, row, \"mismatch_i\", \"same_index_i\", \"diff_index_i\", \"same_i\", \"diff_i\")"
   ]
  },
  {
   "cell_type": "code",
   "execution_count": null,
   "metadata": {},
   "outputs": [],
   "source": [
    "%%time\n",
    "with connect() as session:\n",
    "    print(\"Query Full Topdown\")\n",
    "    query = session.execute(\"\"\"\n",
    "        SELECT \n",
    "            n.id, n.id as notebook_id,\n",
    "            m.fulltopdown_original_mismatch_rate as mismatch,\n",
    "            m.fulltopdown_original_same_list as same, \n",
    "            m.fulltopdown_original_diff_list as diff,\n",
    "            m.fulltopdown_index_original_same_list as same_index,\n",
    "            m.fulltopdown_index_original_diff_list as diff_index,\n",
    "            m.fulltopdown_execution_count_mismatch_rate as mismatch_ec,\n",
    "            m.fulltopdown_execution_count_same_list as same_ec, \n",
    "            m.fulltopdown_execution_count_diff_list as diff_ec,\n",
    "            m.fulltopdown_index_execution_count_same_list as same_index_ec,\n",
    "            m.fulltopdown_index_execution_count_diff_list as diff_index_ec,\n",
    "            m.fulltopdown_image_mismatch_rate as mismatch_i,\n",
    "            m.fulltopdown_image_same_list as same_i, \n",
    "            m.fulltopdown_image_diff_list as diff_i,\n",
    "            m.fulltopdown_index_image_same_list as same_index_i,\n",
    "            m.fulltopdown_index_image_diff_list as diff_index_i,\n",
    "            n.stargazers, n.forks, n.starforks\n",
    "        FROM notebooks n, notebooks_fullexecmeta_aggregates m\n",
    "        WHERE NOT (n.kernel = 'no-kernel' AND n.nbformat = '0')\n",
    "        AND n.processed & 15 = 0\n",
    "        AND n.skip & 2048 = 0\n",
    "        AND n.skip & (1024 + 512) = 0\n",
    "        AND n.skip & (1024 + 512 + 128) = 0\n",
    "        AND n.max_execution_count > -0\n",
    "        AND n.processing_cells = 0\n",
    "        AND n.unambiguous = 1\n",
    "        AND n.language = 'python'\n",
    "        AND LEFT(n.language_version, 1) IN ('2', '3')\n",
    "        AND m.notebook_id = n.id\n",
    "    \"\"\")\n",
    "    executed_ids = fulltopdown_executions[\"id\"].to_list()\n",
    "    \n",
    "    \n",
    "    for row in query:\n",
    "        if row.id not in executed_ids:\n",
    "            continue\n",
    "        selectors = process_selector(row)\n",
    "        process_row_mode(\"fulltopdown_original\", selectors, row, \"mismatch\", \"same_index\", \"diff_index\", \"same\", \"diff\")\n",
    "        process_row_mode(\"fulltopdown_execution_count\", selectors, row, \"mismatch_ec\", \"same_index_ec\", \"diff_index_ec\", \"same_ec\", \"diff_ec\")\n",
    "        process_row_mode(\"fulltopdown_image\", selectors, row, \"mismatch_i\", \"same_index_i\", \"diff_index_i\", \"same_i\", \"diff_i\")\n",
    "            "
   ]
  },
  {
   "cell_type": "markdown",
   "metadata": {},
   "source": [
    "## Repro diff comparison"
   ]
  },
  {
   "cell_type": "markdown",
   "metadata": {},
   "source": [
    "### Original"
   ]
  },
  {
   "cell_type": "code",
   "execution_count": null,
   "metadata": {},
   "outputs": [],
   "source": [
    "select = [\"same_original\", \"diff_original\"]\n",
    "\n",
    "def original_exe_repro_diff_comparison(bins_arrays, prefix):\n",
    "    with cell_distribution(prefix + \"a6_original_exe_repro_diff_comparison\", 6, 2, select, BINS - 1, bins_arrays, figf=fig) as ax:\n",
    "        ax.annotate(\"different result\", xy=(610, 85), color=\"white\", weight=\"bold\")\n",
    "        ax.annotate(\"same result\", xy=(30, 20), color=\"white\", weight=\"bold\")\n",
    "        #ax.set_xticklabels([\"First\", \"Middle\", \"Last\"])\n",
    "        #ax.set_xlabel(\"Execution Counter Order\")\n",
    "group_run([bins_arrays[prefix] for prefix, _ in DBMT], DBMT, original_exe_repro_diff_comparison);"
   ]
  },
  {
   "cell_type": "markdown",
   "metadata": {},
   "source": [
    "### Exec. Order - Original"
   ]
  },
  {
   "cell_type": "code",
   "execution_count": null,
   "metadata": {},
   "outputs": [],
   "source": [
    "select = [\"same_execorder_original\", \"diff_execorder_original\"]\n",
    "\n",
    "def execorder_execution_count_repro_diff_comparison(bins_arrays, prefix):\n",
    "    with cell_distribution(prefix + \"a6_execorder_original_repro_diff_comparison\", 6, 2, select, BINS - 1, bins_arrays, figf=fig) as ax:\n",
    "        ax.annotate(\"different result\", xy=(610, 85), color=\"white\", weight=\"bold\")\n",
    "        ax.annotate(\"same result\", xy=(30, 20), color=\"white\", weight=\"bold\")\n",
    "        #ax.set_xticklabels([\"First\", \"Middle\", \"Last\"])\n",
    "        #ax.set_xlabel(\"Execution Counter Order\")\n",
    "\n",
    "group_run([bins_arrays[prefix] for prefix, _ in DBMT], DBMT, execorder_execution_count_repro_diff_comparison);"
   ]
  },
  {
   "cell_type": "markdown",
   "metadata": {},
   "source": [
    "### Exec. Order - Execution Counter Normalization"
   ]
  },
  {
   "cell_type": "code",
   "execution_count": null,
   "metadata": {},
   "outputs": [],
   "source": [
    "select = [\"same_execorder_execution_count\", \"diff_execorder_execution_count\"]\n",
    "\n",
    "def execorder_execution_count_repro_diff_comparison(bins_arrays, prefix):\n",
    "    with cell_distribution(prefix + \"a6_execorder_execution_count_repro_diff_comparison\", 6, 2, select, BINS - 1, bins_arrays, figf=fig) as ax:\n",
    "        ax.annotate(\"different result\", xy=(610, 85), color=\"white\", weight=\"bold\")\n",
    "        ax.annotate(\"same result\", xy=(30, 20), color=\"white\", weight=\"bold\")\n",
    "        #ax.set_xticklabels([\"First\", \"Middle\", \"Last\"])\n",
    "        #ax.set_xlabel(\"Execution Counter Order\")\n",
    "\n",
    "group_run([bins_arrays[prefix] for prefix, _ in DBMT], DBMT, execorder_execution_count_repro_diff_comparison);"
   ]
  },
  {
   "cell_type": "markdown",
   "metadata": {},
   "source": [
    "### Exec. Order - Image Normalization"
   ]
  },
  {
   "cell_type": "code",
   "execution_count": null,
   "metadata": {},
   "outputs": [],
   "source": [
    "select = [\"same_execorder_image\", \"diff_execorder_image\"]\n",
    "\n",
    "def execorder_image_repro_diff_comparison(bins_arrays, prefix):\n",
    "    with cell_distribution(prefix + \"a6_execorder_image_repro_diff_comparison\", 6, 2, select, BINS - 1, bins_arrays, figf=fig) as ax:\n",
    "        ax.annotate(\"different result\", xy=(610, 85), color=\"white\", weight=\"bold\")\n",
    "        ax.annotate(\"same result\", xy=(30, 20), color=\"white\", weight=\"bold\")\n",
    "        #ax.set_xticklabels([\"First\", \"Middle\", \"Last\"])\n",
    "        #ax.set_xlabel(\"Execution Counter Order\")\n",
    "group_run([bins_arrays[prefix] for prefix, _ in DBMT], DBMT, execorder_image_repro_diff_comparison);"
   ]
  },
  {
   "cell_type": "markdown",
   "metadata": {},
   "source": [
    "### Top Down - Original"
   ]
  },
  {
   "cell_type": "code",
   "execution_count": null,
   "metadata": {},
   "outputs": [],
   "source": [
    "select = [\"same_topdown_original\", \"diff_topdown_original\"]\n",
    "\n",
    "def topdown_execution_count_repro_diff_comparison(bins_arrays, prefix):\n",
    "    with cell_distribution(prefix + \"a6_topdown_original_repro_diff_comparison\", 6, 2, select, BINS - 1, bins_arrays, figf=fig) as ax:\n",
    "        ax.annotate(\"different result\", xy=(610, 85), color=\"white\", weight=\"bold\")\n",
    "        ax.annotate(\"same result\", xy=(30, 20), color=\"white\", weight=\"bold\")\n",
    "        #ax.set_xticklabels([\"First\", \"Middle\", \"Last\"])\n",
    "        #ax.set_xlabel(\"Execution Counter Order\")\n",
    "group_run([bins_arrays[prefix] for prefix, _ in DBMT], DBMT, topdown_execution_count_repro_diff_comparison);"
   ]
  },
  {
   "cell_type": "markdown",
   "metadata": {},
   "source": [
    "### Top Down - Execution Counter Normalization"
   ]
  },
  {
   "cell_type": "code",
   "execution_count": null,
   "metadata": {},
   "outputs": [],
   "source": [
    "select = [\"same_topdown_execution_count\", \"diff_topdown_execution_count\"]\n",
    "\n",
    "def topdown_execution_count_repro_diff_comparison(bins_arrays, prefix):\n",
    "    with cell_distribution(prefix + \"a6_topdown_execution_count_repro_diff_comparison\", 6, 2, select, BINS - 1, bins_arrays, figf=fig) as ax:\n",
    "        ax.annotate(\"different result\", xy=(610, 85), color=\"white\", weight=\"bold\")\n",
    "        ax.annotate(\"same result\", xy=(30, 20), color=\"white\", weight=\"bold\")\n",
    "        #ax.set_xticklabels([\"First\", \"Middle\", \"Last\"])\n",
    "        #ax.set_xlabel(\"Execution Counter Order\")\n",
    "group_run([bins_arrays[prefix] for prefix, _ in DBMT], DBMT, topdown_execution_count_repro_diff_comparison);"
   ]
  },
  {
   "cell_type": "markdown",
   "metadata": {},
   "source": [
    "### Top Down - Image Normalization"
   ]
  },
  {
   "cell_type": "code",
   "execution_count": null,
   "metadata": {},
   "outputs": [],
   "source": [
    "select = [\"same_topdown_image\", \"diff_topdown_image\"]\n",
    "\n",
    "def topdown_image_repro_diff_comparison(bins_arrays, prefix):\n",
    "    with cell_distribution(prefix + \"a6_topdown_image_repro_diff_comparison\", 6, 2, select, BINS - 1, bins_arrays, figf=fig) as ax:\n",
    "        ax.annotate(\"different result\", xy=(610, 85), color=\"white\", weight=\"bold\")\n",
    "        ax.annotate(\"same result\", xy=(30, 20), color=\"white\", weight=\"bold\")\n",
    "        #ax.set_xticklabels([\"First\", \"Middle\", \"Last\"])\n",
    "        #ax.set_xlabel(\"Execution Counter Order\")\n",
    "\n",
    "group_run([bins_arrays[prefix] for prefix, _ in DBMT], DBMT, topdown_image_repro_diff_comparison);"
   ]
  },
  {
   "cell_type": "markdown",
   "metadata": {},
   "source": [
    "### Bloated Exec Order - Original"
   ]
  },
  {
   "cell_type": "code",
   "execution_count": null,
   "metadata": {},
   "outputs": [],
   "source": [
    "select = [\"same_fullexecorder_original\", \"diff_fullexecorder_original\"]\n",
    "\n",
    "def fullexecorder_execution_count_repro_diff_comparison(bins_arrays, prefix):\n",
    "    with cell_distribution(prefix + \"a6_fullexecorder_original_repro_diff_comparison\", 6, 2, select, BINS - 1, bins_arrays, figf=fig) as ax:\n",
    "        ax.annotate(\"different result\", xy=(610, 85), color=\"white\", weight=\"bold\")\n",
    "        ax.annotate(\"same result\", xy=(30, 20), color=\"white\", weight=\"bold\")\n",
    "        #ax.set_xticklabels([\"First\", \"Middle\", \"Last\"])\n",
    "        #ax.set_xlabel(\"Execution Counter Order\")\n",
    "group_run([bins_arrays[prefix] for prefix, _ in DBMT], DBMT, fullexecorder_execution_count_repro_diff_comparison);"
   ]
  },
  {
   "cell_type": "markdown",
   "metadata": {},
   "source": [
    "### Bloated Exec Order - Execution Counter Normalization"
   ]
  },
  {
   "cell_type": "code",
   "execution_count": null,
   "metadata": {},
   "outputs": [],
   "source": [
    "select = [\"same_fullexecorder_execution_count\", \"diff_fullexecorder_execution_count\"]\n",
    "\n",
    "def fullexecorder_execution_count_repro_diff_comparison(bins_arrays, prefix):\n",
    "    with cell_distribution(prefix + \"a6_fullexecorder_execution_count_repro_diff_comparison\", 6, 2, select, BINS - 1, bins_arrays, figf=fig) as ax:\n",
    "        ax.annotate(\"different result\", xy=(610, 85), color=\"white\", weight=\"bold\")\n",
    "        ax.annotate(\"same result\", xy=(30, 20), color=\"white\", weight=\"bold\")\n",
    "        #ax.set_xticklabels([\"First\", \"Middle\", \"Last\"])\n",
    "        #ax.set_xlabel(\"Execution Counter Order\")\n",
    "group_run([bins_arrays[prefix] for prefix, _ in DBMT], DBMT, fullexecorder_execution_count_repro_diff_comparison);"
   ]
  },
  {
   "cell_type": "markdown",
   "metadata": {},
   "source": [
    "### Bloated Exec Order - Image Normalization"
   ]
  },
  {
   "cell_type": "code",
   "execution_count": null,
   "metadata": {},
   "outputs": [],
   "source": [
    "select = [\"same_fullexecorder_image\", \"diff_fullexecorder_image\"]\n",
    "\n",
    "def fullexecorder_image_repro_diff_comparison(bins_arrays, prefix):\n",
    "    with cell_distribution(prefix + \"a6_fullexecorder_image_repro_diff_comparison\", 6, 2, select, BINS - 1, bins_arrays, figf=fig) as ax:\n",
    "        ax.annotate(\"different result\", xy=(610, 85), color=\"white\", weight=\"bold\")\n",
    "        ax.annotate(\"same result\", xy=(30, 20), color=\"white\", weight=\"bold\")\n",
    "        #ax.set_xticklabels([\"First\", \"Middle\", \"Last\"])\n",
    "        #ax.set_xlabel(\"Execution Counter Order\")\n",
    "group_run([bins_arrays[prefix] for prefix, _ in DBMT], DBMT, fullexecorder_image_repro_diff_comparison);"
   ]
  },
  {
   "cell_type": "markdown",
   "metadata": {},
   "source": [
    "### Bloated Top Down - Original"
   ]
  },
  {
   "cell_type": "code",
   "execution_count": null,
   "metadata": {},
   "outputs": [],
   "source": [
    "select = [\"same_fulltopdown_original\", \"diff_fulltopdown_original\"]\n",
    "\n",
    "def fulltopdown_execution_count_repro_diff_comparison(bins_arrays, prefix):\n",
    "    with cell_distribution(prefix + \"a6_fulltopdown_original_repro_diff_comparison\", 6, 2, select, BINS - 1, bins_arrays, figf=fig) as ax:\n",
    "        ax.annotate(\"different result\", xy=(610, 85), color=\"white\", weight=\"bold\")\n",
    "        ax.annotate(\"same result\", xy=(30, 20), color=\"white\", weight=\"bold\")\n",
    "        #ax.set_xticklabels([\"First\", \"Middle\", \"Last\"])\n",
    "        #ax.set_xlabel(\"Execution Counter Order\")\n",
    "group_run([bins_arrays[prefix] for prefix, _ in DBMT], DBMT, fulltopdown_execution_count_repro_diff_comparison);"
   ]
  },
  {
   "cell_type": "markdown",
   "metadata": {},
   "source": [
    "### Bloated Top Down - Execution Counter Normalization"
   ]
  },
  {
   "cell_type": "code",
   "execution_count": null,
   "metadata": {},
   "outputs": [],
   "source": [
    "select = [\"same_fulltopdown_execution_count\", \"diff_fulltopdown_execution_count\"]\n",
    "\n",
    "def fulltopdown_execution_count_repro_diff_comparison(bins_arrays, prefix):\n",
    "    with cell_distribution(prefix + \"a6_fulltopdown_execution_count_repro_diff_comparison\", 6, 2, select, BINS - 1, bins_arrays, figf=fig) as ax:\n",
    "        ax.annotate(\"different result\", xy=(610, 85), color=\"white\", weight=\"bold\")\n",
    "        ax.annotate(\"same result\", xy=(30, 20), color=\"white\", weight=\"bold\")\n",
    "        #ax.set_xticklabels([\"First\", \"Middle\", \"Last\"])\n",
    "        #ax.set_xlabel(\"Execution Counter Order\")\n",
    "group_run([bins_arrays[prefix] for prefix, _ in DBMT], DBMT, fulltopdown_execution_count_repro_diff_comparison);"
   ]
  },
  {
   "cell_type": "markdown",
   "metadata": {},
   "source": [
    "### Bloated Top Down - Image Normalization"
   ]
  },
  {
   "cell_type": "code",
   "execution_count": null,
   "metadata": {},
   "outputs": [],
   "source": [
    "select = [\"same_fulltopdown_image\", \"diff_fulltopdown_image\"]\n",
    "\n",
    "def fulltopdown_execution_count_repro_diff_comparison(bins_arrays, prefix):\n",
    "    with cell_distribution(prefix + \"a6_fulltopdown_image_repro_diff_comparison\", 6, 2, select, BINS - 1, bins_arrays, figf=fig) as ax:\n",
    "        ax.annotate(\"different result\", xy=(610, 85), color=\"white\", weight=\"bold\")\n",
    "        ax.annotate(\"same result\", xy=(30, 20), color=\"white\", weight=\"bold\")\n",
    "        #ax.set_xticklabels([\"First\", \"Middle\", \"Last\"])\n",
    "        #ax.set_xlabel(\"Execution Counter Order\")\n",
    "group_run([bins_arrays[prefix] for prefix, _ in DBMT], DBMT, fulltopdown_execution_count_repro_diff_comparison);"
   ]
  },
  {
   "cell_type": "markdown",
   "metadata": {},
   "source": [
    "Other execution analyses available at A6.RQ7"
   ]
  }
 ],
 "metadata": {
  "julynter-results": {
   "filteredId": [],
   "filteredIndividual": [],
   "filteredRestart": [],
   "filteredType": [],
   "hash": "670e3af9f17e58ff46ae72befc45cebcc7bdd399",
   "visible": [
    {
     "cellId": "group",
     "hash": "19d3d3d153f22e318cbe061df9e685ba5165b0aa",
     "reason": "This groups other lint messages",
     "reportId": "group",
     "reportType": "confusenotebook",
     "suggestion": null,
     "text": "Confuse Notebook"
    },
    {
     "cellId": 0,
     "hash": "899ec8a90586b8e219277cd53c49335ca04ef26a",
     "reason": "A markdown cell at the beginning of the notebook can provide a human-friendly title with no constraints and introduce the notebook, indicating its purpose and external requirements.",
     "reportId": "c4",
     "reportType": "confusenotebook",
     "suggestion": "Please consider adding a markdown cell to describe the notebook.",
     "text": "The first cell of the notebook is not a markdown cell"
    },
    {
     "cellId": "group",
     "hash": "d6fbc9d2bdd580e18ed0bc5805dc26db323d6f5f",
     "reason": "This groups other lint messages",
     "reportId": "group",
     "reportType": "import",
     "suggestion": null,
     "text": "Import"
    },
    {
     "cellId": 0,
     "hash": "d95a30ee0afa33f4c43051d60d1df7d6996c1f0b",
     "reason": "Using a requirements file with pinned versions for all imported modules increases the reproducibility of the notebook.",
     "reportId": "i2",
     "reportType": "import",
     "suggestion": "Please consider adding them to guarantee the reproducibility.",
     "text": "Module dask was imported by Cell 0, but it is not in the requirements file"
    },
    {
     "cellId": 0,
     "hash": "760b9522f04b9e71efa2943724de9823e1055c3f",
     "reason": "Using a requirements file with pinned versions for all imported modules increases the reproducibility of the notebook.",
     "reportId": "i2",
     "reportType": "import",
     "suggestion": "Please consider adding them to guarantee the reproducibility.",
     "text": "Module numba was imported by Cell 0, but it is not in the requirements file"
    },
    {
     "cellId": 0,
     "hash": "a695db70723baf3dd665e85677378876794cbd8b",
     "reason": "Using a requirements file with pinned versions for all imported modules increases the reproducibility of the notebook.",
     "reportId": "i2",
     "reportType": "import",
     "suggestion": "Please consider adding them to guarantee the reproducibility.",
     "text": "Module sqlalchemy was imported by Cell 0, but it is not in the requirements file"
    }
   ]
  },
  "kernelspec": {
   "display_name": "Python 3",
   "language": "python",
   "name": "python3"
  },
  "language_info": {
   "codemirror_mode": {
    "name": "ipython",
    "version": 3
   },
   "file_extension": ".py",
   "mimetype": "text/x-python",
   "name": "python",
   "nbconvert_exporter": "python",
   "pygments_lexer": "ipython3",
   "version": "3.7.3"
  }
 },
 "nbformat": 4,
 "nbformat_minor": 4
}
